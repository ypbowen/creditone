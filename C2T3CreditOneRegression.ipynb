{
 "cells": [
  {
   "cell_type": "code",
   "execution_count": 1,
   "id": "032f06ba",
   "metadata": {},
   "outputs": [],
   "source": [
    "from sqlalchemy import create_engine\n",
    "import pymysql\n",
    "import openpyxl\n",
    "import pandas as pd\n",
    "import numpy as np\n",
    "import pandas as pd\n",
    "from pandas import Series, DataFrame\n",
    "from math import sqrt\n",
    "import matplotlib as mpl\n",
    "import matplotlib.pyplot as plt\n",
    "import pandas_profiling\n",
    "import sklearn\n",
    "import seaborn as sns\n",
    "\n",
    "\n",
    "#SKlearn Stuff\n",
    "from sklearn.svm import LinearSVR\n",
    "from sklearn.ensemble import RandomForestRegressor\n",
    "\n",
    "from sklearn.linear_model import LinearRegression\n",
    "from sklearn.model_selection import train_test_split\n",
    "from sklearn.metrics import accuracy_score, classification_report\n",
    "from sklearn.ensemble import RandomForestClassifier, GradientBoostingClassifier\n",
    "from sklearn.tree import DecisionTreeClassifier\n",
    "from sklearn.model_selection import cross_val_score\n",
    "from sklearn.datasets import load_digits\n",
    "from sklearn.tree import export_text\n",
    "from sklearn.model_selection import cross_val_score\n",
    "from sklearn import linear_model\n",
    "from sklearn.metrics import mean_squared_error\n",
    "from sklearn.metrics import r2_score\n",
    "from sklearn.svm import SVR\n",
    "#helpers\n",
    "%matplotlib inline"
   ]
  },
  {
   "cell_type": "code",
   "execution_count": 2,
   "id": "1de18927",
   "metadata": {},
   "outputs": [
    {
     "data": {
      "text/html": [
       "<div>\n",
       "<style scoped>\n",
       "    .dataframe tbody tr th:only-of-type {\n",
       "        vertical-align: middle;\n",
       "    }\n",
       "\n",
       "    .dataframe tbody tr th {\n",
       "        vertical-align: top;\n",
       "    }\n",
       "\n",
       "    .dataframe thead th {\n",
       "        text-align: right;\n",
       "    }\n",
       "</style>\n",
       "<table border=\"1\" class=\"dataframe\">\n",
       "  <thead>\n",
       "    <tr style=\"text-align: right;\">\n",
       "      <th></th>\n",
       "      <th>ID</th>\n",
       "      <th>LIMIT_BAL</th>\n",
       "      <th>SEX</th>\n",
       "      <th>EDUCATION</th>\n",
       "      <th>MARRIAGE</th>\n",
       "      <th>AGE</th>\n",
       "      <th>PAY_0</th>\n",
       "      <th>PAY_2</th>\n",
       "      <th>PAY_3</th>\n",
       "      <th>PAY_4</th>\n",
       "      <th>...</th>\n",
       "      <th>BILL_AMT4</th>\n",
       "      <th>BILL_AMT5</th>\n",
       "      <th>BILL_AMT6</th>\n",
       "      <th>PAY_AMT1</th>\n",
       "      <th>PAY_AMT2</th>\n",
       "      <th>PAY_AMT3</th>\n",
       "      <th>PAY_AMT4</th>\n",
       "      <th>PAY_AMT5</th>\n",
       "      <th>PAY_AMT6</th>\n",
       "      <th>default payment next month</th>\n",
       "    </tr>\n",
       "  </thead>\n",
       "  <tbody>\n",
       "    <tr>\n",
       "      <th>0</th>\n",
       "      <td>1</td>\n",
       "      <td>20000</td>\n",
       "      <td>female</td>\n",
       "      <td>university</td>\n",
       "      <td>1</td>\n",
       "      <td>24</td>\n",
       "      <td>2</td>\n",
       "      <td>2</td>\n",
       "      <td>-1</td>\n",
       "      <td>-1</td>\n",
       "      <td>...</td>\n",
       "      <td>0</td>\n",
       "      <td>0</td>\n",
       "      <td>0</td>\n",
       "      <td>0</td>\n",
       "      <td>689</td>\n",
       "      <td>0</td>\n",
       "      <td>0</td>\n",
       "      <td>0</td>\n",
       "      <td>0</td>\n",
       "      <td>default</td>\n",
       "    </tr>\n",
       "    <tr>\n",
       "      <th>1</th>\n",
       "      <td>2</td>\n",
       "      <td>120000</td>\n",
       "      <td>female</td>\n",
       "      <td>university</td>\n",
       "      <td>2</td>\n",
       "      <td>26</td>\n",
       "      <td>-1</td>\n",
       "      <td>2</td>\n",
       "      <td>0</td>\n",
       "      <td>0</td>\n",
       "      <td>...</td>\n",
       "      <td>3272</td>\n",
       "      <td>3455</td>\n",
       "      <td>3261</td>\n",
       "      <td>0</td>\n",
       "      <td>1000</td>\n",
       "      <td>1000</td>\n",
       "      <td>1000</td>\n",
       "      <td>0</td>\n",
       "      <td>2000</td>\n",
       "      <td>default</td>\n",
       "    </tr>\n",
       "    <tr>\n",
       "      <th>2</th>\n",
       "      <td>3</td>\n",
       "      <td>90000</td>\n",
       "      <td>female</td>\n",
       "      <td>university</td>\n",
       "      <td>2</td>\n",
       "      <td>34</td>\n",
       "      <td>0</td>\n",
       "      <td>0</td>\n",
       "      <td>0</td>\n",
       "      <td>0</td>\n",
       "      <td>...</td>\n",
       "      <td>14331</td>\n",
       "      <td>14948</td>\n",
       "      <td>15549</td>\n",
       "      <td>1518</td>\n",
       "      <td>1500</td>\n",
       "      <td>1000</td>\n",
       "      <td>1000</td>\n",
       "      <td>1000</td>\n",
       "      <td>5000</td>\n",
       "      <td>not default</td>\n",
       "    </tr>\n",
       "    <tr>\n",
       "      <th>3</th>\n",
       "      <td>4</td>\n",
       "      <td>50000</td>\n",
       "      <td>female</td>\n",
       "      <td>university</td>\n",
       "      <td>1</td>\n",
       "      <td>37</td>\n",
       "      <td>0</td>\n",
       "      <td>0</td>\n",
       "      <td>0</td>\n",
       "      <td>0</td>\n",
       "      <td>...</td>\n",
       "      <td>28314</td>\n",
       "      <td>28959</td>\n",
       "      <td>29547</td>\n",
       "      <td>2000</td>\n",
       "      <td>2019</td>\n",
       "      <td>1200</td>\n",
       "      <td>1100</td>\n",
       "      <td>1069</td>\n",
       "      <td>1000</td>\n",
       "      <td>not default</td>\n",
       "    </tr>\n",
       "    <tr>\n",
       "      <th>4</th>\n",
       "      <td>5</td>\n",
       "      <td>50000</td>\n",
       "      <td>male</td>\n",
       "      <td>university</td>\n",
       "      <td>1</td>\n",
       "      <td>57</td>\n",
       "      <td>-1</td>\n",
       "      <td>0</td>\n",
       "      <td>-1</td>\n",
       "      <td>0</td>\n",
       "      <td>...</td>\n",
       "      <td>20940</td>\n",
       "      <td>19146</td>\n",
       "      <td>19131</td>\n",
       "      <td>2000</td>\n",
       "      <td>36681</td>\n",
       "      <td>10000</td>\n",
       "      <td>9000</td>\n",
       "      <td>689</td>\n",
       "      <td>679</td>\n",
       "      <td>not default</td>\n",
       "    </tr>\n",
       "  </tbody>\n",
       "</table>\n",
       "<p>5 rows × 25 columns</p>\n",
       "</div>"
      ],
      "text/plain": [
       "   ID  LIMIT_BAL     SEX   EDUCATION  MARRIAGE  AGE  PAY_0  PAY_2  PAY_3  \\\n",
       "0   1      20000  female  university         1   24      2      2     -1   \n",
       "1   2     120000  female  university         2   26     -1      2      0   \n",
       "2   3      90000  female  university         2   34      0      0      0   \n",
       "3   4      50000  female  university         1   37      0      0      0   \n",
       "4   5      50000    male  university         1   57     -1      0     -1   \n",
       "\n",
       "   PAY_4  ...  BILL_AMT4  BILL_AMT5  BILL_AMT6  PAY_AMT1  PAY_AMT2  PAY_AMT3  \\\n",
       "0     -1  ...          0          0          0         0       689         0   \n",
       "1      0  ...       3272       3455       3261         0      1000      1000   \n",
       "2      0  ...      14331      14948      15549      1518      1500      1000   \n",
       "3      0  ...      28314      28959      29547      2000      2019      1200   \n",
       "4      0  ...      20940      19146      19131      2000     36681     10000   \n",
       "\n",
       "   PAY_AMT4  PAY_AMT5  PAY_AMT6  default payment next month  \n",
       "0         0         0         0                     default  \n",
       "1      1000         0      2000                     default  \n",
       "2      1000      1000      5000                 not default  \n",
       "3      1100      1069      1000                 not default  \n",
       "4      9000       689       679                 not default  \n",
       "\n",
       "[5 rows x 25 columns]"
      ]
     },
     "execution_count": 2,
     "metadata": {},
     "output_type": "execute_result"
    }
   ],
   "source": [
    "credit = pd.read_csv('creditT3.csv')\n",
    "credit.head()"
   ]
  },
  {
   "cell_type": "code",
   "execution_count": 3,
   "id": "12baa331",
   "metadata": {},
   "outputs": [
    {
     "name": "stdout",
     "output_type": "stream",
     "text": [
      "<class 'pandas.core.frame.DataFrame'>\n",
      "RangeIndex: 30201 entries, 0 to 30200\n",
      "Data columns (total 25 columns):\n",
      " #   Column                      Non-Null Count  Dtype \n",
      "---  ------                      --------------  ----- \n",
      " 0   ID                          30201 non-null  int64 \n",
      " 1   LIMIT_BAL                   30201 non-null  int64 \n",
      " 2   SEX                         30201 non-null  object\n",
      " 3   EDUCATION                   30201 non-null  object\n",
      " 4   MARRIAGE                    30201 non-null  int64 \n",
      " 5   AGE                         30201 non-null  int64 \n",
      " 6   PAY_0                       30201 non-null  int64 \n",
      " 7   PAY_2                       30201 non-null  int64 \n",
      " 8   PAY_3                       30201 non-null  int64 \n",
      " 9   PAY_4                       30201 non-null  int64 \n",
      " 10  PAY_5                       30201 non-null  int64 \n",
      " 11  PAY_6                       30201 non-null  int64 \n",
      " 12  BILL_AMT1                   30201 non-null  int64 \n",
      " 13  BILL_AMT2                   30201 non-null  int64 \n",
      " 14  BILL_AMT3                   30201 non-null  int64 \n",
      " 15  BILL_AMT4                   30201 non-null  int64 \n",
      " 16  BILL_AMT5                   30201 non-null  int64 \n",
      " 17  BILL_AMT6                   30201 non-null  int64 \n",
      " 18  PAY_AMT1                    30201 non-null  int64 \n",
      " 19  PAY_AMT2                    30201 non-null  int64 \n",
      " 20  PAY_AMT3                    30201 non-null  int64 \n",
      " 21  PAY_AMT4                    30201 non-null  int64 \n",
      " 22  PAY_AMT5                    30201 non-null  int64 \n",
      " 23  PAY_AMT6                    30201 non-null  int64 \n",
      " 24  default payment next month  30201 non-null  object\n",
      "dtypes: int64(22), object(3)\n",
      "memory usage: 5.8+ MB\n"
     ]
    }
   ],
   "source": [
    "credit.info()"
   ]
  },
  {
   "cell_type": "code",
   "execution_count": 4,
   "id": "a1bbb507",
   "metadata": {},
   "outputs": [],
   "source": [
    "credit = pd.get_dummies(credit)"
   ]
  },
  {
   "cell_type": "code",
   "execution_count": 5,
   "id": "ba804dbc",
   "metadata": {},
   "outputs": [
    {
     "name": "stdout",
     "output_type": "stream",
     "text": [
      "<class 'pandas.core.frame.DataFrame'>\n",
      "RangeIndex: 30201 entries, 0 to 30200\n",
      "Data columns (total 30 columns):\n",
      " #   Column                                  Non-Null Count  Dtype\n",
      "---  ------                                  --------------  -----\n",
      " 0   ID                                      30201 non-null  int64\n",
      " 1   LIMIT_BAL                               30201 non-null  int64\n",
      " 2   MARRIAGE                                30201 non-null  int64\n",
      " 3   AGE                                     30201 non-null  int64\n",
      " 4   PAY_0                                   30201 non-null  int64\n",
      " 5   PAY_2                                   30201 non-null  int64\n",
      " 6   PAY_3                                   30201 non-null  int64\n",
      " 7   PAY_4                                   30201 non-null  int64\n",
      " 8   PAY_5                                   30201 non-null  int64\n",
      " 9   PAY_6                                   30201 non-null  int64\n",
      " 10  BILL_AMT1                               30201 non-null  int64\n",
      " 11  BILL_AMT2                               30201 non-null  int64\n",
      " 12  BILL_AMT3                               30201 non-null  int64\n",
      " 13  BILL_AMT4                               30201 non-null  int64\n",
      " 14  BILL_AMT5                               30201 non-null  int64\n",
      " 15  BILL_AMT6                               30201 non-null  int64\n",
      " 16  PAY_AMT1                                30201 non-null  int64\n",
      " 17  PAY_AMT2                                30201 non-null  int64\n",
      " 18  PAY_AMT3                                30201 non-null  int64\n",
      " 19  PAY_AMT4                                30201 non-null  int64\n",
      " 20  PAY_AMT5                                30201 non-null  int64\n",
      " 21  PAY_AMT6                                30201 non-null  int64\n",
      " 22  SEX_female                              30201 non-null  uint8\n",
      " 23  SEX_male                                30201 non-null  uint8\n",
      " 24  EDUCATION_graduate school               30201 non-null  uint8\n",
      " 25  EDUCATION_high school                   30201 non-null  uint8\n",
      " 26  EDUCATION_other                         30201 non-null  uint8\n",
      " 27  EDUCATION_university                    30201 non-null  uint8\n",
      " 28  default payment next month_default      30201 non-null  uint8\n",
      " 29  default payment next month_not default  30201 non-null  uint8\n",
      "dtypes: int64(22), uint8(8)\n",
      "memory usage: 5.3 MB\n"
     ]
    }
   ],
   "source": [
    "credit.info()"
   ]
  },
  {
   "cell_type": "code",
   "execution_count": 6,
   "id": "57c1da44",
   "metadata": {},
   "outputs": [
    {
     "data": {
      "text/plain": [
       "201"
      ]
     },
     "execution_count": 6,
     "metadata": {},
     "output_type": "execute_result"
    }
   ],
   "source": [
    "credit.duplicated().sum()"
   ]
  },
  {
   "cell_type": "code",
   "execution_count": 7,
   "id": "16d25131",
   "metadata": {},
   "outputs": [
    {
     "data": {
      "text/plain": [
       "0"
      ]
     },
     "execution_count": 7,
     "metadata": {},
     "output_type": "execute_result"
    }
   ],
   "source": [
    "credit = credit.drop_duplicates()\n",
    "credit.duplicated().sum()"
   ]
  },
  {
   "cell_type": "code",
   "execution_count": 8,
   "id": "e440fcf5",
   "metadata": {},
   "outputs": [],
   "source": [
    "credit.reset_index(drop=True,inplace=True)"
   ]
  },
  {
   "cell_type": "code",
   "execution_count": 9,
   "id": "d6fc683e",
   "metadata": {},
   "outputs": [
    {
     "name": "stdout",
     "output_type": "stream",
     "text": [
      "Index(['ID', 'LIMIT_BAL', 'MARRIAGE', 'AGE', 'PAY_0', 'PAY_2', 'PAY_3',\n",
      "       'PAY_4', 'PAY_5', 'PAY_6', 'BILL_AMT1', 'BILL_AMT2', 'BILL_AMT3',\n",
      "       'BILL_AMT4', 'BILL_AMT5', 'BILL_AMT6', 'PAY_AMT1', 'PAY_AMT2',\n",
      "       'PAY_AMT3', 'PAY_AMT4', 'PAY_AMT5', 'PAY_AMT6', 'SEX_female',\n",
      "       'SEX_male', 'EDUCATION_graduate school', 'EDUCATION_high school',\n",
      "       'EDUCATION_other', 'EDUCATION_university',\n",
      "       'default payment next month_default',\n",
      "       'default payment next month_not default'],\n",
      "      dtype='object')\n"
     ]
    }
   ],
   "source": [
    "header = credit.dtypes.index\n",
    "print(header)"
   ]
  },
  {
   "cell_type": "code",
   "execution_count": 13,
   "id": "fc704c8a",
   "metadata": {},
   "outputs": [
    {
     "data": {
      "text/html": [
       "<div>\n",
       "<style scoped>\n",
       "    .dataframe tbody tr th:only-of-type {\n",
       "        vertical-align: middle;\n",
       "    }\n",
       "\n",
       "    .dataframe tbody tr th {\n",
       "        vertical-align: top;\n",
       "    }\n",
       "\n",
       "    .dataframe thead th {\n",
       "        text-align: right;\n",
       "    }\n",
       "</style>\n",
       "<table border=\"1\" class=\"dataframe\">\n",
       "  <thead>\n",
       "    <tr style=\"text-align: right;\">\n",
       "      <th></th>\n",
       "      <th>ID</th>\n",
       "      <th>LIMIT_BAL</th>\n",
       "      <th>MARRIAGE</th>\n",
       "      <th>AGE</th>\n",
       "      <th>PAY_0</th>\n",
       "      <th>PAY_2</th>\n",
       "      <th>PAY_3</th>\n",
       "      <th>PAY_4</th>\n",
       "      <th>PAY_5</th>\n",
       "      <th>PAY_6</th>\n",
       "      <th>...</th>\n",
       "      <th>PAY_AMT5</th>\n",
       "      <th>PAY_AMT6</th>\n",
       "      <th>SEX_female</th>\n",
       "      <th>SEX_male</th>\n",
       "      <th>EDUCATION_graduate school</th>\n",
       "      <th>EDUCATION_high school</th>\n",
       "      <th>EDUCATION_other</th>\n",
       "      <th>EDUCATION_university</th>\n",
       "      <th>default payment next month_default</th>\n",
       "      <th>default payment next month_not default</th>\n",
       "    </tr>\n",
       "  </thead>\n",
       "  <tbody>\n",
       "    <tr>\n",
       "      <th>0</th>\n",
       "      <td>1</td>\n",
       "      <td>20000</td>\n",
       "      <td>1</td>\n",
       "      <td>24</td>\n",
       "      <td>2</td>\n",
       "      <td>2</td>\n",
       "      <td>-1</td>\n",
       "      <td>-1</td>\n",
       "      <td>-2</td>\n",
       "      <td>-2</td>\n",
       "      <td>...</td>\n",
       "      <td>0</td>\n",
       "      <td>0</td>\n",
       "      <td>1</td>\n",
       "      <td>0</td>\n",
       "      <td>0</td>\n",
       "      <td>0</td>\n",
       "      <td>0</td>\n",
       "      <td>1</td>\n",
       "      <td>1</td>\n",
       "      <td>0</td>\n",
       "    </tr>\n",
       "    <tr>\n",
       "      <th>1</th>\n",
       "      <td>2</td>\n",
       "      <td>120000</td>\n",
       "      <td>2</td>\n",
       "      <td>26</td>\n",
       "      <td>-1</td>\n",
       "      <td>2</td>\n",
       "      <td>0</td>\n",
       "      <td>0</td>\n",
       "      <td>0</td>\n",
       "      <td>2</td>\n",
       "      <td>...</td>\n",
       "      <td>0</td>\n",
       "      <td>2000</td>\n",
       "      <td>1</td>\n",
       "      <td>0</td>\n",
       "      <td>0</td>\n",
       "      <td>0</td>\n",
       "      <td>0</td>\n",
       "      <td>1</td>\n",
       "      <td>1</td>\n",
       "      <td>0</td>\n",
       "    </tr>\n",
       "    <tr>\n",
       "      <th>2</th>\n",
       "      <td>3</td>\n",
       "      <td>90000</td>\n",
       "      <td>2</td>\n",
       "      <td>34</td>\n",
       "      <td>0</td>\n",
       "      <td>0</td>\n",
       "      <td>0</td>\n",
       "      <td>0</td>\n",
       "      <td>0</td>\n",
       "      <td>0</td>\n",
       "      <td>...</td>\n",
       "      <td>1000</td>\n",
       "      <td>5000</td>\n",
       "      <td>1</td>\n",
       "      <td>0</td>\n",
       "      <td>0</td>\n",
       "      <td>0</td>\n",
       "      <td>0</td>\n",
       "      <td>1</td>\n",
       "      <td>0</td>\n",
       "      <td>1</td>\n",
       "    </tr>\n",
       "    <tr>\n",
       "      <th>3</th>\n",
       "      <td>4</td>\n",
       "      <td>50000</td>\n",
       "      <td>1</td>\n",
       "      <td>37</td>\n",
       "      <td>0</td>\n",
       "      <td>0</td>\n",
       "      <td>0</td>\n",
       "      <td>0</td>\n",
       "      <td>0</td>\n",
       "      <td>0</td>\n",
       "      <td>...</td>\n",
       "      <td>1069</td>\n",
       "      <td>1000</td>\n",
       "      <td>1</td>\n",
       "      <td>0</td>\n",
       "      <td>0</td>\n",
       "      <td>0</td>\n",
       "      <td>0</td>\n",
       "      <td>1</td>\n",
       "      <td>0</td>\n",
       "      <td>1</td>\n",
       "    </tr>\n",
       "    <tr>\n",
       "      <th>4</th>\n",
       "      <td>5</td>\n",
       "      <td>50000</td>\n",
       "      <td>1</td>\n",
       "      <td>57</td>\n",
       "      <td>-1</td>\n",
       "      <td>0</td>\n",
       "      <td>-1</td>\n",
       "      <td>0</td>\n",
       "      <td>0</td>\n",
       "      <td>0</td>\n",
       "      <td>...</td>\n",
       "      <td>689</td>\n",
       "      <td>679</td>\n",
       "      <td>0</td>\n",
       "      <td>1</td>\n",
       "      <td>0</td>\n",
       "      <td>0</td>\n",
       "      <td>0</td>\n",
       "      <td>1</td>\n",
       "      <td>0</td>\n",
       "      <td>1</td>\n",
       "    </tr>\n",
       "    <tr>\n",
       "      <th>...</th>\n",
       "      <td>...</td>\n",
       "      <td>...</td>\n",
       "      <td>...</td>\n",
       "      <td>...</td>\n",
       "      <td>...</td>\n",
       "      <td>...</td>\n",
       "      <td>...</td>\n",
       "      <td>...</td>\n",
       "      <td>...</td>\n",
       "      <td>...</td>\n",
       "      <td>...</td>\n",
       "      <td>...</td>\n",
       "      <td>...</td>\n",
       "      <td>...</td>\n",
       "      <td>...</td>\n",
       "      <td>...</td>\n",
       "      <td>...</td>\n",
       "      <td>...</td>\n",
       "      <td>...</td>\n",
       "      <td>...</td>\n",
       "      <td>...</td>\n",
       "    </tr>\n",
       "    <tr>\n",
       "      <th>29995</th>\n",
       "      <td>29996</td>\n",
       "      <td>220000</td>\n",
       "      <td>1</td>\n",
       "      <td>39</td>\n",
       "      <td>0</td>\n",
       "      <td>0</td>\n",
       "      <td>0</td>\n",
       "      <td>0</td>\n",
       "      <td>0</td>\n",
       "      <td>0</td>\n",
       "      <td>...</td>\n",
       "      <td>5000</td>\n",
       "      <td>1000</td>\n",
       "      <td>0</td>\n",
       "      <td>1</td>\n",
       "      <td>0</td>\n",
       "      <td>1</td>\n",
       "      <td>0</td>\n",
       "      <td>0</td>\n",
       "      <td>0</td>\n",
       "      <td>1</td>\n",
       "    </tr>\n",
       "    <tr>\n",
       "      <th>29996</th>\n",
       "      <td>29997</td>\n",
       "      <td>150000</td>\n",
       "      <td>2</td>\n",
       "      <td>43</td>\n",
       "      <td>-1</td>\n",
       "      <td>-1</td>\n",
       "      <td>-1</td>\n",
       "      <td>-1</td>\n",
       "      <td>0</td>\n",
       "      <td>0</td>\n",
       "      <td>...</td>\n",
       "      <td>0</td>\n",
       "      <td>0</td>\n",
       "      <td>0</td>\n",
       "      <td>1</td>\n",
       "      <td>0</td>\n",
       "      <td>1</td>\n",
       "      <td>0</td>\n",
       "      <td>0</td>\n",
       "      <td>0</td>\n",
       "      <td>1</td>\n",
       "    </tr>\n",
       "    <tr>\n",
       "      <th>29997</th>\n",
       "      <td>29998</td>\n",
       "      <td>30000</td>\n",
       "      <td>2</td>\n",
       "      <td>37</td>\n",
       "      <td>4</td>\n",
       "      <td>3</td>\n",
       "      <td>2</td>\n",
       "      <td>-1</td>\n",
       "      <td>0</td>\n",
       "      <td>0</td>\n",
       "      <td>...</td>\n",
       "      <td>2000</td>\n",
       "      <td>3100</td>\n",
       "      <td>0</td>\n",
       "      <td>1</td>\n",
       "      <td>0</td>\n",
       "      <td>0</td>\n",
       "      <td>0</td>\n",
       "      <td>1</td>\n",
       "      <td>1</td>\n",
       "      <td>0</td>\n",
       "    </tr>\n",
       "    <tr>\n",
       "      <th>29998</th>\n",
       "      <td>29999</td>\n",
       "      <td>80000</td>\n",
       "      <td>1</td>\n",
       "      <td>41</td>\n",
       "      <td>1</td>\n",
       "      <td>-1</td>\n",
       "      <td>0</td>\n",
       "      <td>0</td>\n",
       "      <td>0</td>\n",
       "      <td>-1</td>\n",
       "      <td>...</td>\n",
       "      <td>52964</td>\n",
       "      <td>1804</td>\n",
       "      <td>0</td>\n",
       "      <td>1</td>\n",
       "      <td>0</td>\n",
       "      <td>1</td>\n",
       "      <td>0</td>\n",
       "      <td>0</td>\n",
       "      <td>1</td>\n",
       "      <td>0</td>\n",
       "    </tr>\n",
       "    <tr>\n",
       "      <th>29999</th>\n",
       "      <td>30000</td>\n",
       "      <td>50000</td>\n",
       "      <td>1</td>\n",
       "      <td>46</td>\n",
       "      <td>0</td>\n",
       "      <td>0</td>\n",
       "      <td>0</td>\n",
       "      <td>0</td>\n",
       "      <td>0</td>\n",
       "      <td>0</td>\n",
       "      <td>...</td>\n",
       "      <td>1000</td>\n",
       "      <td>1000</td>\n",
       "      <td>0</td>\n",
       "      <td>1</td>\n",
       "      <td>0</td>\n",
       "      <td>0</td>\n",
       "      <td>0</td>\n",
       "      <td>1</td>\n",
       "      <td>1</td>\n",
       "      <td>0</td>\n",
       "    </tr>\n",
       "  </tbody>\n",
       "</table>\n",
       "<p>30000 rows × 30 columns</p>\n",
       "</div>"
      ],
      "text/plain": [
       "          ID  LIMIT_BAL  MARRIAGE  AGE  PAY_0  PAY_2  PAY_3  PAY_4  PAY_5  \\\n",
       "0          1      20000         1   24      2      2     -1     -1     -2   \n",
       "1          2     120000         2   26     -1      2      0      0      0   \n",
       "2          3      90000         2   34      0      0      0      0      0   \n",
       "3          4      50000         1   37      0      0      0      0      0   \n",
       "4          5      50000         1   57     -1      0     -1      0      0   \n",
       "...      ...        ...       ...  ...    ...    ...    ...    ...    ...   \n",
       "29995  29996     220000         1   39      0      0      0      0      0   \n",
       "29996  29997     150000         2   43     -1     -1     -1     -1      0   \n",
       "29997  29998      30000         2   37      4      3      2     -1      0   \n",
       "29998  29999      80000         1   41      1     -1      0      0      0   \n",
       "29999  30000      50000         1   46      0      0      0      0      0   \n",
       "\n",
       "       PAY_6  ...  PAY_AMT5  PAY_AMT6  SEX_female  SEX_male  \\\n",
       "0         -2  ...         0         0           1         0   \n",
       "1          2  ...         0      2000           1         0   \n",
       "2          0  ...      1000      5000           1         0   \n",
       "3          0  ...      1069      1000           1         0   \n",
       "4          0  ...       689       679           0         1   \n",
       "...      ...  ...       ...       ...         ...       ...   \n",
       "29995      0  ...      5000      1000           0         1   \n",
       "29996      0  ...         0         0           0         1   \n",
       "29997      0  ...      2000      3100           0         1   \n",
       "29998     -1  ...     52964      1804           0         1   \n",
       "29999      0  ...      1000      1000           0         1   \n",
       "\n",
       "       EDUCATION_graduate school  EDUCATION_high school  EDUCATION_other  \\\n",
       "0                              0                      0                0   \n",
       "1                              0                      0                0   \n",
       "2                              0                      0                0   \n",
       "3                              0                      0                0   \n",
       "4                              0                      0                0   \n",
       "...                          ...                    ...              ...   \n",
       "29995                          0                      1                0   \n",
       "29996                          0                      1                0   \n",
       "29997                          0                      0                0   \n",
       "29998                          0                      1                0   \n",
       "29999                          0                      0                0   \n",
       "\n",
       "       EDUCATION_university  default payment next month_default  \\\n",
       "0                         1                                   1   \n",
       "1                         1                                   1   \n",
       "2                         1                                   0   \n",
       "3                         1                                   0   \n",
       "4                         1                                   0   \n",
       "...                     ...                                 ...   \n",
       "29995                     0                                   0   \n",
       "29996                     0                                   0   \n",
       "29997                     1                                   1   \n",
       "29998                     0                                   1   \n",
       "29999                     1                                   1   \n",
       "\n",
       "       default payment next month_not default  \n",
       "0                                           0  \n",
       "1                                           0  \n",
       "2                                           1  \n",
       "3                                           1  \n",
       "4                                           1  \n",
       "...                                       ...  \n",
       "29995                                       1  \n",
       "29996                                       1  \n",
       "29997                                       0  \n",
       "29998                                       0  \n",
       "29999                                       0  \n",
       "\n",
       "[30000 rows x 30 columns]"
      ]
     },
     "execution_count": 13,
     "metadata": {},
     "output_type": "execute_result"
    }
   ],
   "source": [
    "###3 Iloc demo\n",
    "credit.iloc[:, 0:]"
   ]
  },
  {
   "cell_type": "markdown",
   "id": "fd00755e",
   "metadata": {},
   "source": [
    "# 1. Predicting Accuracy with DT, RFC and GBC Like in C1T, Default PMT as dependant, acc. 82"
   ]
  },
  {
   "cell_type": "code",
   "execution_count": 14,
   "id": "7fcfc08a",
   "metadata": {},
   "outputs": [
    {
     "name": "stdout",
     "output_type": "stream",
     "text": [
      "Summary of feature sample\n"
     ]
    },
    {
     "data": {
      "text/html": [
       "<div>\n",
       "<style scoped>\n",
       "    .dataframe tbody tr th:only-of-type {\n",
       "        vertical-align: middle;\n",
       "    }\n",
       "\n",
       "    .dataframe tbody tr th {\n",
       "        vertical-align: top;\n",
       "    }\n",
       "\n",
       "    .dataframe thead th {\n",
       "        text-align: right;\n",
       "    }\n",
       "</style>\n",
       "<table border=\"1\" class=\"dataframe\">\n",
       "  <thead>\n",
       "    <tr style=\"text-align: right;\">\n",
       "      <th></th>\n",
       "      <th>ID</th>\n",
       "      <th>LIMIT_BAL</th>\n",
       "      <th>MARRIAGE</th>\n",
       "      <th>AGE</th>\n",
       "      <th>PAY_0</th>\n",
       "      <th>PAY_2</th>\n",
       "      <th>PAY_3</th>\n",
       "      <th>PAY_4</th>\n",
       "      <th>PAY_5</th>\n",
       "      <th>PAY_6</th>\n",
       "      <th>...</th>\n",
       "      <th>PAY_AMT3</th>\n",
       "      <th>PAY_AMT4</th>\n",
       "      <th>PAY_AMT5</th>\n",
       "      <th>PAY_AMT6</th>\n",
       "      <th>SEX_female</th>\n",
       "      <th>SEX_male</th>\n",
       "      <th>EDUCATION_graduate school</th>\n",
       "      <th>EDUCATION_high school</th>\n",
       "      <th>EDUCATION_other</th>\n",
       "      <th>EDUCATION_university</th>\n",
       "    </tr>\n",
       "  </thead>\n",
       "  <tbody>\n",
       "    <tr>\n",
       "      <th>0</th>\n",
       "      <td>1</td>\n",
       "      <td>20000</td>\n",
       "      <td>1</td>\n",
       "      <td>24</td>\n",
       "      <td>2</td>\n",
       "      <td>2</td>\n",
       "      <td>-1</td>\n",
       "      <td>-1</td>\n",
       "      <td>-2</td>\n",
       "      <td>-2</td>\n",
       "      <td>...</td>\n",
       "      <td>0</td>\n",
       "      <td>0</td>\n",
       "      <td>0</td>\n",
       "      <td>0</td>\n",
       "      <td>1</td>\n",
       "      <td>0</td>\n",
       "      <td>0</td>\n",
       "      <td>0</td>\n",
       "      <td>0</td>\n",
       "      <td>1</td>\n",
       "    </tr>\n",
       "    <tr>\n",
       "      <th>1</th>\n",
       "      <td>2</td>\n",
       "      <td>120000</td>\n",
       "      <td>2</td>\n",
       "      <td>26</td>\n",
       "      <td>-1</td>\n",
       "      <td>2</td>\n",
       "      <td>0</td>\n",
       "      <td>0</td>\n",
       "      <td>0</td>\n",
       "      <td>2</td>\n",
       "      <td>...</td>\n",
       "      <td>1000</td>\n",
       "      <td>1000</td>\n",
       "      <td>0</td>\n",
       "      <td>2000</td>\n",
       "      <td>1</td>\n",
       "      <td>0</td>\n",
       "      <td>0</td>\n",
       "      <td>0</td>\n",
       "      <td>0</td>\n",
       "      <td>1</td>\n",
       "    </tr>\n",
       "    <tr>\n",
       "      <th>2</th>\n",
       "      <td>3</td>\n",
       "      <td>90000</td>\n",
       "      <td>2</td>\n",
       "      <td>34</td>\n",
       "      <td>0</td>\n",
       "      <td>0</td>\n",
       "      <td>0</td>\n",
       "      <td>0</td>\n",
       "      <td>0</td>\n",
       "      <td>0</td>\n",
       "      <td>...</td>\n",
       "      <td>1000</td>\n",
       "      <td>1000</td>\n",
       "      <td>1000</td>\n",
       "      <td>5000</td>\n",
       "      <td>1</td>\n",
       "      <td>0</td>\n",
       "      <td>0</td>\n",
       "      <td>0</td>\n",
       "      <td>0</td>\n",
       "      <td>1</td>\n",
       "    </tr>\n",
       "    <tr>\n",
       "      <th>3</th>\n",
       "      <td>4</td>\n",
       "      <td>50000</td>\n",
       "      <td>1</td>\n",
       "      <td>37</td>\n",
       "      <td>0</td>\n",
       "      <td>0</td>\n",
       "      <td>0</td>\n",
       "      <td>0</td>\n",
       "      <td>0</td>\n",
       "      <td>0</td>\n",
       "      <td>...</td>\n",
       "      <td>1200</td>\n",
       "      <td>1100</td>\n",
       "      <td>1069</td>\n",
       "      <td>1000</td>\n",
       "      <td>1</td>\n",
       "      <td>0</td>\n",
       "      <td>0</td>\n",
       "      <td>0</td>\n",
       "      <td>0</td>\n",
       "      <td>1</td>\n",
       "    </tr>\n",
       "    <tr>\n",
       "      <th>4</th>\n",
       "      <td>5</td>\n",
       "      <td>50000</td>\n",
       "      <td>1</td>\n",
       "      <td>57</td>\n",
       "      <td>-1</td>\n",
       "      <td>0</td>\n",
       "      <td>-1</td>\n",
       "      <td>0</td>\n",
       "      <td>0</td>\n",
       "      <td>0</td>\n",
       "      <td>...</td>\n",
       "      <td>10000</td>\n",
       "      <td>9000</td>\n",
       "      <td>689</td>\n",
       "      <td>679</td>\n",
       "      <td>0</td>\n",
       "      <td>1</td>\n",
       "      <td>0</td>\n",
       "      <td>0</td>\n",
       "      <td>0</td>\n",
       "      <td>1</td>\n",
       "    </tr>\n",
       "  </tbody>\n",
       "</table>\n",
       "<p>5 rows × 28 columns</p>\n",
       "</div>"
      ],
      "text/plain": [
       "   ID  LIMIT_BAL  MARRIAGE  AGE  PAY_0  PAY_2  PAY_3  PAY_4  PAY_5  PAY_6  \\\n",
       "0   1      20000         1   24      2      2     -1     -1     -2     -2   \n",
       "1   2     120000         2   26     -1      2      0      0      0      2   \n",
       "2   3      90000         2   34      0      0      0      0      0      0   \n",
       "3   4      50000         1   37      0      0      0      0      0      0   \n",
       "4   5      50000         1   57     -1      0     -1      0      0      0   \n",
       "\n",
       "   ...  PAY_AMT3  PAY_AMT4  PAY_AMT5  PAY_AMT6  SEX_female  SEX_male  \\\n",
       "0  ...         0         0         0         0           1         0   \n",
       "1  ...      1000      1000         0      2000           1         0   \n",
       "2  ...      1000      1000      1000      5000           1         0   \n",
       "3  ...      1200      1100      1069      1000           1         0   \n",
       "4  ...     10000      9000       689       679           0         1   \n",
       "\n",
       "   EDUCATION_graduate school  EDUCATION_high school  EDUCATION_other  \\\n",
       "0                          0                      0                0   \n",
       "1                          0                      0                0   \n",
       "2                          0                      0                0   \n",
       "3                          0                      0                0   \n",
       "4                          0                      0                0   \n",
       "\n",
       "   EDUCATION_university  \n",
       "0                     1  \n",
       "1                     1  \n",
       "2                     1  \n",
       "3                     1  \n",
       "4                     1  \n",
       "\n",
       "[5 rows x 28 columns]"
      ]
     },
     "execution_count": 14,
     "metadata": {},
     "output_type": "execute_result"
    }
   ],
   "source": [
    "#features\n",
    "X = credit.iloc[:, :-2]\n",
    "print('Summary of feature sample')\n",
    "X.head()"
   ]
  },
  {
   "cell_type": "code",
   "execution_count": 381,
   "id": "a863da78",
   "metadata": {},
   "outputs": [
    {
     "data": {
      "text/html": [
       "<div>\n",
       "<style scoped>\n",
       "    .dataframe tbody tr th:only-of-type {\n",
       "        vertical-align: middle;\n",
       "    }\n",
       "\n",
       "    .dataframe tbody tr th {\n",
       "        vertical-align: top;\n",
       "    }\n",
       "\n",
       "    .dataframe thead th {\n",
       "        text-align: right;\n",
       "    }\n",
       "</style>\n",
       "<table border=\"1\" class=\"dataframe\">\n",
       "  <thead>\n",
       "    <tr style=\"text-align: right;\">\n",
       "      <th></th>\n",
       "      <th>ID</th>\n",
       "      <th>LIMIT_BAL</th>\n",
       "      <th>AGE</th>\n",
       "    </tr>\n",
       "  </thead>\n",
       "  <tbody>\n",
       "    <tr>\n",
       "      <th>0</th>\n",
       "      <td>1</td>\n",
       "      <td>20000</td>\n",
       "      <td>24</td>\n",
       "    </tr>\n",
       "    <tr>\n",
       "      <th>1</th>\n",
       "      <td>2</td>\n",
       "      <td>120000</td>\n",
       "      <td>26</td>\n",
       "    </tr>\n",
       "    <tr>\n",
       "      <th>2</th>\n",
       "      <td>3</td>\n",
       "      <td>90000</td>\n",
       "      <td>34</td>\n",
       "    </tr>\n",
       "    <tr>\n",
       "      <th>3</th>\n",
       "      <td>4</td>\n",
       "      <td>50000</td>\n",
       "      <td>37</td>\n",
       "    </tr>\n",
       "    <tr>\n",
       "      <th>4</th>\n",
       "      <td>5</td>\n",
       "      <td>50000</td>\n",
       "      <td>57</td>\n",
       "    </tr>\n",
       "    <tr>\n",
       "      <th>...</th>\n",
       "      <td>...</td>\n",
       "      <td>...</td>\n",
       "      <td>...</td>\n",
       "    </tr>\n",
       "    <tr>\n",
       "      <th>29995</th>\n",
       "      <td>29996</td>\n",
       "      <td>220000</td>\n",
       "      <td>39</td>\n",
       "    </tr>\n",
       "    <tr>\n",
       "      <th>29996</th>\n",
       "      <td>29997</td>\n",
       "      <td>150000</td>\n",
       "      <td>43</td>\n",
       "    </tr>\n",
       "    <tr>\n",
       "      <th>29997</th>\n",
       "      <td>29998</td>\n",
       "      <td>30000</td>\n",
       "      <td>37</td>\n",
       "    </tr>\n",
       "    <tr>\n",
       "      <th>29998</th>\n",
       "      <td>29999</td>\n",
       "      <td>80000</td>\n",
       "      <td>41</td>\n",
       "    </tr>\n",
       "    <tr>\n",
       "      <th>29999</th>\n",
       "      <td>30000</td>\n",
       "      <td>50000</td>\n",
       "      <td>46</td>\n",
       "    </tr>\n",
       "  </tbody>\n",
       "</table>\n",
       "<p>30000 rows × 3 columns</p>\n",
       "</div>"
      ],
      "text/plain": [
       "          ID  LIMIT_BAL  AGE\n",
       "0          1      20000   24\n",
       "1          2     120000   26\n",
       "2          3      90000   34\n",
       "3          4      50000   37\n",
       "4          5      50000   57\n",
       "...      ...        ...  ...\n",
       "29995  29996     220000   39\n",
       "29996  29997     150000   43\n",
       "29997  29998      30000   37\n",
       "29998  29999      80000   41\n",
       "29999  30000      50000   46\n",
       "\n",
       "[30000 rows x 3 columns]"
      ]
     },
     "execution_count": 381,
     "metadata": {},
     "output_type": "execute_result"
    }
   ],
   "source": [
    "### select features from middle\n",
    "credit[['ID', 'LIMIT_BAL', 'AGE']]"
   ]
  },
  {
   "cell_type": "code",
   "execution_count": 382,
   "id": "edb68bdc",
   "metadata": {},
   "outputs": [],
   "source": [
    "y= credit['default payment next month_default']"
   ]
  },
  {
   "cell_type": "code",
   "execution_count": 383,
   "id": "2b20e70b",
   "metadata": {},
   "outputs": [
    {
     "data": {
      "text/plain": [
       "0        1\n",
       "1        1\n",
       "2        0\n",
       "3        0\n",
       "4        0\n",
       "        ..\n",
       "29995    0\n",
       "29996    0\n",
       "29997    1\n",
       "29998    1\n",
       "29999    1\n",
       "Name: default payment next month_default, Length: 30000, dtype: uint8"
      ]
     },
     "execution_count": 383,
     "metadata": {},
     "output_type": "execute_result"
    }
   ],
   "source": [
    "y"
   ]
  },
  {
   "cell_type": "code",
   "execution_count": 384,
   "id": "c45b496b",
   "metadata": {},
   "outputs": [],
   "source": [
    "#train test split\n",
    "x_train, x_test, y_train, y_test = train_test_split(X, y,test_size = 0.3, random_state = 123)"
   ]
  },
  {
   "cell_type": "code",
   "execution_count": 385,
   "id": "cc7cfb09",
   "metadata": {},
   "outputs": [
    {
     "data": {
      "text/html": [
       "<div>\n",
       "<style scoped>\n",
       "    .dataframe tbody tr th:only-of-type {\n",
       "        vertical-align: middle;\n",
       "    }\n",
       "\n",
       "    .dataframe tbody tr th {\n",
       "        vertical-align: top;\n",
       "    }\n",
       "\n",
       "    .dataframe thead th {\n",
       "        text-align: right;\n",
       "    }\n",
       "</style>\n",
       "<table border=\"1\" class=\"dataframe\">\n",
       "  <thead>\n",
       "    <tr style=\"text-align: right;\">\n",
       "      <th></th>\n",
       "      <th>ID</th>\n",
       "      <th>LIMIT_BAL</th>\n",
       "      <th>MARRIAGE</th>\n",
       "      <th>AGE</th>\n",
       "      <th>PAY_0</th>\n",
       "      <th>PAY_2</th>\n",
       "      <th>PAY_3</th>\n",
       "      <th>PAY_4</th>\n",
       "      <th>PAY_5</th>\n",
       "      <th>PAY_6</th>\n",
       "      <th>...</th>\n",
       "      <th>PAY_AMT3</th>\n",
       "      <th>PAY_AMT4</th>\n",
       "      <th>PAY_AMT5</th>\n",
       "      <th>PAY_AMT6</th>\n",
       "      <th>SEX_female</th>\n",
       "      <th>SEX_male</th>\n",
       "      <th>EDUCATION_graduate school</th>\n",
       "      <th>EDUCATION_high school</th>\n",
       "      <th>EDUCATION_other</th>\n",
       "      <th>EDUCATION_university</th>\n",
       "    </tr>\n",
       "  </thead>\n",
       "  <tbody>\n",
       "    <tr>\n",
       "      <th>25665</th>\n",
       "      <td>25666</td>\n",
       "      <td>40000</td>\n",
       "      <td>2</td>\n",
       "      <td>26</td>\n",
       "      <td>-1</td>\n",
       "      <td>0</td>\n",
       "      <td>0</td>\n",
       "      <td>0</td>\n",
       "      <td>-1</td>\n",
       "      <td>0</td>\n",
       "      <td>...</td>\n",
       "      <td>0</td>\n",
       "      <td>22373</td>\n",
       "      <td>680</td>\n",
       "      <td>10000</td>\n",
       "      <td>1</td>\n",
       "      <td>0</td>\n",
       "      <td>0</td>\n",
       "      <td>0</td>\n",
       "      <td>0</td>\n",
       "      <td>1</td>\n",
       "    </tr>\n",
       "    <tr>\n",
       "      <th>16464</th>\n",
       "      <td>16465</td>\n",
       "      <td>80000</td>\n",
       "      <td>1</td>\n",
       "      <td>59</td>\n",
       "      <td>0</td>\n",
       "      <td>0</td>\n",
       "      <td>0</td>\n",
       "      <td>0</td>\n",
       "      <td>0</td>\n",
       "      <td>0</td>\n",
       "      <td>...</td>\n",
       "      <td>2000</td>\n",
       "      <td>1603</td>\n",
       "      <td>1903</td>\n",
       "      <td>2006</td>\n",
       "      <td>1</td>\n",
       "      <td>0</td>\n",
       "      <td>0</td>\n",
       "      <td>1</td>\n",
       "      <td>0</td>\n",
       "      <td>0</td>\n",
       "    </tr>\n",
       "    <tr>\n",
       "      <th>22386</th>\n",
       "      <td>22387</td>\n",
       "      <td>170000</td>\n",
       "      <td>2</td>\n",
       "      <td>30</td>\n",
       "      <td>2</td>\n",
       "      <td>2</td>\n",
       "      <td>2</td>\n",
       "      <td>2</td>\n",
       "      <td>2</td>\n",
       "      <td>2</td>\n",
       "      <td>...</td>\n",
       "      <td>0</td>\n",
       "      <td>13000</td>\n",
       "      <td>5500</td>\n",
       "      <td>1000</td>\n",
       "      <td>1</td>\n",
       "      <td>0</td>\n",
       "      <td>1</td>\n",
       "      <td>0</td>\n",
       "      <td>0</td>\n",
       "      <td>0</td>\n",
       "    </tr>\n",
       "    <tr>\n",
       "      <th>10149</th>\n",
       "      <td>10150</td>\n",
       "      <td>200000</td>\n",
       "      <td>1</td>\n",
       "      <td>41</td>\n",
       "      <td>-2</td>\n",
       "      <td>-2</td>\n",
       "      <td>-2</td>\n",
       "      <td>-2</td>\n",
       "      <td>-2</td>\n",
       "      <td>-2</td>\n",
       "      <td>...</td>\n",
       "      <td>0</td>\n",
       "      <td>0</td>\n",
       "      <td>0</td>\n",
       "      <td>0</td>\n",
       "      <td>1</td>\n",
       "      <td>0</td>\n",
       "      <td>0</td>\n",
       "      <td>0</td>\n",
       "      <td>0</td>\n",
       "      <td>1</td>\n",
       "    </tr>\n",
       "    <tr>\n",
       "      <th>8729</th>\n",
       "      <td>8730</td>\n",
       "      <td>50000</td>\n",
       "      <td>1</td>\n",
       "      <td>43</td>\n",
       "      <td>0</td>\n",
       "      <td>0</td>\n",
       "      <td>0</td>\n",
       "      <td>0</td>\n",
       "      <td>0</td>\n",
       "      <td>0</td>\n",
       "      <td>...</td>\n",
       "      <td>331</td>\n",
       "      <td>341</td>\n",
       "      <td>356</td>\n",
       "      <td>330</td>\n",
       "      <td>0</td>\n",
       "      <td>1</td>\n",
       "      <td>0</td>\n",
       "      <td>0</td>\n",
       "      <td>0</td>\n",
       "      <td>1</td>\n",
       "    </tr>\n",
       "    <tr>\n",
       "      <th>...</th>\n",
       "      <td>...</td>\n",
       "      <td>...</td>\n",
       "      <td>...</td>\n",
       "      <td>...</td>\n",
       "      <td>...</td>\n",
       "      <td>...</td>\n",
       "      <td>...</td>\n",
       "      <td>...</td>\n",
       "      <td>...</td>\n",
       "      <td>...</td>\n",
       "      <td>...</td>\n",
       "      <td>...</td>\n",
       "      <td>...</td>\n",
       "      <td>...</td>\n",
       "      <td>...</td>\n",
       "      <td>...</td>\n",
       "      <td>...</td>\n",
       "      <td>...</td>\n",
       "      <td>...</td>\n",
       "      <td>...</td>\n",
       "      <td>...</td>\n",
       "    </tr>\n",
       "    <tr>\n",
       "      <th>17548</th>\n",
       "      <td>17549</td>\n",
       "      <td>60000</td>\n",
       "      <td>1</td>\n",
       "      <td>48</td>\n",
       "      <td>0</td>\n",
       "      <td>0</td>\n",
       "      <td>0</td>\n",
       "      <td>0</td>\n",
       "      <td>0</td>\n",
       "      <td>0</td>\n",
       "      <td>...</td>\n",
       "      <td>1400</td>\n",
       "      <td>600</td>\n",
       "      <td>1000</td>\n",
       "      <td>1000</td>\n",
       "      <td>1</td>\n",
       "      <td>0</td>\n",
       "      <td>0</td>\n",
       "      <td>0</td>\n",
       "      <td>0</td>\n",
       "      <td>1</td>\n",
       "    </tr>\n",
       "    <tr>\n",
       "      <th>11459</th>\n",
       "      <td>11460</td>\n",
       "      <td>310000</td>\n",
       "      <td>1</td>\n",
       "      <td>43</td>\n",
       "      <td>-1</td>\n",
       "      <td>-1</td>\n",
       "      <td>-1</td>\n",
       "      <td>-1</td>\n",
       "      <td>-1</td>\n",
       "      <td>-1</td>\n",
       "      <td>...</td>\n",
       "      <td>2018</td>\n",
       "      <td>2505</td>\n",
       "      <td>816</td>\n",
       "      <td>3052</td>\n",
       "      <td>0</td>\n",
       "      <td>1</td>\n",
       "      <td>0</td>\n",
       "      <td>0</td>\n",
       "      <td>0</td>\n",
       "      <td>1</td>\n",
       "    </tr>\n",
       "    <tr>\n",
       "      <th>6608</th>\n",
       "      <td>6609</td>\n",
       "      <td>10000</td>\n",
       "      <td>2</td>\n",
       "      <td>22</td>\n",
       "      <td>0</td>\n",
       "      <td>0</td>\n",
       "      <td>0</td>\n",
       "      <td>0</td>\n",
       "      <td>0</td>\n",
       "      <td>2</td>\n",
       "      <td>...</td>\n",
       "      <td>1000</td>\n",
       "      <td>1535</td>\n",
       "      <td>0</td>\n",
       "      <td>1000</td>\n",
       "      <td>1</td>\n",
       "      <td>0</td>\n",
       "      <td>0</td>\n",
       "      <td>0</td>\n",
       "      <td>0</td>\n",
       "      <td>1</td>\n",
       "    </tr>\n",
       "    <tr>\n",
       "      <th>2414</th>\n",
       "      <td>2415</td>\n",
       "      <td>30000</td>\n",
       "      <td>1</td>\n",
       "      <td>38</td>\n",
       "      <td>1</td>\n",
       "      <td>-1</td>\n",
       "      <td>-1</td>\n",
       "      <td>-1</td>\n",
       "      <td>-1</td>\n",
       "      <td>-2</td>\n",
       "      <td>...</td>\n",
       "      <td>2713</td>\n",
       "      <td>0</td>\n",
       "      <td>0</td>\n",
       "      <td>0</td>\n",
       "      <td>0</td>\n",
       "      <td>1</td>\n",
       "      <td>0</td>\n",
       "      <td>0</td>\n",
       "      <td>0</td>\n",
       "      <td>1</td>\n",
       "    </tr>\n",
       "    <tr>\n",
       "      <th>14757</th>\n",
       "      <td>14758</td>\n",
       "      <td>30000</td>\n",
       "      <td>1</td>\n",
       "      <td>24</td>\n",
       "      <td>2</td>\n",
       "      <td>0</td>\n",
       "      <td>0</td>\n",
       "      <td>0</td>\n",
       "      <td>0</td>\n",
       "      <td>0</td>\n",
       "      <td>...</td>\n",
       "      <td>1003</td>\n",
       "      <td>1022</td>\n",
       "      <td>2000</td>\n",
       "      <td>1000</td>\n",
       "      <td>1</td>\n",
       "      <td>0</td>\n",
       "      <td>0</td>\n",
       "      <td>1</td>\n",
       "      <td>0</td>\n",
       "      <td>0</td>\n",
       "    </tr>\n",
       "  </tbody>\n",
       "</table>\n",
       "<p>9000 rows × 28 columns</p>\n",
       "</div>"
      ],
      "text/plain": [
       "          ID  LIMIT_BAL  MARRIAGE  AGE  PAY_0  PAY_2  PAY_3  PAY_4  PAY_5  \\\n",
       "25665  25666      40000         2   26     -1      0      0      0     -1   \n",
       "16464  16465      80000         1   59      0      0      0      0      0   \n",
       "22386  22387     170000         2   30      2      2      2      2      2   \n",
       "10149  10150     200000         1   41     -2     -2     -2     -2     -2   \n",
       "8729    8730      50000         1   43      0      0      0      0      0   \n",
       "...      ...        ...       ...  ...    ...    ...    ...    ...    ...   \n",
       "17548  17549      60000         1   48      0      0      0      0      0   \n",
       "11459  11460     310000         1   43     -1     -1     -1     -1     -1   \n",
       "6608    6609      10000         2   22      0      0      0      0      0   \n",
       "2414    2415      30000         1   38      1     -1     -1     -1     -1   \n",
       "14757  14758      30000         1   24      2      0      0      0      0   \n",
       "\n",
       "       PAY_6  ...  PAY_AMT3  PAY_AMT4  PAY_AMT5  PAY_AMT6  SEX_female  \\\n",
       "25665      0  ...         0     22373       680     10000           1   \n",
       "16464      0  ...      2000      1603      1903      2006           1   \n",
       "22386      2  ...         0     13000      5500      1000           1   \n",
       "10149     -2  ...         0         0         0         0           1   \n",
       "8729       0  ...       331       341       356       330           0   \n",
       "...      ...  ...       ...       ...       ...       ...         ...   \n",
       "17548      0  ...      1400       600      1000      1000           1   \n",
       "11459     -1  ...      2018      2505       816      3052           0   \n",
       "6608       2  ...      1000      1535         0      1000           1   \n",
       "2414      -2  ...      2713         0         0         0           0   \n",
       "14757      0  ...      1003      1022      2000      1000           1   \n",
       "\n",
       "       SEX_male  EDUCATION_graduate school  EDUCATION_high school  \\\n",
       "25665         0                          0                      0   \n",
       "16464         0                          0                      1   \n",
       "22386         0                          1                      0   \n",
       "10149         0                          0                      0   \n",
       "8729          1                          0                      0   \n",
       "...         ...                        ...                    ...   \n",
       "17548         0                          0                      0   \n",
       "11459         1                          0                      0   \n",
       "6608          0                          0                      0   \n",
       "2414          1                          0                      0   \n",
       "14757         0                          0                      1   \n",
       "\n",
       "       EDUCATION_other  EDUCATION_university  \n",
       "25665                0                     1  \n",
       "16464                0                     0  \n",
       "22386                0                     0  \n",
       "10149                0                     1  \n",
       "8729                 0                     1  \n",
       "...                ...                   ...  \n",
       "17548                0                     1  \n",
       "11459                0                     1  \n",
       "6608                 0                     1  \n",
       "2414                 0                     1  \n",
       "14757                0                     0  \n",
       "\n",
       "[9000 rows x 28 columns]"
      ]
     },
     "execution_count": 385,
     "metadata": {},
     "output_type": "execute_result"
    }
   ],
   "source": [
    "x_test"
   ]
  },
  {
   "cell_type": "code",
   "execution_count": 386,
   "id": "87a1bda7",
   "metadata": {},
   "outputs": [
    {
     "data": {
      "text/plain": [
       "25665    0\n",
       "16464    0\n",
       "22386    1\n",
       "10149    1\n",
       "8729     0\n",
       "        ..\n",
       "17548    1\n",
       "11459    0\n",
       "6608     0\n",
       "2414     1\n",
       "14757    0\n",
       "Name: default payment next month_default, Length: 9000, dtype: uint8"
      ]
     },
     "execution_count": 386,
     "metadata": {},
     "output_type": "execute_result"
    }
   ],
   "source": [
    "y_test"
   ]
  },
  {
   "cell_type": "code",
   "execution_count": 387,
   "id": "a5840778",
   "metadata": {},
   "outputs": [
    {
     "name": "stdout",
     "output_type": "stream",
     "text": [
      "              precision    recall  f1-score   support\n",
      "\n",
      "           0       0.83      0.86      0.85      7052\n",
      "           1       0.44      0.38      0.41      1948\n",
      "\n",
      "    accuracy                           0.76      9000\n",
      "   macro avg       0.63      0.62      0.63      9000\n",
      "weighted avg       0.75      0.76      0.75      9000\n",
      "\n"
     ]
    }
   ],
   "source": [
    "#Modeling (Classification)\n",
    "algo_credit1= DecisionTreeClassifier(max_depth=20, )\n",
    "model_credit = algo_credit1.fit(x_train,y_train)\n",
    "#Predictions\n",
    "preds_credit= model_credit.predict(x_test)\n",
    "print(classification_report(y_test, preds_credit))"
   ]
  },
  {
   "cell_type": "code",
   "execution_count": 388,
   "id": "55c9122c",
   "metadata": {},
   "outputs": [
    {
     "name": "stdout",
     "output_type": "stream",
     "text": [
      "              precision    recall  f1-score   support\n",
      "\n",
      "           0       0.84      0.94      0.89      7052\n",
      "           1       0.63      0.37      0.46      1948\n",
      "\n",
      "    accuracy                           0.82      9000\n",
      "   macro avg       0.73      0.65      0.68      9000\n",
      "weighted avg       0.80      0.82      0.80      9000\n",
      "\n"
     ]
    }
   ],
   "source": [
    "#Modeling (Classification)\n",
    "algo_credit2= RandomForestClassifier( )\n",
    "model_credit = algo_credit2.fit(x_train,y_train)\n",
    "#Predictions\n",
    "preds_credit= model_credit.predict(x_test)\n",
    "print(classification_report(y_test, preds_credit))"
   ]
  },
  {
   "cell_type": "code",
   "execution_count": 389,
   "id": "e964dbda",
   "metadata": {},
   "outputs": [
    {
     "name": "stdout",
     "output_type": "stream",
     "text": [
      "              precision    recall  f1-score   support\n",
      "\n",
      "           0       0.84      0.95      0.89      7052\n",
      "           1       0.65      0.37      0.47      1948\n",
      "\n",
      "    accuracy                           0.82      9000\n",
      "   macro avg       0.75      0.66      0.68      9000\n",
      "weighted avg       0.80      0.82      0.80      9000\n",
      "\n"
     ]
    }
   ],
   "source": [
    "#Modeling (Classification)\n",
    "algo_credit3= GradientBoostingClassifier( )\n",
    "model_credit = algo_credit3.fit(x_train,y_train)\n",
    "#Predictions\n",
    "preds_credit= model_credit.predict(x_test)\n",
    "print(classification_report(y_test, preds_credit))"
   ]
  },
  {
   "cell_type": "code",
   "execution_count": 23,
   "id": "86da5aa6",
   "metadata": {},
   "outputs": [],
   "source": [
    "np.random.seed(42)"
   ]
  },
  {
   "cell_type": "code",
   "execution_count": 390,
   "id": "408656a6",
   "metadata": {},
   "outputs": [],
   "source": [
    "algos_Class = []\n",
    "algos_Class.append(('Random Forest Classifier', RandomForestClassifier()))\n",
    "algos_Class.append(('Decision Tree Classifier', DecisionTreeClassifier()))\n",
    "algos_Class.append(('Gradient Bossting Class', GradientBoostingClassifier()))"
   ]
  },
  {
   "cell_type": "code",
   "execution_count": 391,
   "id": "f65cfd89",
   "metadata": {},
   "outputs": [
    {
     "data": {
      "text/plain": [
       "[('Random Forest Classifier', RandomForestClassifier()),\n",
       " ('Decision Tree Classifier', DecisionTreeClassifier()),\n",
       " ('Gradient Bossting Class', GradientBoostingClassifier())]"
      ]
     },
     "execution_count": 391,
     "metadata": {},
     "output_type": "execute_result"
    }
   ],
   "source": [
    "algos_Class"
   ]
  },
  {
   "cell_type": "code",
   "execution_count": 392,
   "id": "e569388a",
   "metadata": {},
   "outputs": [],
   "source": [
    "#classification\n",
    "results = []\n",
    "names = []\n",
    "for name, model in algos_Class:\n",
    "    result = cross_val_score(model, X,y)\n",
    "    results.append(result)\n",
    "    names.append(name)"
   ]
  },
  {
   "cell_type": "code",
   "execution_count": 393,
   "id": "ad102aa9",
   "metadata": {},
   "outputs": [
    {
     "data": {
      "text/plain": [
       "[array([0.80566667, 0.80733333, 0.82016667, 0.82883333, 0.817     ]),\n",
       " array([0.613     , 0.70766667, 0.65816667, 0.73366667, 0.71166667]),\n",
       " array([0.78083333, 0.81133333, 0.78933333, 0.79383333, 0.779     ])]"
      ]
     },
     "execution_count": 393,
     "metadata": {},
     "output_type": "execute_result"
    }
   ],
   "source": [
    "results"
   ]
  },
  {
   "cell_type": "code",
   "execution_count": 394,
   "id": "cb49d7aa",
   "metadata": {},
   "outputs": [
    {
     "name": "stdout",
     "output_type": "stream",
     "text": [
      "[0.7805     0.81133333 0.78916667 0.79383333 0.779     ]\n"
     ]
    }
   ],
   "source": [
    "print(cross_val_score(model, X, y, cv=5, )) # cv = number of folds being held out"
   ]
  },
  {
   "cell_type": "code",
   "execution_count": 395,
   "id": "5ca8f02a",
   "metadata": {},
   "outputs": [
    {
     "name": "stdout",
     "output_type": "stream",
     "text": [
      "Random Forest Classifier 0.8158\n",
      "Decision Tree Classifier 0.6848333333333333\n",
      "Gradient Bossting Class 0.7908666666666666\n"
     ]
    }
   ],
   "source": [
    "for i in range(len(names)):\n",
    "    print(names[i],results[i].mean())"
   ]
  },
  {
   "cell_type": "markdown",
   "id": "d46117e2",
   "metadata": {},
   "source": [
    "# Predictive Analysis"
   ]
  },
  {
   "cell_type": "code",
   "execution_count": 396,
   "id": "6f41a5a9",
   "metadata": {},
   "outputs": [
    {
     "data": {
      "text/plain": [
       "DecisionTreeClassifier(max_depth=20)"
      ]
     },
     "execution_count": 396,
     "metadata": {},
     "output_type": "execute_result"
    }
   ],
   "source": [
    "#DecisionTreeClassifier\n",
    "DT=algo_credit1\n",
    "DT.fit(x_train, y_train)"
   ]
  },
  {
   "cell_type": "code",
   "execution_count": 397,
   "id": "a0c0056a",
   "metadata": {},
   "outputs": [
    {
     "data": {
      "text/plain": [
       "0.7608888888888888"
      ]
     },
     "execution_count": 397,
     "metadata": {},
     "output_type": "execute_result"
    }
   ],
   "source": [
    "predictions = DT.predict(x_test)\n",
    "DT.score(x_test, y_test)"
   ]
  },
  {
   "cell_type": "code",
   "execution_count": 398,
   "id": "7089c1d7",
   "metadata": {},
   "outputs": [
    {
     "data": {
      "text/plain": [
       "RandomForestClassifier()"
      ]
     },
     "execution_count": 398,
     "metadata": {},
     "output_type": "execute_result"
    }
   ],
   "source": [
    "#RandomForestClassifier\n",
    "RF=algo_credit2\n",
    "RF.fit(x_train, y_train)"
   ]
  },
  {
   "cell_type": "code",
   "execution_count": 399,
   "id": "8597105b",
   "metadata": {},
   "outputs": [
    {
     "data": {
      "text/plain": [
       "0.8153333333333334"
      ]
     },
     "execution_count": 399,
     "metadata": {},
     "output_type": "execute_result"
    }
   ],
   "source": [
    "predictions = RF.predict(x_test)\n",
    "RF.score(x_test, y_test)"
   ]
  },
  {
   "cell_type": "code",
   "execution_count": 400,
   "id": "008ff6a0",
   "metadata": {},
   "outputs": [
    {
     "data": {
      "text/plain": [
       "GradientBoostingClassifier()"
      ]
     },
     "execution_count": 400,
     "metadata": {},
     "output_type": "execute_result"
    }
   ],
   "source": [
    "#GradientBoostingClassifier\n",
    "GB=algo_credit3\n",
    "GB.fit(x_train, y_train)"
   ]
  },
  {
   "cell_type": "code",
   "execution_count": 401,
   "id": "20fcddb5",
   "metadata": {},
   "outputs": [
    {
     "data": {
      "text/plain": [
       "0.821"
      ]
     },
     "execution_count": 401,
     "metadata": {},
     "output_type": "execute_result"
    }
   ],
   "source": [
    "predictions = GB.predict(x_test)\n",
    "GB.score(x_test, y_test)"
   ]
  },
  {
   "cell_type": "code",
   "execution_count": null,
   "id": "148748b9",
   "metadata": {},
   "outputs": [],
   "source": []
  },
  {
   "cell_type": "code",
   "execution_count": null,
   "id": "02ece83c",
   "metadata": {},
   "outputs": [],
   "source": []
  },
  {
   "cell_type": "markdown",
   "id": "c9b8ae1f",
   "metadata": {},
   "source": [
    "# 2. Predicting Accuracy with DT, RFC and GBC, Limit_Bal as dependant, 7 bins acc .62"
   ]
  },
  {
   "cell_type": "code",
   "execution_count": 55,
   "id": "b98fac16",
   "metadata": {},
   "outputs": [
    {
     "data": {
      "text/plain": [
       "Index(['ID', 'LIMIT_BAL', 'MARRIAGE', 'AGE', 'PAY_0', 'PAY_2', 'PAY_3',\n",
       "       'PAY_4', 'PAY_5', 'PAY_6', 'BILL_AMT1', 'BILL_AMT2', 'BILL_AMT3',\n",
       "       'BILL_AMT4', 'BILL_AMT5', 'BILL_AMT6', 'PAY_AMT1', 'PAY_AMT2',\n",
       "       'PAY_AMT3', 'PAY_AMT4', 'PAY_AMT5', 'PAY_AMT6', 'SEX_female',\n",
       "       'SEX_male', 'EDUCATION_graduate school', 'EDUCATION_high school',\n",
       "       'EDUCATION_other', 'EDUCATION_university',\n",
       "       'default payment next month_default',\n",
       "       'default payment next month_not default'],\n",
       "      dtype='object')"
      ]
     },
     "execution_count": 55,
     "metadata": {},
     "output_type": "execute_result"
    }
   ],
   "source": [
    "credit.dtypes.index"
   ]
  },
  {
   "cell_type": "code",
   "execution_count": 56,
   "id": "aeea0251",
   "metadata": {},
   "outputs": [
    {
     "name": "stdout",
     "output_type": "stream",
     "text": [
      "Summary of feature sample\n"
     ]
    },
    {
     "data": {
      "text/html": [
       "<div>\n",
       "<style scoped>\n",
       "    .dataframe tbody tr th:only-of-type {\n",
       "        vertical-align: middle;\n",
       "    }\n",
       "\n",
       "    .dataframe tbody tr th {\n",
       "        vertical-align: top;\n",
       "    }\n",
       "\n",
       "    .dataframe thead th {\n",
       "        text-align: right;\n",
       "    }\n",
       "</style>\n",
       "<table border=\"1\" class=\"dataframe\">\n",
       "  <thead>\n",
       "    <tr style=\"text-align: right;\">\n",
       "      <th></th>\n",
       "      <th>ID</th>\n",
       "      <th>LIMIT_BAL</th>\n",
       "      <th>MARRIAGE</th>\n",
       "      <th>AGE</th>\n",
       "      <th>PAY_0</th>\n",
       "      <th>PAY_2</th>\n",
       "      <th>PAY_3</th>\n",
       "      <th>PAY_4</th>\n",
       "      <th>PAY_5</th>\n",
       "      <th>PAY_6</th>\n",
       "      <th>...</th>\n",
       "      <th>PAY_AMT3</th>\n",
       "      <th>PAY_AMT4</th>\n",
       "      <th>PAY_AMT5</th>\n",
       "      <th>PAY_AMT6</th>\n",
       "      <th>SEX_female</th>\n",
       "      <th>SEX_male</th>\n",
       "      <th>EDUCATION_graduate school</th>\n",
       "      <th>EDUCATION_high school</th>\n",
       "      <th>EDUCATION_other</th>\n",
       "      <th>EDUCATION_university</th>\n",
       "    </tr>\n",
       "  </thead>\n",
       "  <tbody>\n",
       "    <tr>\n",
       "      <th>0</th>\n",
       "      <td>1</td>\n",
       "      <td>20000</td>\n",
       "      <td>1</td>\n",
       "      <td>24</td>\n",
       "      <td>2</td>\n",
       "      <td>2</td>\n",
       "      <td>-1</td>\n",
       "      <td>-1</td>\n",
       "      <td>-2</td>\n",
       "      <td>-2</td>\n",
       "      <td>...</td>\n",
       "      <td>0</td>\n",
       "      <td>0</td>\n",
       "      <td>0</td>\n",
       "      <td>0</td>\n",
       "      <td>1</td>\n",
       "      <td>0</td>\n",
       "      <td>0</td>\n",
       "      <td>0</td>\n",
       "      <td>0</td>\n",
       "      <td>1</td>\n",
       "    </tr>\n",
       "    <tr>\n",
       "      <th>1</th>\n",
       "      <td>2</td>\n",
       "      <td>120000</td>\n",
       "      <td>2</td>\n",
       "      <td>26</td>\n",
       "      <td>-1</td>\n",
       "      <td>2</td>\n",
       "      <td>0</td>\n",
       "      <td>0</td>\n",
       "      <td>0</td>\n",
       "      <td>2</td>\n",
       "      <td>...</td>\n",
       "      <td>1000</td>\n",
       "      <td>1000</td>\n",
       "      <td>0</td>\n",
       "      <td>2000</td>\n",
       "      <td>1</td>\n",
       "      <td>0</td>\n",
       "      <td>0</td>\n",
       "      <td>0</td>\n",
       "      <td>0</td>\n",
       "      <td>1</td>\n",
       "    </tr>\n",
       "    <tr>\n",
       "      <th>2</th>\n",
       "      <td>3</td>\n",
       "      <td>90000</td>\n",
       "      <td>2</td>\n",
       "      <td>34</td>\n",
       "      <td>0</td>\n",
       "      <td>0</td>\n",
       "      <td>0</td>\n",
       "      <td>0</td>\n",
       "      <td>0</td>\n",
       "      <td>0</td>\n",
       "      <td>...</td>\n",
       "      <td>1000</td>\n",
       "      <td>1000</td>\n",
       "      <td>1000</td>\n",
       "      <td>5000</td>\n",
       "      <td>1</td>\n",
       "      <td>0</td>\n",
       "      <td>0</td>\n",
       "      <td>0</td>\n",
       "      <td>0</td>\n",
       "      <td>1</td>\n",
       "    </tr>\n",
       "    <tr>\n",
       "      <th>3</th>\n",
       "      <td>4</td>\n",
       "      <td>50000</td>\n",
       "      <td>1</td>\n",
       "      <td>37</td>\n",
       "      <td>0</td>\n",
       "      <td>0</td>\n",
       "      <td>0</td>\n",
       "      <td>0</td>\n",
       "      <td>0</td>\n",
       "      <td>0</td>\n",
       "      <td>...</td>\n",
       "      <td>1200</td>\n",
       "      <td>1100</td>\n",
       "      <td>1069</td>\n",
       "      <td>1000</td>\n",
       "      <td>1</td>\n",
       "      <td>0</td>\n",
       "      <td>0</td>\n",
       "      <td>0</td>\n",
       "      <td>0</td>\n",
       "      <td>1</td>\n",
       "    </tr>\n",
       "    <tr>\n",
       "      <th>4</th>\n",
       "      <td>5</td>\n",
       "      <td>50000</td>\n",
       "      <td>1</td>\n",
       "      <td>57</td>\n",
       "      <td>-1</td>\n",
       "      <td>0</td>\n",
       "      <td>-1</td>\n",
       "      <td>0</td>\n",
       "      <td>0</td>\n",
       "      <td>0</td>\n",
       "      <td>...</td>\n",
       "      <td>10000</td>\n",
       "      <td>9000</td>\n",
       "      <td>689</td>\n",
       "      <td>679</td>\n",
       "      <td>0</td>\n",
       "      <td>1</td>\n",
       "      <td>0</td>\n",
       "      <td>0</td>\n",
       "      <td>0</td>\n",
       "      <td>1</td>\n",
       "    </tr>\n",
       "  </tbody>\n",
       "</table>\n",
       "<p>5 rows × 28 columns</p>\n",
       "</div>"
      ],
      "text/plain": [
       "   ID  LIMIT_BAL  MARRIAGE  AGE  PAY_0  PAY_2  PAY_3  PAY_4  PAY_5  PAY_6  \\\n",
       "0   1      20000         1   24      2      2     -1     -1     -2     -2   \n",
       "1   2     120000         2   26     -1      2      0      0      0      2   \n",
       "2   3      90000         2   34      0      0      0      0      0      0   \n",
       "3   4      50000         1   37      0      0      0      0      0      0   \n",
       "4   5      50000         1   57     -1      0     -1      0      0      0   \n",
       "\n",
       "   ...  PAY_AMT3  PAY_AMT4  PAY_AMT5  PAY_AMT6  SEX_female  SEX_male  \\\n",
       "0  ...         0         0         0         0           1         0   \n",
       "1  ...      1000      1000         0      2000           1         0   \n",
       "2  ...      1000      1000      1000      5000           1         0   \n",
       "3  ...      1200      1100      1069      1000           1         0   \n",
       "4  ...     10000      9000       689       679           0         1   \n",
       "\n",
       "   EDUCATION_graduate school  EDUCATION_high school  EDUCATION_other  \\\n",
       "0                          0                      0                0   \n",
       "1                          0                      0                0   \n",
       "2                          0                      0                0   \n",
       "3                          0                      0                0   \n",
       "4                          0                      0                0   \n",
       "\n",
       "   EDUCATION_university  \n",
       "0                     1  \n",
       "1                     1  \n",
       "2                     1  \n",
       "3                     1  \n",
       "4                     1  \n",
       "\n",
       "[5 rows x 28 columns]"
      ]
     },
     "execution_count": 56,
     "metadata": {},
     "output_type": "execute_result"
    }
   ],
   "source": [
    "#features\n",
    "XMA = credit[['MARRIAGE', 'AGE',]]\n",
    "print('Summary of feature sample')\n",
    "X.head()"
   ]
  },
  {
   "cell_type": "code",
   "execution_count": 57,
   "id": "cb4b995b",
   "metadata": {},
   "outputs": [],
   "source": [
    "yMA = credit['LIMIT_BAL']"
   ]
  },
  {
   "cell_type": "code",
   "execution_count": 58,
   "id": "dffd78ec",
   "metadata": {},
   "outputs": [
    {
     "data": {
      "text/plain": [
       "Text(0.5, 0, 'Balance Limit')"
      ]
     },
     "execution_count": 58,
     "metadata": {},
     "output_type": "execute_result"
    },
    {
     "data": {
      "image/png": "[encoded data removed]",
      "text/plain": [
       "<Figure size 432x288 with 1 Axes>"
      ]
     },
     "metadata": {
      "needs_background": "light"
     },
     "output_type": "display_data"
    }
   ],
   "source": [
    "pd.DataFrame(yMA).hist(bins=6)\n",
    "plt.ticklabel_format(useOffset=False, style='plain')\n",
    "plt.xlabel('Balance Limit') "
   ]
  },
  {
   "cell_type": "code",
   "execution_count": 59,
   "id": "68c58553",
   "metadata": {},
   "outputs": [],
   "source": [
    "yMA= pd.cut(yMA, bins=[9999, 180000, 300000,450000, 600000,1000000],\n",
    "            labels = ['10K-180K', '180K-300K','300K-450K', '45OK-600K', '600K-1MIL'])\n"
   ]
  },
  {
   "cell_type": "code",
   "execution_count": 60,
   "id": "83fed18e",
   "metadata": {},
   "outputs": [
    {
     "data": {
      "text/plain": [
       "<AxesSubplot:>"
      ]
     },
     "execution_count": 60,
     "metadata": {},
     "output_type": "execute_result"
    },
    {
     "data": {
      "image/png": "[encoded data removed]",
      "text/plain": [
       "<Figure size 432x288 with 1 Axes>"
      ]
     },
     "metadata": {
      "needs_background": "light"
     },
     "output_type": "display_data"
    }
   ],
   "source": [
    "yMA.hist()"
   ]
  },
  {
   "cell_type": "code",
   "execution_count": 61,
   "id": "9830b34b",
   "metadata": {},
   "outputs": [],
   "source": [
    "yMA = yMA.cat.codes"
   ]
  },
  {
   "cell_type": "code",
   "execution_count": 62,
   "id": "8301d198",
   "metadata": {},
   "outputs": [],
   "source": [
    "yMA = yMA.values.reshape(-1,1)"
   ]
  },
  {
   "cell_type": "code",
   "execution_count": 63,
   "id": "27107b3d",
   "metadata": {},
   "outputs": [
    {
     "data": {
      "text/html": [
       "<div>\n",
       "<style scoped>\n",
       "    .dataframe tbody tr th:only-of-type {\n",
       "        vertical-align: middle;\n",
       "    }\n",
       "\n",
       "    .dataframe tbody tr th {\n",
       "        vertical-align: top;\n",
       "    }\n",
       "\n",
       "    .dataframe thead th {\n",
       "        text-align: right;\n",
       "    }\n",
       "</style>\n",
       "<table border=\"1\" class=\"dataframe\">\n",
       "  <thead>\n",
       "    <tr style=\"text-align: right;\">\n",
       "      <th></th>\n",
       "      <th>MARRIAGE</th>\n",
       "      <th>AGE</th>\n",
       "    </tr>\n",
       "  </thead>\n",
       "  <tbody>\n",
       "    <tr>\n",
       "      <th>25665</th>\n",
       "      <td>2</td>\n",
       "      <td>26</td>\n",
       "    </tr>\n",
       "    <tr>\n",
       "      <th>16464</th>\n",
       "      <td>1</td>\n",
       "      <td>59</td>\n",
       "    </tr>\n",
       "    <tr>\n",
       "      <th>22386</th>\n",
       "      <td>2</td>\n",
       "      <td>30</td>\n",
       "    </tr>\n",
       "    <tr>\n",
       "      <th>10149</th>\n",
       "      <td>1</td>\n",
       "      <td>41</td>\n",
       "    </tr>\n",
       "    <tr>\n",
       "      <th>8729</th>\n",
       "      <td>1</td>\n",
       "      <td>43</td>\n",
       "    </tr>\n",
       "    <tr>\n",
       "      <th>...</th>\n",
       "      <td>...</td>\n",
       "      <td>...</td>\n",
       "    </tr>\n",
       "    <tr>\n",
       "      <th>17548</th>\n",
       "      <td>1</td>\n",
       "      <td>48</td>\n",
       "    </tr>\n",
       "    <tr>\n",
       "      <th>11459</th>\n",
       "      <td>1</td>\n",
       "      <td>43</td>\n",
       "    </tr>\n",
       "    <tr>\n",
       "      <th>6608</th>\n",
       "      <td>2</td>\n",
       "      <td>22</td>\n",
       "    </tr>\n",
       "    <tr>\n",
       "      <th>2414</th>\n",
       "      <td>1</td>\n",
       "      <td>38</td>\n",
       "    </tr>\n",
       "    <tr>\n",
       "      <th>14757</th>\n",
       "      <td>1</td>\n",
       "      <td>24</td>\n",
       "    </tr>\n",
       "  </tbody>\n",
       "</table>\n",
       "<p>9000 rows × 2 columns</p>\n",
       "</div>"
      ],
      "text/plain": [
       "       MARRIAGE  AGE\n",
       "25665         2   26\n",
       "16464         1   59\n",
       "22386         2   30\n",
       "10149         1   41\n",
       "8729          1   43\n",
       "...         ...  ...\n",
       "17548         1   48\n",
       "11459         1   43\n",
       "6608          2   22\n",
       "2414          1   38\n",
       "14757         1   24\n",
       "\n",
       "[9000 rows x 2 columns]"
      ]
     },
     "execution_count": 63,
     "metadata": {},
     "output_type": "execute_result"
    }
   ],
   "source": [
    "#train test split\n",
    "x_train, x_test, y_train, y_test = train_test_split(XMA, yMA,test_size = 0.3, random_state=123)\n",
    "x_test"
   ]
  },
  {
   "cell_type": "code",
   "execution_count": 64,
   "id": "8534a81b",
   "metadata": {},
   "outputs": [
    {
     "data": {
      "text/plain": [
       "array([[0],\n",
       "       [0],\n",
       "       [0],\n",
       "       ...,\n",
       "       [0],\n",
       "       [0],\n",
       "       [0]], dtype=int8)"
      ]
     },
     "execution_count": 64,
     "metadata": {},
     "output_type": "execute_result"
    }
   ],
   "source": [
    "y_test"
   ]
  },
  {
   "cell_type": "code",
   "execution_count": 65,
   "id": "e5b2e886",
   "metadata": {},
   "outputs": [
    {
     "name": "stdout",
     "output_type": "stream",
     "text": [
      "              precision    recall  f1-score   support\n",
      "\n",
      "           0       0.62      1.00      0.76      5567\n",
      "           1       0.20      0.00      0.00      2133\n",
      "           2       1.00      0.00      0.00       940\n",
      "           3       0.00      0.00      0.00       336\n",
      "           4       1.00      0.00      0.00        24\n",
      "\n",
      "    accuracy                           0.62      9000\n",
      "   macro avg       0.56      0.20      0.15      9000\n",
      "weighted avg       0.54      0.62      0.47      9000\n",
      "\n"
     ]
    }
   ],
   "source": [
    "#DecisionTreeClassifier\n",
    "algo_MA1= DecisionTreeClassifier(max_depth=20, )\n",
    "model_MA1 = algo_MA1.fit(x_train,y_train)\n",
    "#Predictions\n",
    "preds_MA1 = algo_MA1.predict(x_test)\n",
    "print(classification_report(y_test, preds_MA1,zero_division=1))"
   ]
  },
  {
   "cell_type": "code",
   "execution_count": 66,
   "id": "8ccd02c9",
   "metadata": {},
   "outputs": [
    {
     "name": "stdout",
     "output_type": "stream",
     "text": [
      "              precision    recall  f1-score   support\n",
      "\n",
      "           0       0.62      1.00      0.76      5567\n",
      "           1       0.23      0.00      0.00      2133\n",
      "           2       1.00      0.00      0.00       940\n",
      "           3       0.00      0.00      0.00       336\n",
      "           4       1.00      0.00      0.00        24\n",
      "\n",
      "    accuracy                           0.62      9000\n",
      "   macro avg       0.57      0.20      0.15      9000\n",
      "weighted avg       0.54      0.62      0.47      9000\n",
      "\n"
     ]
    }
   ],
   "source": [
    "#RandomForestClassifier\n",
    "algo_MA2= RandomForestClassifier(max_depth=20, )\n",
    "model_MA2 = algo_MA2.fit(x_train,y_train.ravel())\n",
    "#Predictions\n",
    "preds_MA2 = algo_MA2.predict(x_test)\n",
    "print(classification_report(y_test, preds_MA2,zero_division=1))"
   ]
  },
  {
   "cell_type": "code",
   "execution_count": 67,
   "id": "922a5b58",
   "metadata": {},
   "outputs": [
    {
     "name": "stdout",
     "output_type": "stream",
     "text": [
      "              precision    recall  f1-score   support\n",
      "\n",
      "           0       0.62      1.00      0.76      5567\n",
      "           1       0.20      0.00      0.00      2133\n",
      "           2       1.00      0.00      0.00       940\n",
      "           3       1.00      0.00      0.00       336\n",
      "           4       1.00      0.00      0.00        24\n",
      "\n",
      "    accuracy                           0.62      9000\n",
      "   macro avg       0.76      0.20      0.15      9000\n",
      "weighted avg       0.57      0.62      0.47      9000\n",
      "\n"
     ]
    }
   ],
   "source": [
    "#RandomForestClassifier\n",
    "algo_MA3= GradientBoostingClassifier() \n",
    "model_MA3 = algo_MA3.fit(x_train,y_train.ravel())\n",
    "#Predictions\n",
    "preds_MA3 = algo_MA3.predict(x_test)\n",
    "print(classification_report(y_test, preds_MA3,zero_division=1))"
   ]
  },
  {
   "cell_type": "code",
   "execution_count": 69,
   "id": "26f0561f",
   "metadata": {},
   "outputs": [
    {
     "name": "stdout",
     "output_type": "stream",
     "text": [
      "[0.6196     0.6204     0.62053333 0.62093333]\n"
     ]
    }
   ],
   "source": [
    "print(cross_val_score(model_MA1, XMA, yMA.ravel(), cv=4 )) # cv = number of folds being held out"
   ]
  },
  {
   "cell_type": "code",
   "execution_count": 716,
   "id": "9afb4356",
   "metadata": {},
   "outputs": [],
   "source": [
    "algos_Class = []\n",
    "algos_Class.append(('Random Forest Classifier', RandomForestClassifier()))\n",
    "algos_Class.append(('Decision Tree Classifier', DecisionTreeClassifier()))\n",
    "algos_Class.append(('Gradient Bossting Class', GradientBoostingClassifier()))\n"
   ]
  },
  {
   "cell_type": "code",
   "execution_count": 717,
   "id": "13afed8f",
   "metadata": {},
   "outputs": [
    {
     "data": {
      "text/plain": [
       "[('Random Forest Classifier', RandomForestClassifier()),\n",
       " ('Decision Tree Classifier', DecisionTreeClassifier()),\n",
       " ('Gradient Bossting Class', GradientBoostingClassifier())]"
      ]
     },
     "execution_count": 717,
     "metadata": {},
     "output_type": "execute_result"
    }
   ],
   "source": [
    "algos_Class"
   ]
  },
  {
   "cell_type": "code",
   "execution_count": 719,
   "id": "34f6d443",
   "metadata": {},
   "outputs": [],
   "source": [
    "#classification\n",
    "results = []\n",
    "names = []\n",
    "for name, model in algos_Class:\n",
    "    result = cross_val_score(model, XMA,yMA.ravel())\n",
    "    results.append(result)\n",
    "    names.append(name)"
   ]
  },
  {
   "cell_type": "code",
   "execution_count": 720,
   "id": "59bc0d07",
   "metadata": {},
   "outputs": [
    {
     "data": {
      "text/plain": [
       "[array([0.61816667, 0.61983333, 0.6205    , 0.61966667, 0.621     ]),\n",
       " array([0.619     , 0.62      , 0.6205    , 0.62016667, 0.62083333]),\n",
       " array([0.61966667, 0.61983333, 0.6205    , 0.62016667, 0.62016667])]"
      ]
     },
     "execution_count": 720,
     "metadata": {},
     "output_type": "execute_result"
    }
   ],
   "source": [
    "results"
   ]
  },
  {
   "cell_type": "code",
   "execution_count": 721,
   "id": "f826dab3",
   "metadata": {},
   "outputs": [
    {
     "name": "stdout",
     "output_type": "stream",
     "text": [
      "Random Forest Classifier 0.6198333333333333\n",
      "Decision Tree Classifier 0.6201000000000001\n",
      "Gradient Bossting Class 0.6200666666666667\n"
     ]
    }
   ],
   "source": [
    "for i in range(len(names)):\n",
    "    print(names[i],results[i].mean())"
   ]
  },
  {
   "cell_type": "markdown",
   "id": "4a39dc40",
   "metadata": {},
   "source": [
    "# Predictive"
   ]
  },
  {
   "cell_type": "code",
   "execution_count": 722,
   "id": "ca6bc155",
   "metadata": {},
   "outputs": [
    {
     "data": {
      "text/plain": [
       "0.6178888888888889"
      ]
     },
     "execution_count": 722,
     "metadata": {},
     "output_type": "execute_result"
    }
   ],
   "source": [
    "#DecisionTreeClassifier\n",
    "DT=algo_MA1\n",
    "DT.fit(x_train, y_train)\n",
    "predictions = DT.predict(x_test)\n",
    "DT.score(x_test, y_test)"
   ]
  },
  {
   "cell_type": "code",
   "execution_count": 725,
   "id": "141f4750",
   "metadata": {},
   "outputs": [
    {
     "data": {
      "text/plain": [
       "0.6181111111111111"
      ]
     },
     "execution_count": 725,
     "metadata": {},
     "output_type": "execute_result"
    }
   ],
   "source": [
    "#RandomForestClassifier\n",
    "RF=algo_MA2\n",
    "RF.fit(x_train, y_train.ravel())\n",
    "predictions = RF.predict(x_test)\n",
    "RF.score(x_test, y_test)"
   ]
  },
  {
   "cell_type": "code",
   "execution_count": 726,
   "id": "d140541a",
   "metadata": {},
   "outputs": [
    {
     "data": {
      "text/plain": [
       "0.6182222222222222"
      ]
     },
     "execution_count": 726,
     "metadata": {},
     "output_type": "execute_result"
    }
   ],
   "source": [
    "#GradientBoostingClassifier\n",
    "GB=algo_MA3\n",
    "GB.fit(x_train, y_train.ravel())\n",
    "predictions = GB.predict(x_test)\n",
    "GB.score(x_test, y_test)"
   ]
  },
  {
   "cell_type": "code",
   "execution_count": null,
   "id": "13cc248b",
   "metadata": {},
   "outputs": [],
   "source": []
  },
  {
   "cell_type": "code",
   "execution_count": null,
   "id": "379e7afb",
   "metadata": {},
   "outputs": [],
   "source": []
  },
  {
   "cell_type": "markdown",
   "id": "e61d47b2",
   "metadata": {},
   "source": [
    "# 2. Predicting Accuracy with DT, RFC and GBC, Limit_Bal as dependant, 7 bins  Acc .62"
   ]
  },
  {
   "cell_type": "code",
   "execution_count": 41,
   "id": "43db46fa",
   "metadata": {},
   "outputs": [],
   "source": [
    "XL= credit[['default payment next month_default','MARRIAGE', 'AGE']]\n",
    "yL = credit['LIMIT_BAL']"
   ]
  },
  {
   "cell_type": "code",
   "execution_count": 42,
   "id": "05193970",
   "metadata": {},
   "outputs": [
    {
     "data": {
      "text/plain": [
       "Text(0.5, 0, 'Balance Limit')"
      ]
     },
     "execution_count": 42,
     "metadata": {},
     "output_type": "execute_result"
    },
    {
     "data": {
      "image/png": "[encoded data removed]",
      "text/plain": [
       "<Figure size 432x288 with 1 Axes>"
      ]
     },
     "metadata": {
      "needs_background": "light"
     },
     "output_type": "display_data"
    }
   ],
   "source": [
    "pd.DataFrame(yL).hist(bins=6)\n",
    "plt.ticklabel_format(useOffset=False, style='plain')\n",
    "plt.xlabel('Balance Limit') "
   ]
  },
  {
   "cell_type": "code",
   "execution_count": 43,
   "id": "d30b87a3",
   "metadata": {},
   "outputs": [
    {
     "data": {
      "text/plain": [
       "1000000"
      ]
     },
     "execution_count": 43,
     "metadata": {},
     "output_type": "execute_result"
    }
   ],
   "source": [
    "yL.max()"
   ]
  },
  {
   "cell_type": "code",
   "execution_count": 44,
   "id": "22ebdac1",
   "metadata": {},
   "outputs": [
    {
     "data": {
      "text/plain": [
       "10000"
      ]
     },
     "execution_count": 44,
     "metadata": {},
     "output_type": "execute_result"
    }
   ],
   "source": [
    "yL.min()"
   ]
  },
  {
   "cell_type": "code",
   "execution_count": 45,
   "id": "b51b69b0",
   "metadata": {},
   "outputs": [],
   "source": [
    "yL= pd.cut(yL, bins=[9999, 180000, 300000,450000, 600000,1000000], \n",
    "           labels = ['10K-180K', '180K-300K','300K-450K', '45OK-600K', '600K-1MIL'])\n"
   ]
  },
  {
   "cell_type": "code",
   "execution_count": 47,
   "id": "42ae210f",
   "metadata": {},
   "outputs": [
    {
     "data": {
      "text/plain": [
       "<AxesSubplot:>"
      ]
     },
     "execution_count": 47,
     "metadata": {},
     "output_type": "execute_result"
    },
    {
     "data": {
      "image/png": "[encoded data removed]",
      "text/plain": [
       "<Figure size 432x288 with 1 Axes>"
      ]
     },
     "metadata": {
      "needs_background": "light"
     },
     "output_type": "display_data"
    }
   ],
   "source": [
    "yL.hist()"
   ]
  },
  {
   "cell_type": "code",
   "execution_count": 48,
   "id": "d3b114ff",
   "metadata": {},
   "outputs": [
    {
     "data": {
      "text/html": [
       "<div>\n",
       "<style scoped>\n",
       "    .dataframe tbody tr th:only-of-type {\n",
       "        vertical-align: middle;\n",
       "    }\n",
       "\n",
       "    .dataframe tbody tr th {\n",
       "        vertical-align: top;\n",
       "    }\n",
       "\n",
       "    .dataframe thead th {\n",
       "        text-align: right;\n",
       "    }\n",
       "</style>\n",
       "<table border=\"1\" class=\"dataframe\">\n",
       "  <thead>\n",
       "    <tr style=\"text-align: right;\">\n",
       "      <th></th>\n",
       "      <th>default payment next month_default</th>\n",
       "      <th>MARRIAGE</th>\n",
       "      <th>AGE</th>\n",
       "    </tr>\n",
       "  </thead>\n",
       "  <tbody>\n",
       "    <tr>\n",
       "      <th>25665</th>\n",
       "      <td>0</td>\n",
       "      <td>2</td>\n",
       "      <td>26</td>\n",
       "    </tr>\n",
       "    <tr>\n",
       "      <th>16464</th>\n",
       "      <td>0</td>\n",
       "      <td>1</td>\n",
       "      <td>59</td>\n",
       "    </tr>\n",
       "    <tr>\n",
       "      <th>22386</th>\n",
       "      <td>1</td>\n",
       "      <td>2</td>\n",
       "      <td>30</td>\n",
       "    </tr>\n",
       "    <tr>\n",
       "      <th>10149</th>\n",
       "      <td>1</td>\n",
       "      <td>1</td>\n",
       "      <td>41</td>\n",
       "    </tr>\n",
       "    <tr>\n",
       "      <th>8729</th>\n",
       "      <td>0</td>\n",
       "      <td>1</td>\n",
       "      <td>43</td>\n",
       "    </tr>\n",
       "    <tr>\n",
       "      <th>...</th>\n",
       "      <td>...</td>\n",
       "      <td>...</td>\n",
       "      <td>...</td>\n",
       "    </tr>\n",
       "    <tr>\n",
       "      <th>17548</th>\n",
       "      <td>1</td>\n",
       "      <td>1</td>\n",
       "      <td>48</td>\n",
       "    </tr>\n",
       "    <tr>\n",
       "      <th>11459</th>\n",
       "      <td>0</td>\n",
       "      <td>1</td>\n",
       "      <td>43</td>\n",
       "    </tr>\n",
       "    <tr>\n",
       "      <th>6608</th>\n",
       "      <td>0</td>\n",
       "      <td>2</td>\n",
       "      <td>22</td>\n",
       "    </tr>\n",
       "    <tr>\n",
       "      <th>2414</th>\n",
       "      <td>1</td>\n",
       "      <td>1</td>\n",
       "      <td>38</td>\n",
       "    </tr>\n",
       "    <tr>\n",
       "      <th>14757</th>\n",
       "      <td>0</td>\n",
       "      <td>1</td>\n",
       "      <td>24</td>\n",
       "    </tr>\n",
       "  </tbody>\n",
       "</table>\n",
       "<p>9000 rows × 3 columns</p>\n",
       "</div>"
      ],
      "text/plain": [
       "       default payment next month_default  MARRIAGE  AGE\n",
       "25665                                   0         2   26\n",
       "16464                                   0         1   59\n",
       "22386                                   1         2   30\n",
       "10149                                   1         1   41\n",
       "8729                                    0         1   43\n",
       "...                                   ...       ...  ...\n",
       "17548                                   1         1   48\n",
       "11459                                   0         1   43\n",
       "6608                                    0         2   22\n",
       "2414                                    1         1   38\n",
       "14757                                   0         1   24\n",
       "\n",
       "[9000 rows x 3 columns]"
      ]
     },
     "execution_count": 48,
     "metadata": {},
     "output_type": "execute_result"
    }
   ],
   "source": [
    "#train test split\n",
    "x_train, x_test, y_train, y_test = train_test_split(XL, yL,test_size = 0.3, random_state=123)\n",
    "x_test"
   ]
  },
  {
   "cell_type": "code",
   "execution_count": 49,
   "id": "feeb4616",
   "metadata": {},
   "outputs": [
    {
     "data": {
      "text/html": [
       "<div>\n",
       "<style scoped>\n",
       "    .dataframe tbody tr th:only-of-type {\n",
       "        vertical-align: middle;\n",
       "    }\n",
       "\n",
       "    .dataframe tbody tr th {\n",
       "        vertical-align: top;\n",
       "    }\n",
       "\n",
       "    .dataframe thead th {\n",
       "        text-align: right;\n",
       "    }\n",
       "</style>\n",
       "<table border=\"1\" class=\"dataframe\">\n",
       "  <thead>\n",
       "    <tr style=\"text-align: right;\">\n",
       "      <th></th>\n",
       "      <th>default payment next month_default</th>\n",
       "      <th>MARRIAGE</th>\n",
       "      <th>AGE</th>\n",
       "    </tr>\n",
       "  </thead>\n",
       "  <tbody>\n",
       "    <tr>\n",
       "      <th>25665</th>\n",
       "      <td>0</td>\n",
       "      <td>2</td>\n",
       "      <td>26</td>\n",
       "    </tr>\n",
       "    <tr>\n",
       "      <th>16464</th>\n",
       "      <td>0</td>\n",
       "      <td>1</td>\n",
       "      <td>59</td>\n",
       "    </tr>\n",
       "    <tr>\n",
       "      <th>22386</th>\n",
       "      <td>1</td>\n",
       "      <td>2</td>\n",
       "      <td>30</td>\n",
       "    </tr>\n",
       "    <tr>\n",
       "      <th>10149</th>\n",
       "      <td>1</td>\n",
       "      <td>1</td>\n",
       "      <td>41</td>\n",
       "    </tr>\n",
       "    <tr>\n",
       "      <th>8729</th>\n",
       "      <td>0</td>\n",
       "      <td>1</td>\n",
       "      <td>43</td>\n",
       "    </tr>\n",
       "    <tr>\n",
       "      <th>...</th>\n",
       "      <td>...</td>\n",
       "      <td>...</td>\n",
       "      <td>...</td>\n",
       "    </tr>\n",
       "    <tr>\n",
       "      <th>17548</th>\n",
       "      <td>1</td>\n",
       "      <td>1</td>\n",
       "      <td>48</td>\n",
       "    </tr>\n",
       "    <tr>\n",
       "      <th>11459</th>\n",
       "      <td>0</td>\n",
       "      <td>1</td>\n",
       "      <td>43</td>\n",
       "    </tr>\n",
       "    <tr>\n",
       "      <th>6608</th>\n",
       "      <td>0</td>\n",
       "      <td>2</td>\n",
       "      <td>22</td>\n",
       "    </tr>\n",
       "    <tr>\n",
       "      <th>2414</th>\n",
       "      <td>1</td>\n",
       "      <td>1</td>\n",
       "      <td>38</td>\n",
       "    </tr>\n",
       "    <tr>\n",
       "      <th>14757</th>\n",
       "      <td>0</td>\n",
       "      <td>1</td>\n",
       "      <td>24</td>\n",
       "    </tr>\n",
       "  </tbody>\n",
       "</table>\n",
       "<p>9000 rows × 3 columns</p>\n",
       "</div>"
      ],
      "text/plain": [
       "       default payment next month_default  MARRIAGE  AGE\n",
       "25665                                   0         2   26\n",
       "16464                                   0         1   59\n",
       "22386                                   1         2   30\n",
       "10149                                   1         1   41\n",
       "8729                                    0         1   43\n",
       "...                                   ...       ...  ...\n",
       "17548                                   1         1   48\n",
       "11459                                   0         1   43\n",
       "6608                                    0         2   22\n",
       "2414                                    1         1   38\n",
       "14757                                   0         1   24\n",
       "\n",
       "[9000 rows x 3 columns]"
      ]
     },
     "execution_count": 49,
     "metadata": {},
     "output_type": "execute_result"
    }
   ],
   "source": [
    "x_test"
   ]
  },
  {
   "cell_type": "code",
   "execution_count": 50,
   "id": "c1e1f10b",
   "metadata": {},
   "outputs": [
    {
     "data": {
      "text/plain": [
       "25665     10K-180K\n",
       "16464     10K-180K\n",
       "22386     10K-180K\n",
       "10149    180K-300K\n",
       "8729      10K-180K\n",
       "           ...    \n",
       "17548     10K-180K\n",
       "11459    300K-450K\n",
       "6608      10K-180K\n",
       "2414      10K-180K\n",
       "14757     10K-180K\n",
       "Name: LIMIT_BAL, Length: 9000, dtype: category\n",
       "Categories (5, object): ['10K-180K' < '180K-300K' < '300K-450K' < '45OK-600K' < '600K-1MIL']"
      ]
     },
     "execution_count": 50,
     "metadata": {},
     "output_type": "execute_result"
    }
   ],
   "source": [
    "y_test"
   ]
  },
  {
   "cell_type": "code",
   "execution_count": 51,
   "id": "2eb5fe3a",
   "metadata": {},
   "outputs": [
    {
     "name": "stdout",
     "output_type": "stream",
     "text": [
      "              precision    recall  f1-score   support\n",
      "\n",
      "    10K-180K       0.62      1.00      0.76      5567\n",
      "   180K-300K       0.36      0.00      0.00      2133\n",
      "   300K-450K       1.00      0.00      0.00       940\n",
      "   45OK-600K       0.00      0.00      0.00       336\n",
      "   600K-1MIL       1.00      0.00      0.00        24\n",
      "\n",
      "    accuracy                           0.62      9000\n",
      "   macro avg       0.60      0.20      0.15      9000\n",
      "weighted avg       0.58      0.62      0.47      9000\n",
      "\n"
     ]
    }
   ],
   "source": [
    "#DecisionTreeClassifier\n",
    "algo_LB1= DecisionTreeClassifier(max_depth=20, )\n",
    "model_LB1 = algo_LB1.fit(x_train,y_train)\n",
    "#Predictions\n",
    "preds_LB1 = algo_LB1.predict(x_test)\n",
    "print(classification_report(y_test, preds_LB1, zero_division=1))"
   ]
  },
  {
   "cell_type": "code",
   "execution_count": 52,
   "id": "2e5c7ada",
   "metadata": {},
   "outputs": [
    {
     "name": "stdout",
     "output_type": "stream",
     "text": [
      "              precision    recall  f1-score   support\n",
      "\n",
      "    10K-180K       0.62      1.00      0.76      5567\n",
      "   180K-300K       0.38      0.00      0.00      2133\n",
      "   300K-450K       1.00      0.00      0.00       940\n",
      "   45OK-600K       0.00      0.00      0.00       336\n",
      "   600K-1MIL       1.00      0.00      0.00        24\n",
      "\n",
      "    accuracy                           0.62      9000\n",
      "   macro avg       0.60      0.20      0.15      9000\n",
      "weighted avg       0.58      0.62      0.47      9000\n",
      "\n"
     ]
    }
   ],
   "source": [
    "#RandomForestClassifier\n",
    "algo_LB2= RandomForestClassifier(max_depth=20, )\n",
    "model_LB2 = algo_LB2.fit(x_train,y_train)\n",
    "#Predictions\n",
    "preds_LB2 = algo_LB2.predict(x_test)\n",
    "print(classification_report(y_test, preds_LB2, zero_division=1))"
   ]
  },
  {
   "cell_type": "code",
   "execution_count": 53,
   "id": "4889deee",
   "metadata": {},
   "outputs": [
    {
     "name": "stdout",
     "output_type": "stream",
     "text": [
      "              precision    recall  f1-score   support\n",
      "\n",
      "    10K-180K       0.62      1.00      0.76      5567\n",
      "   180K-300K       0.50      0.00      0.00      2133\n",
      "   300K-450K       1.00      0.00      0.00       940\n",
      "   45OK-600K       1.00      0.00      0.00       336\n",
      "   600K-1MIL       1.00      0.00      0.00        24\n",
      "\n",
      "    accuracy                           0.62      9000\n",
      "   macro avg       0.82      0.20      0.15      9000\n",
      "weighted avg       0.65      0.62      0.47      9000\n",
      "\n"
     ]
    }
   ],
   "source": [
    "#GradientBoostingClassifier\n",
    "algo_LB3= GradientBoostingClassifier( )\n",
    "model_LB3 = algo_LB3.fit(x_train,y_train)\n",
    "#Predictions\n",
    "preds_LB3 = algo_LB3.predict(x_test)\n",
    "print(classification_report(y_test, preds_LB3,zero_division=1))"
   ]
  },
  {
   "cell_type": "code",
   "execution_count": 54,
   "id": "ba950bd1",
   "metadata": {},
   "outputs": [
    {
     "name": "stdout",
     "output_type": "stream",
     "text": [
      "[0.6175     0.619      0.62033333 0.6195     0.6205    ]\n"
     ]
    }
   ],
   "source": [
    "print(cross_val_score(model_LB1, XL, yL )) # cv = number of folds being held out"
   ]
  },
  {
   "cell_type": "code",
   "execution_count": 521,
   "id": "bb2f0530",
   "metadata": {},
   "outputs": [],
   "source": [
    "algos_Class = []\n",
    "algos_Class.append(('Random Forest Classifier', RandomForestClassifier()))\n",
    "algos_Class.append(('Decision Tree Classifier', DecisionTreeClassifier()))\n",
    "algos_Class.append(('Gradient Bossting Class', GradientBoostingClassifier()))"
   ]
  },
  {
   "cell_type": "code",
   "execution_count": 522,
   "id": "e718c094",
   "metadata": {},
   "outputs": [
    {
     "data": {
      "text/plain": [
       "[('Random Forest Classifier', RandomForestClassifier()),\n",
       " ('Decision Tree Classifier', DecisionTreeClassifier()),\n",
       " ('Gradient Bossting Class', GradientBoostingClassifier())]"
      ]
     },
     "execution_count": 522,
     "metadata": {},
     "output_type": "execute_result"
    }
   ],
   "source": [
    "algos_Class"
   ]
  },
  {
   "cell_type": "code",
   "execution_count": 529,
   "id": "8a4d41b9",
   "metadata": {},
   "outputs": [
    {
     "name": "stderr",
     "output_type": "stream",
     "text": [
      "C:\\Users\\ypbow\\anaconda3\\envs\\Task1\\lib\\site-packages\\sklearn\\model_selection\\_split.py:666: UserWarning: The least populated class in y has only 1 members, which is less than n_splits=5.\n",
      "  warnings.warn((\"The least populated class in y has only %d\"\n",
      "C:\\Users\\ypbow\\anaconda3\\envs\\Task1\\lib\\site-packages\\sklearn\\model_selection\\_split.py:666: UserWarning: The least populated class in y has only 1 members, which is less than n_splits=5.\n",
      "  warnings.warn((\"The least populated class in y has only %d\"\n",
      "C:\\Users\\ypbow\\anaconda3\\envs\\Task1\\lib\\site-packages\\sklearn\\model_selection\\_split.py:666: UserWarning: The least populated class in y has only 1 members, which is less than n_splits=5.\n",
      "  warnings.warn((\"The least populated class in y has only %d\"\n"
     ]
    }
   ],
   "source": [
    "#classification\n",
    "results = []\n",
    "names = []\n",
    "for name, model in algos_Class:\n",
    "    result = cross_val_score(model, XL,yL)\n",
    "    results.append(result)\n",
    "    names.append(name)"
   ]
  },
  {
   "cell_type": "code",
   "execution_count": 530,
   "id": "a0eaa794",
   "metadata": {},
   "outputs": [
    {
     "data": {
      "text/plain": [
       "[array([0.61733333, 0.61833333, 0.62      , 0.61916667, 0.62033333]),\n",
       " array([0.6175    , 0.619     , 0.62033333, 0.6195    , 0.6205    ]),\n",
       " array([0.6195    , 0.61916667, 0.6205    , 0.6205    , 0.62033333])]"
      ]
     },
     "execution_count": 530,
     "metadata": {},
     "output_type": "execute_result"
    }
   ],
   "source": [
    "results"
   ]
  },
  {
   "cell_type": "code",
   "execution_count": 531,
   "id": "22f0c844",
   "metadata": {},
   "outputs": [
    {
     "name": "stdout",
     "output_type": "stream",
     "text": [
      "Random Forest Classifier 0.6190333333333333\n",
      "Decision Tree Classifier 0.6193666666666667\n",
      "Gradient Bossting Class 0.62\n"
     ]
    }
   ],
   "source": [
    "for i in range(len(names)):\n",
    "    print(names[i],results[i].mean())"
   ]
  },
  {
   "cell_type": "markdown",
   "id": "15a9c9fa",
   "metadata": {},
   "source": [
    "# Predictive Variables"
   ]
  },
  {
   "cell_type": "code",
   "execution_count": 532,
   "id": "a71b312f",
   "metadata": {},
   "outputs": [
    {
     "data": {
      "text/plain": [
       "DecisionTreeClassifier(max_depth=20)"
      ]
     },
     "execution_count": 532,
     "metadata": {},
     "output_type": "execute_result"
    }
   ],
   "source": [
    "#DecisionTreeClassifier\n",
    "DT=algo_LB1\n",
    "DT.fit(x_train, y_train)"
   ]
  },
  {
   "cell_type": "code",
   "execution_count": 533,
   "id": "89a6b66c",
   "metadata": {},
   "outputs": [
    {
     "data": {
      "text/plain": [
       "0.6177777777777778"
      ]
     },
     "execution_count": 533,
     "metadata": {},
     "output_type": "execute_result"
    }
   ],
   "source": [
    "predictions = DT.predict(x_test)\n",
    "DT.score(x_test, y_test)"
   ]
  },
  {
   "cell_type": "code",
   "execution_count": 534,
   "id": "4b8c73fb",
   "metadata": {},
   "outputs": [
    {
     "data": {
      "text/plain": [
       "RandomForestClassifier(max_depth=20)"
      ]
     },
     "execution_count": 534,
     "metadata": {},
     "output_type": "execute_result"
    }
   ],
   "source": [
    "#RandomForestClassifier\n",
    "RF=algo_LB2\n",
    "RF.fit(x_train, y_train)"
   ]
  },
  {
   "cell_type": "code",
   "execution_count": 535,
   "id": "2ca496e7",
   "metadata": {},
   "outputs": [
    {
     "data": {
      "text/plain": [
       "0.6176666666666667"
      ]
     },
     "execution_count": 535,
     "metadata": {},
     "output_type": "execute_result"
    }
   ],
   "source": [
    "predictions = RF.predict(x_test)\n",
    "RF.score(x_test, y_test)"
   ]
  },
  {
   "cell_type": "code",
   "execution_count": 536,
   "id": "e712a541",
   "metadata": {},
   "outputs": [
    {
     "data": {
      "text/plain": [
       "GradientBoostingClassifier()"
      ]
     },
     "execution_count": 536,
     "metadata": {},
     "output_type": "execute_result"
    }
   ],
   "source": [
    "#GradientBoostingClassifier\n",
    "GB=algo_LB3\n",
    "GB.fit(x_train, y_train)"
   ]
  },
  {
   "cell_type": "code",
   "execution_count": 537,
   "id": "32eb5423",
   "metadata": {},
   "outputs": [
    {
     "data": {
      "text/plain": [
       "0.6182222222222222"
      ]
     },
     "execution_count": 537,
     "metadata": {},
     "output_type": "execute_result"
    }
   ],
   "source": [
    "predictions = GB.predict(x_test)\n",
    "GB.score(x_test, y_test)"
   ]
  },
  {
   "cell_type": "code",
   "execution_count": null,
   "id": "6f4e509d",
   "metadata": {},
   "outputs": [],
   "source": []
  },
  {
   "cell_type": "code",
   "execution_count": null,
   "id": "acfe144a",
   "metadata": {},
   "outputs": [],
   "source": []
  },
  {
   "cell_type": "markdown",
   "id": "82289e20",
   "metadata": {},
   "source": [
    "# 3. Predicting Accuracy with DT, RFC and GBC, Limit_Bal as dependant, 7 bins, independant a lot Acc . 62"
   ]
  },
  {
   "cell_type": "code",
   "execution_count": 581,
   "id": "9bffbf65",
   "metadata": {},
   "outputs": [
    {
     "data": {
      "text/plain": [
       "Index(['ID', 'LIMIT_BAL', 'MARRIAGE', 'AGE', 'PAY_0', 'PAY_2', 'PAY_3',\n",
       "       'PAY_4', 'PAY_5', 'PAY_6', 'BILL_AMT1', 'BILL_AMT2', 'BILL_AMT3',\n",
       "       'BILL_AMT4', 'BILL_AMT5', 'BILL_AMT6', 'PAY_AMT1', 'PAY_AMT2',\n",
       "       'PAY_AMT3', 'PAY_AMT4', 'PAY_AMT5', 'PAY_AMT6', 'SEX_female',\n",
       "       'SEX_male', 'EDUCATION_graduate school', 'EDUCATION_high school',\n",
       "       'EDUCATION_other', 'EDUCATION_university',\n",
       "       'default payment next month_default',\n",
       "       'default payment next month_not default'],\n",
       "      dtype='object')"
      ]
     },
     "execution_count": 581,
     "metadata": {},
     "output_type": "execute_result"
    }
   ],
   "source": [
    "credit.dtypes.index"
   ]
  },
  {
   "cell_type": "code",
   "execution_count": 682,
   "id": "e053a5e6",
   "metadata": {},
   "outputs": [],
   "source": [
    "#features\n",
    "XL1 = credit[['MARRIAGE', 'AGE', 'SEX_female',\n",
    "       'SEX_male', 'EDUCATION_graduate school', 'EDUCATION_high school',\n",
    "       'EDUCATION_other', 'EDUCATION_university',\n",
    "       'default payment next month_default']]\n"
   ]
  },
  {
   "cell_type": "code",
   "execution_count": 683,
   "id": "d89123fe",
   "metadata": {},
   "outputs": [],
   "source": [
    "yL1 = credit['LIMIT_BAL']"
   ]
  },
  {
   "cell_type": "code",
   "execution_count": 684,
   "id": "7b489144",
   "metadata": {},
   "outputs": [
    {
     "data": {
      "text/plain": [
       "Text(0.5, 0, 'Balance Limit')"
      ]
     },
     "execution_count": 684,
     "metadata": {},
     "output_type": "execute_result"
    },
    {
     "data": {
      "image/png": "[encoded data removed]",
      "text/plain": [
       "<Figure size 432x288 with 1 Axes>"
      ]
     },
     "metadata": {
      "needs_background": "light"
     },
     "output_type": "display_data"
    }
   ],
   "source": [
    "pd.DataFrame(yL1).hist(bins=6)\n",
    "plt.ticklabel_format(useOffset=False, style='plain')\n",
    "plt.xlabel('Balance Limit') "
   ]
  },
  {
   "cell_type": "code",
   "execution_count": 685,
   "id": "1ef8109b",
   "metadata": {},
   "outputs": [],
   "source": [
    "yL1= pd.cut(yL1, bins=[9999, 180000, 300000,450000, 600000,1000000],\n",
    "            labels = ['10K-180K', '180K-300K','300K-450K', '45OK-600K', '600K--1MIL'])\n"
   ]
  },
  {
   "cell_type": "code",
   "execution_count": 686,
   "id": "4a2ece79",
   "metadata": {},
   "outputs": [
    {
     "data": {
      "text/plain": [
       "<AxesSubplot:>"
      ]
     },
     "execution_count": 686,
     "metadata": {},
     "output_type": "execute_result"
    },
    {
     "data": {
      "image/png": "[encoded data removed]",
      "text/plain": [
       "<Figure size 432x288 with 1 Axes>"
      ]
     },
     "metadata": {
      "needs_background": "light"
     },
     "output_type": "display_data"
    }
   ],
   "source": [
    "yL1.hist()"
   ]
  },
  {
   "cell_type": "code",
   "execution_count": 678,
   "id": "8e5515ef",
   "metadata": {},
   "outputs": [],
   "source": [
    "yL1 = yL1.ravel()"
   ]
  },
  {
   "cell_type": "code",
   "execution_count": 687,
   "id": "12e46f61",
   "metadata": {},
   "outputs": [],
   "source": [
    "yL1 = yL1.cat.codes"
   ]
  },
  {
   "cell_type": "code",
   "execution_count": 688,
   "id": "698f6cbb",
   "metadata": {},
   "outputs": [],
   "source": [
    "yL1 = yL1.values.reshape(-1,1)"
   ]
  },
  {
   "cell_type": "code",
   "execution_count": 689,
   "id": "2d1a06c2",
   "metadata": {},
   "outputs": [],
   "source": [
    "#train test split\n",
    "x_train, x_test, y_train, y_test = train_test_split(XL1, yL1,test_size = 0.3, random_state=123)\n"
   ]
  },
  {
   "cell_type": "code",
   "execution_count": 690,
   "id": "bc0aacae",
   "metadata": {},
   "outputs": [
    {
     "data": {
      "text/html": [
       "<div>\n",
       "<style scoped>\n",
       "    .dataframe tbody tr th:only-of-type {\n",
       "        vertical-align: middle;\n",
       "    }\n",
       "\n",
       "    .dataframe tbody tr th {\n",
       "        vertical-align: top;\n",
       "    }\n",
       "\n",
       "    .dataframe thead th {\n",
       "        text-align: right;\n",
       "    }\n",
       "</style>\n",
       "<table border=\"1\" class=\"dataframe\">\n",
       "  <thead>\n",
       "    <tr style=\"text-align: right;\">\n",
       "      <th></th>\n",
       "      <th>MARRIAGE</th>\n",
       "      <th>AGE</th>\n",
       "      <th>SEX_female</th>\n",
       "      <th>SEX_male</th>\n",
       "      <th>EDUCATION_graduate school</th>\n",
       "      <th>EDUCATION_high school</th>\n",
       "      <th>EDUCATION_other</th>\n",
       "      <th>EDUCATION_university</th>\n",
       "      <th>default payment next month_default</th>\n",
       "    </tr>\n",
       "  </thead>\n",
       "  <tbody>\n",
       "    <tr>\n",
       "      <th>25665</th>\n",
       "      <td>2</td>\n",
       "      <td>26</td>\n",
       "      <td>1</td>\n",
       "      <td>0</td>\n",
       "      <td>0</td>\n",
       "      <td>0</td>\n",
       "      <td>0</td>\n",
       "      <td>1</td>\n",
       "      <td>0</td>\n",
       "    </tr>\n",
       "    <tr>\n",
       "      <th>16464</th>\n",
       "      <td>1</td>\n",
       "      <td>59</td>\n",
       "      <td>1</td>\n",
       "      <td>0</td>\n",
       "      <td>0</td>\n",
       "      <td>1</td>\n",
       "      <td>0</td>\n",
       "      <td>0</td>\n",
       "      <td>0</td>\n",
       "    </tr>\n",
       "    <tr>\n",
       "      <th>22386</th>\n",
       "      <td>2</td>\n",
       "      <td>30</td>\n",
       "      <td>1</td>\n",
       "      <td>0</td>\n",
       "      <td>1</td>\n",
       "      <td>0</td>\n",
       "      <td>0</td>\n",
       "      <td>0</td>\n",
       "      <td>1</td>\n",
       "    </tr>\n",
       "    <tr>\n",
       "      <th>10149</th>\n",
       "      <td>1</td>\n",
       "      <td>41</td>\n",
       "      <td>1</td>\n",
       "      <td>0</td>\n",
       "      <td>0</td>\n",
       "      <td>0</td>\n",
       "      <td>0</td>\n",
       "      <td>1</td>\n",
       "      <td>1</td>\n",
       "    </tr>\n",
       "    <tr>\n",
       "      <th>8729</th>\n",
       "      <td>1</td>\n",
       "      <td>43</td>\n",
       "      <td>0</td>\n",
       "      <td>1</td>\n",
       "      <td>0</td>\n",
       "      <td>0</td>\n",
       "      <td>0</td>\n",
       "      <td>1</td>\n",
       "      <td>0</td>\n",
       "    </tr>\n",
       "    <tr>\n",
       "      <th>...</th>\n",
       "      <td>...</td>\n",
       "      <td>...</td>\n",
       "      <td>...</td>\n",
       "      <td>...</td>\n",
       "      <td>...</td>\n",
       "      <td>...</td>\n",
       "      <td>...</td>\n",
       "      <td>...</td>\n",
       "      <td>...</td>\n",
       "    </tr>\n",
       "    <tr>\n",
       "      <th>17548</th>\n",
       "      <td>1</td>\n",
       "      <td>48</td>\n",
       "      <td>1</td>\n",
       "      <td>0</td>\n",
       "      <td>0</td>\n",
       "      <td>0</td>\n",
       "      <td>0</td>\n",
       "      <td>1</td>\n",
       "      <td>1</td>\n",
       "    </tr>\n",
       "    <tr>\n",
       "      <th>11459</th>\n",
       "      <td>1</td>\n",
       "      <td>43</td>\n",
       "      <td>0</td>\n",
       "      <td>1</td>\n",
       "      <td>0</td>\n",
       "      <td>0</td>\n",
       "      <td>0</td>\n",
       "      <td>1</td>\n",
       "      <td>0</td>\n",
       "    </tr>\n",
       "    <tr>\n",
       "      <th>6608</th>\n",
       "      <td>2</td>\n",
       "      <td>22</td>\n",
       "      <td>1</td>\n",
       "      <td>0</td>\n",
       "      <td>0</td>\n",
       "      <td>0</td>\n",
       "      <td>0</td>\n",
       "      <td>1</td>\n",
       "      <td>0</td>\n",
       "    </tr>\n",
       "    <tr>\n",
       "      <th>2414</th>\n",
       "      <td>1</td>\n",
       "      <td>38</td>\n",
       "      <td>0</td>\n",
       "      <td>1</td>\n",
       "      <td>0</td>\n",
       "      <td>0</td>\n",
       "      <td>0</td>\n",
       "      <td>1</td>\n",
       "      <td>1</td>\n",
       "    </tr>\n",
       "    <tr>\n",
       "      <th>14757</th>\n",
       "      <td>1</td>\n",
       "      <td>24</td>\n",
       "      <td>1</td>\n",
       "      <td>0</td>\n",
       "      <td>0</td>\n",
       "      <td>1</td>\n",
       "      <td>0</td>\n",
       "      <td>0</td>\n",
       "      <td>0</td>\n",
       "    </tr>\n",
       "  </tbody>\n",
       "</table>\n",
       "<p>9000 rows × 9 columns</p>\n",
       "</div>"
      ],
      "text/plain": [
       "       MARRIAGE  AGE  SEX_female  SEX_male  EDUCATION_graduate school  \\\n",
       "25665         2   26           1         0                          0   \n",
       "16464         1   59           1         0                          0   \n",
       "22386         2   30           1         0                          1   \n",
       "10149         1   41           1         0                          0   \n",
       "8729          1   43           0         1                          0   \n",
       "...         ...  ...         ...       ...                        ...   \n",
       "17548         1   48           1         0                          0   \n",
       "11459         1   43           0         1                          0   \n",
       "6608          2   22           1         0                          0   \n",
       "2414          1   38           0         1                          0   \n",
       "14757         1   24           1         0                          0   \n",
       "\n",
       "       EDUCATION_high school  EDUCATION_other  EDUCATION_university  \\\n",
       "25665                      0                0                     1   \n",
       "16464                      1                0                     0   \n",
       "22386                      0                0                     0   \n",
       "10149                      0                0                     1   \n",
       "8729                       0                0                     1   \n",
       "...                      ...              ...                   ...   \n",
       "17548                      0                0                     1   \n",
       "11459                      0                0                     1   \n",
       "6608                       0                0                     1   \n",
       "2414                       0                0                     1   \n",
       "14757                      1                0                     0   \n",
       "\n",
       "       default payment next month_default  \n",
       "25665                                   0  \n",
       "16464                                   0  \n",
       "22386                                   1  \n",
       "10149                                   1  \n",
       "8729                                    0  \n",
       "...                                   ...  \n",
       "17548                                   1  \n",
       "11459                                   0  \n",
       "6608                                    0  \n",
       "2414                                    1  \n",
       "14757                                   0  \n",
       "\n",
       "[9000 rows x 9 columns]"
      ]
     },
     "execution_count": 690,
     "metadata": {},
     "output_type": "execute_result"
    }
   ],
   "source": [
    "x_test"
   ]
  },
  {
   "cell_type": "code",
   "execution_count": 691,
   "id": "b48a6643",
   "metadata": {},
   "outputs": [
    {
     "data": {
      "text/plain": [
       "array([[0],\n",
       "       [0],\n",
       "       [0],\n",
       "       ...,\n",
       "       [0],\n",
       "       [0],\n",
       "       [0]], dtype=int8)"
      ]
     },
     "execution_count": 691,
     "metadata": {},
     "output_type": "execute_result"
    }
   ],
   "source": [
    "y_test"
   ]
  },
  {
   "cell_type": "code",
   "execution_count": 692,
   "id": "000d2fa3",
   "metadata": {},
   "outputs": [
    {
     "name": "stdout",
     "output_type": "stream",
     "text": [
      "              precision    recall  f1-score   support\n",
      "\n",
      "           0       0.66      0.94      0.77      5567\n",
      "           1       0.38      0.17      0.23      2133\n",
      "           2       0.23      0.02      0.04       940\n",
      "           3       0.00      0.00      0.00       336\n",
      "           4       1.00      0.00      0.00        24\n",
      "\n",
      "    accuracy                           0.62      9000\n",
      "   macro avg       0.45      0.23      0.21      9000\n",
      "weighted avg       0.52      0.62      0.54      9000\n",
      "\n"
     ]
    }
   ],
   "source": [
    "#DecisionTreeClassifier\n",
    "algo_XL1= DecisionTreeClassifier(max_depth=20, )\n",
    "model_XL1 = algo_XL1.fit(x_train,y_train.ravel())\n",
    "#Predictions\n",
    "preds_XL1 = algo_XL1.predict(x_test)\n",
    "print(classification_report(y_test, preds_XL1, zero_division=1))"
   ]
  },
  {
   "cell_type": "code",
   "execution_count": 693,
   "id": "6f6232d6",
   "metadata": {},
   "outputs": [
    {
     "name": "stdout",
     "output_type": "stream",
     "text": [
      "              precision    recall  f1-score   support\n",
      "\n",
      "           0       0.66      0.93      0.77      5567\n",
      "           1       0.38      0.19      0.25      2133\n",
      "           2       0.23      0.03      0.05       940\n",
      "           3       0.00      0.00      0.00       336\n",
      "           4       1.00      0.00      0.00        24\n",
      "\n",
      "    accuracy                           0.62      9000\n",
      "   macro avg       0.46      0.23      0.22      9000\n",
      "weighted avg       0.53      0.62      0.54      9000\n",
      "\n"
     ]
    }
   ],
   "source": [
    "#RandomForestClassifier\n",
    "algo_XL2= RandomForestClassifier(max_depth=20, )\n",
    "model_XL2 = algo_XL2.fit(x_train,y_train.ravel())\n",
    "#Predictions\n",
    "preds_XL2 = algo_XL2.predict(x_test)\n",
    "print(classification_report(y_test, preds_XL2,zero_division=1))"
   ]
  },
  {
   "cell_type": "code",
   "execution_count": null,
   "id": "cdccd279",
   "metadata": {},
   "outputs": [],
   "source": [
    "model = forest.fit(train_fold, train_y.values.ravel())"
   ]
  },
  {
   "cell_type": "code",
   "execution_count": 694,
   "id": "d2d37812",
   "metadata": {},
   "outputs": [
    {
     "name": "stdout",
     "output_type": "stream",
     "text": [
      "              precision    recall  f1-score   support\n",
      "\n",
      "           0       0.66      0.94      0.77      5567\n",
      "           1       0.39      0.17      0.23      2133\n",
      "           2       0.21      0.02      0.04       940\n",
      "           3       0.00      0.00      0.00       336\n",
      "           4       0.00      0.00      0.00        24\n",
      "\n",
      "    accuracy                           0.62      9000\n",
      "   macro avg       0.25      0.23      0.21      9000\n",
      "weighted avg       0.52      0.62      0.54      9000\n",
      "\n"
     ]
    }
   ],
   "source": [
    "#GradientBoostingClassifier\n",
    "algo_XL3= GradientBoostingClassifier(max_depth=20, )\n",
    "model_XL3 = algo_XL3.fit(x_train,y_train.ravel())\n",
    "#Predictions\n",
    "preds_XL3 = algo_XL3.predict(x_test)\n",
    "print(classification_report(y_test, preds_XL3, zero_division=1))"
   ]
  },
  {
   "cell_type": "code",
   "execution_count": 696,
   "id": "861367a6",
   "metadata": {},
   "outputs": [
    {
     "name": "stdout",
     "output_type": "stream",
     "text": [
      "[0.62916667 0.6265     0.63033333 0.62366667 0.63933333]\n"
     ]
    }
   ],
   "source": [
    "print(cross_val_score(model, XL1, yL1.ravel())) # cv = number of folds being held out"
   ]
  },
  {
   "cell_type": "code",
   "execution_count": 697,
   "id": "0f324974",
   "metadata": {},
   "outputs": [],
   "source": [
    "algos_Class = []\n",
    "algos_Class.append(('Random Forest Classifier', RandomForestClassifier()))\n",
    "algos_Class.append(('Decision Tree Classifier', DecisionTreeClassifier()))\n",
    "algos_Class.append(('Gradient Bossting Class', GradientBoostingClassifier()))"
   ]
  },
  {
   "cell_type": "code",
   "execution_count": 698,
   "id": "9f085219",
   "metadata": {},
   "outputs": [
    {
     "data": {
      "text/plain": [
       "[('Random Forest Classifier', RandomForestClassifier()),\n",
       " ('Decision Tree Classifier', DecisionTreeClassifier()),\n",
       " ('Gradient Bossting Class', GradientBoostingClassifier())]"
      ]
     },
     "execution_count": 698,
     "metadata": {},
     "output_type": "execute_result"
    }
   ],
   "source": [
    "algos_Class"
   ]
  },
  {
   "cell_type": "code",
   "execution_count": 700,
   "id": "aaedb39b",
   "metadata": {},
   "outputs": [],
   "source": [
    "#classification\n",
    "results = []\n",
    "names = []\n",
    "for name, model in algos_Class:\n",
    "    result = cross_val_score(model, XL1,yL1.ravel())\n",
    "    results.append(result)\n",
    "    names.append(name)"
   ]
  },
  {
   "cell_type": "code",
   "execution_count": 579,
   "id": "34bae363",
   "metadata": {},
   "outputs": [
    {
     "data": {
      "text/plain": [
       "[array([0.61916667, 0.62066667, 0.61783333, 0.61983333, 0.62916667]),\n",
       " array([0.6215    , 0.6215    , 0.62166667, 0.6195    , 0.63133333]),\n",
       " array([0.62866667, 0.62666667, 0.6305    , 0.62416667, 0.63933333])]"
      ]
     },
     "execution_count": 579,
     "metadata": {},
     "output_type": "execute_result"
    }
   ],
   "source": [
    "results"
   ]
  },
  {
   "cell_type": "code",
   "execution_count": 580,
   "id": "e5f394df",
   "metadata": {},
   "outputs": [
    {
     "name": "stdout",
     "output_type": "stream",
     "text": [
      "Random Forest Classifier 0.6213333333333333\n",
      "Decision Tree Classifier 0.6231\n",
      "Gradient Bossting Class 0.6298666666666666\n"
     ]
    }
   ],
   "source": [
    "for i in range(len(names)):\n",
    "    print(names[i],results[i].mean())"
   ]
  },
  {
   "cell_type": "code",
   "execution_count": 267,
   "id": "37c32595",
   "metadata": {},
   "outputs": [
    {
     "data": {
      "text/plain": [
       "0.6178888888888889"
      ]
     },
     "execution_count": 267,
     "metadata": {},
     "output_type": "execute_result"
    }
   ],
   "source": [
    "#DecisionTreeClassifier\n",
    "DT=algo_XL1\n",
    "DT.fit(x_train, y_train)\n",
    "predictions = DT.predict(x_test)\n",
    "DT.score(x_test, y_test)"
   ]
  },
  {
   "cell_type": "code",
   "execution_count": 268,
   "id": "91ee1bd3",
   "metadata": {},
   "outputs": [
    {
     "data": {
      "text/plain": [
       "0.6177777777777778"
      ]
     },
     "execution_count": 268,
     "metadata": {},
     "output_type": "execute_result"
    }
   ],
   "source": [
    "#RandomForestClassifier\n",
    "RF=algo_XL2\n",
    "RF.fit(x_train, y_train)\n",
    "predictions = RF.predict(x_test)\n",
    "RF.score(x_test, y_test)"
   ]
  },
  {
   "cell_type": "code",
   "execution_count": 270,
   "id": "abed8808",
   "metadata": {},
   "outputs": [
    {
     "data": {
      "text/plain": [
       "0.6177777777777778"
      ]
     },
     "execution_count": 270,
     "metadata": {},
     "output_type": "execute_result"
    }
   ],
   "source": [
    "#RandomForestClassifier\n",
    "GB=algo_XL3\n",
    "GB.fit(x_train, y_train)\n",
    "predictions = GB.predict(x_test)\n",
    "RF.score(x_test, y_test)"
   ]
  },
  {
   "cell_type": "code",
   "execution_count": 71,
   "id": "fdb95db8",
   "metadata": {},
   "outputs": [
    {
     "data": {
      "text/plain": [
       "Index(['ID', 'LIMIT_BAL', 'MARRIAGE', 'AGE', 'PAY_0', 'PAY_2', 'PAY_3',\n",
       "       'PAY_4', 'PAY_5', 'PAY_6', 'BILL_AMT1', 'BILL_AMT2', 'BILL_AMT3',\n",
       "       'BILL_AMT4', 'BILL_AMT5', 'BILL_AMT6', 'PAY_AMT1', 'PAY_AMT2',\n",
       "       'PAY_AMT3', 'PAY_AMT4', 'PAY_AMT5', 'PAY_AMT6', 'SEX_female',\n",
       "       'SEX_male', 'EDUCATION_graduate school', 'EDUCATION_high school',\n",
       "       'EDUCATION_other', 'EDUCATION_university',\n",
       "       'default payment next month_default',\n",
       "       'default payment next month_not default'],\n",
       "      dtype='object')"
      ]
     },
     "execution_count": 71,
     "metadata": {},
     "output_type": "execute_result"
    }
   ],
   "source": [
    "credit.columns\n"
   ]
  },
  {
   "cell_type": "code",
   "execution_count": null,
   "id": "a9b60ffa",
   "metadata": {},
   "outputs": [],
   "source": []
  },
  {
   "cell_type": "code",
   "execution_count": 121,
   "id": "3d8fddd9",
   "metadata": {},
   "outputs": [],
   "source": [
    "#features\n",
    "XL5 = credit.iloc[:, 2:-2]\n",
    "yL5 = credit['default payment next month_default'].values.reshape(-1,1)\n"
   ]
  },
  {
   "cell_type": "code",
   "execution_count": 122,
   "id": "c117a2d9",
   "metadata": {},
   "outputs": [
    {
     "data": {
      "text/plain": [
       "array([[1],\n",
       "       [1],\n",
       "       [0],\n",
       "       ...,\n",
       "       [1],\n",
       "       [1],\n",
       "       [1]], dtype=uint8)"
      ]
     },
     "execution_count": 122,
     "metadata": {},
     "output_type": "execute_result"
    }
   ],
   "source": [
    "yL5"
   ]
  },
  {
   "cell_type": "code",
   "execution_count": 123,
   "id": "498258a9",
   "metadata": {},
   "outputs": [
    {
     "data": {
      "text/html": [
       "<div>\n",
       "<style scoped>\n",
       "    .dataframe tbody tr th:only-of-type {\n",
       "        vertical-align: middle;\n",
       "    }\n",
       "\n",
       "    .dataframe tbody tr th {\n",
       "        vertical-align: top;\n",
       "    }\n",
       "\n",
       "    .dataframe thead th {\n",
       "        text-align: right;\n",
       "    }\n",
       "</style>\n",
       "<table border=\"1\" class=\"dataframe\">\n",
       "  <thead>\n",
       "    <tr style=\"text-align: right;\">\n",
       "      <th></th>\n",
       "      <th>MARRIAGE</th>\n",
       "      <th>AGE</th>\n",
       "      <th>PAY_0</th>\n",
       "      <th>PAY_2</th>\n",
       "      <th>PAY_3</th>\n",
       "      <th>PAY_4</th>\n",
       "      <th>PAY_5</th>\n",
       "      <th>PAY_6</th>\n",
       "      <th>BILL_AMT1</th>\n",
       "      <th>BILL_AMT2</th>\n",
       "      <th>...</th>\n",
       "      <th>PAY_AMT3</th>\n",
       "      <th>PAY_AMT4</th>\n",
       "      <th>PAY_AMT5</th>\n",
       "      <th>PAY_AMT6</th>\n",
       "      <th>SEX_female</th>\n",
       "      <th>SEX_male</th>\n",
       "      <th>EDUCATION_graduate school</th>\n",
       "      <th>EDUCATION_high school</th>\n",
       "      <th>EDUCATION_other</th>\n",
       "      <th>EDUCATION_university</th>\n",
       "    </tr>\n",
       "  </thead>\n",
       "  <tbody>\n",
       "    <tr>\n",
       "      <th>0</th>\n",
       "      <td>1</td>\n",
       "      <td>24</td>\n",
       "      <td>2</td>\n",
       "      <td>2</td>\n",
       "      <td>-1</td>\n",
       "      <td>-1</td>\n",
       "      <td>-2</td>\n",
       "      <td>-2</td>\n",
       "      <td>3913</td>\n",
       "      <td>3102</td>\n",
       "      <td>...</td>\n",
       "      <td>0</td>\n",
       "      <td>0</td>\n",
       "      <td>0</td>\n",
       "      <td>0</td>\n",
       "      <td>1</td>\n",
       "      <td>0</td>\n",
       "      <td>0</td>\n",
       "      <td>0</td>\n",
       "      <td>0</td>\n",
       "      <td>1</td>\n",
       "    </tr>\n",
       "    <tr>\n",
       "      <th>1</th>\n",
       "      <td>2</td>\n",
       "      <td>26</td>\n",
       "      <td>-1</td>\n",
       "      <td>2</td>\n",
       "      <td>0</td>\n",
       "      <td>0</td>\n",
       "      <td>0</td>\n",
       "      <td>2</td>\n",
       "      <td>2682</td>\n",
       "      <td>1725</td>\n",
       "      <td>...</td>\n",
       "      <td>1000</td>\n",
       "      <td>1000</td>\n",
       "      <td>0</td>\n",
       "      <td>2000</td>\n",
       "      <td>1</td>\n",
       "      <td>0</td>\n",
       "      <td>0</td>\n",
       "      <td>0</td>\n",
       "      <td>0</td>\n",
       "      <td>1</td>\n",
       "    </tr>\n",
       "    <tr>\n",
       "      <th>2</th>\n",
       "      <td>2</td>\n",
       "      <td>34</td>\n",
       "      <td>0</td>\n",
       "      <td>0</td>\n",
       "      <td>0</td>\n",
       "      <td>0</td>\n",
       "      <td>0</td>\n",
       "      <td>0</td>\n",
       "      <td>29239</td>\n",
       "      <td>14027</td>\n",
       "      <td>...</td>\n",
       "      <td>1000</td>\n",
       "      <td>1000</td>\n",
       "      <td>1000</td>\n",
       "      <td>5000</td>\n",
       "      <td>1</td>\n",
       "      <td>0</td>\n",
       "      <td>0</td>\n",
       "      <td>0</td>\n",
       "      <td>0</td>\n",
       "      <td>1</td>\n",
       "    </tr>\n",
       "    <tr>\n",
       "      <th>3</th>\n",
       "      <td>1</td>\n",
       "      <td>37</td>\n",
       "      <td>0</td>\n",
       "      <td>0</td>\n",
       "      <td>0</td>\n",
       "      <td>0</td>\n",
       "      <td>0</td>\n",
       "      <td>0</td>\n",
       "      <td>46990</td>\n",
       "      <td>48233</td>\n",
       "      <td>...</td>\n",
       "      <td>1200</td>\n",
       "      <td>1100</td>\n",
       "      <td>1069</td>\n",
       "      <td>1000</td>\n",
       "      <td>1</td>\n",
       "      <td>0</td>\n",
       "      <td>0</td>\n",
       "      <td>0</td>\n",
       "      <td>0</td>\n",
       "      <td>1</td>\n",
       "    </tr>\n",
       "    <tr>\n",
       "      <th>4</th>\n",
       "      <td>1</td>\n",
       "      <td>57</td>\n",
       "      <td>-1</td>\n",
       "      <td>0</td>\n",
       "      <td>-1</td>\n",
       "      <td>0</td>\n",
       "      <td>0</td>\n",
       "      <td>0</td>\n",
       "      <td>8617</td>\n",
       "      <td>5670</td>\n",
       "      <td>...</td>\n",
       "      <td>10000</td>\n",
       "      <td>9000</td>\n",
       "      <td>689</td>\n",
       "      <td>679</td>\n",
       "      <td>0</td>\n",
       "      <td>1</td>\n",
       "      <td>0</td>\n",
       "      <td>0</td>\n",
       "      <td>0</td>\n",
       "      <td>1</td>\n",
       "    </tr>\n",
       "  </tbody>\n",
       "</table>\n",
       "<p>5 rows × 26 columns</p>\n",
       "</div>"
      ],
      "text/plain": [
       "   MARRIAGE  AGE  PAY_0  PAY_2  PAY_3  PAY_4  PAY_5  PAY_6  BILL_AMT1  \\\n",
       "0         1   24      2      2     -1     -1     -2     -2       3913   \n",
       "1         2   26     -1      2      0      0      0      2       2682   \n",
       "2         2   34      0      0      0      0      0      0      29239   \n",
       "3         1   37      0      0      0      0      0      0      46990   \n",
       "4         1   57     -1      0     -1      0      0      0       8617   \n",
       "\n",
       "   BILL_AMT2  ...  PAY_AMT3  PAY_AMT4  PAY_AMT5  PAY_AMT6  SEX_female  \\\n",
       "0       3102  ...         0         0         0         0           1   \n",
       "1       1725  ...      1000      1000         0      2000           1   \n",
       "2      14027  ...      1000      1000      1000      5000           1   \n",
       "3      48233  ...      1200      1100      1069      1000           1   \n",
       "4       5670  ...     10000      9000       689       679           0   \n",
       "\n",
       "   SEX_male  EDUCATION_graduate school  EDUCATION_high school  \\\n",
       "0         0                          0                      0   \n",
       "1         0                          0                      0   \n",
       "2         0                          0                      0   \n",
       "3         0                          0                      0   \n",
       "4         1                          0                      0   \n",
       "\n",
       "   EDUCATION_other  EDUCATION_university  \n",
       "0                0                     1  \n",
       "1                0                     1  \n",
       "2                0                     1  \n",
       "3                0                     1  \n",
       "4                0                     1  \n",
       "\n",
       "[5 rows x 26 columns]"
      ]
     },
     "execution_count": 123,
     "metadata": {},
     "output_type": "execute_result"
    }
   ],
   "source": [
    "XL5.head()"
   ]
  },
  {
   "cell_type": "code",
   "execution_count": 124,
   "id": "aad6d6d7",
   "metadata": {},
   "outputs": [],
   "source": [
    "lim_cats= credit['LIMIT_BAL']\n",
    "lim_cats= pd.cut(lim_cats, bins=[9999, 180000, 300000,450000, 600000,800000,1000000],\n",
    "            labels = ['10K-180K', '180K-300K','300K-450K', '45OK-600K', '600K-8OOK', '800K-1MIL'])\n",
    "\n",
    "lim_cats=lim_cats.cat.codes"
   ]
  },
  {
   "cell_type": "code",
   "execution_count": 125,
   "id": "0dd1d033",
   "metadata": {},
   "outputs": [
    {
     "data": {
      "text/plain": [
       "0        0\n",
       "1        0\n",
       "2        0\n",
       "3        0\n",
       "4        0\n",
       "        ..\n",
       "29995    1\n",
       "29996    0\n",
       "29997    0\n",
       "29998    0\n",
       "29999    0\n",
       "Length: 30000, dtype: int8"
      ]
     },
     "execution_count": 125,
     "metadata": {},
     "output_type": "execute_result"
    }
   ],
   "source": [
    "lim_cats"
   ]
  },
  {
   "cell_type": "code",
   "execution_count": 126,
   "id": "05cdc082",
   "metadata": {},
   "outputs": [],
   "source": [
    "XL5['LIMIT_BAL']=lim_cats"
   ]
  },
  {
   "cell_type": "code",
   "execution_count": 127,
   "id": "16a80a70",
   "metadata": {},
   "outputs": [
    {
     "data": {
      "text/html": [
       "<div>\n",
       "<style scoped>\n",
       "    .dataframe tbody tr th:only-of-type {\n",
       "        vertical-align: middle;\n",
       "    }\n",
       "\n",
       "    .dataframe tbody tr th {\n",
       "        vertical-align: top;\n",
       "    }\n",
       "\n",
       "    .dataframe thead th {\n",
       "        text-align: right;\n",
       "    }\n",
       "</style>\n",
       "<table border=\"1\" class=\"dataframe\">\n",
       "  <thead>\n",
       "    <tr style=\"text-align: right;\">\n",
       "      <th></th>\n",
       "      <th>MARRIAGE</th>\n",
       "      <th>AGE</th>\n",
       "      <th>PAY_0</th>\n",
       "      <th>PAY_2</th>\n",
       "      <th>PAY_3</th>\n",
       "      <th>PAY_4</th>\n",
       "      <th>PAY_5</th>\n",
       "      <th>PAY_6</th>\n",
       "      <th>BILL_AMT1</th>\n",
       "      <th>BILL_AMT2</th>\n",
       "      <th>...</th>\n",
       "      <th>PAY_AMT4</th>\n",
       "      <th>PAY_AMT5</th>\n",
       "      <th>PAY_AMT6</th>\n",
       "      <th>SEX_female</th>\n",
       "      <th>SEX_male</th>\n",
       "      <th>EDUCATION_graduate school</th>\n",
       "      <th>EDUCATION_high school</th>\n",
       "      <th>EDUCATION_other</th>\n",
       "      <th>EDUCATION_university</th>\n",
       "      <th>LIMIT_BAL</th>\n",
       "    </tr>\n",
       "  </thead>\n",
       "  <tbody>\n",
       "    <tr>\n",
       "      <th>0</th>\n",
       "      <td>1</td>\n",
       "      <td>24</td>\n",
       "      <td>2</td>\n",
       "      <td>2</td>\n",
       "      <td>-1</td>\n",
       "      <td>-1</td>\n",
       "      <td>-2</td>\n",
       "      <td>-2</td>\n",
       "      <td>3913</td>\n",
       "      <td>3102</td>\n",
       "      <td>...</td>\n",
       "      <td>0</td>\n",
       "      <td>0</td>\n",
       "      <td>0</td>\n",
       "      <td>1</td>\n",
       "      <td>0</td>\n",
       "      <td>0</td>\n",
       "      <td>0</td>\n",
       "      <td>0</td>\n",
       "      <td>1</td>\n",
       "      <td>0</td>\n",
       "    </tr>\n",
       "    <tr>\n",
       "      <th>1</th>\n",
       "      <td>2</td>\n",
       "      <td>26</td>\n",
       "      <td>-1</td>\n",
       "      <td>2</td>\n",
       "      <td>0</td>\n",
       "      <td>0</td>\n",
       "      <td>0</td>\n",
       "      <td>2</td>\n",
       "      <td>2682</td>\n",
       "      <td>1725</td>\n",
       "      <td>...</td>\n",
       "      <td>1000</td>\n",
       "      <td>0</td>\n",
       "      <td>2000</td>\n",
       "      <td>1</td>\n",
       "      <td>0</td>\n",
       "      <td>0</td>\n",
       "      <td>0</td>\n",
       "      <td>0</td>\n",
       "      <td>1</td>\n",
       "      <td>0</td>\n",
       "    </tr>\n",
       "    <tr>\n",
       "      <th>2</th>\n",
       "      <td>2</td>\n",
       "      <td>34</td>\n",
       "      <td>0</td>\n",
       "      <td>0</td>\n",
       "      <td>0</td>\n",
       "      <td>0</td>\n",
       "      <td>0</td>\n",
       "      <td>0</td>\n",
       "      <td>29239</td>\n",
       "      <td>14027</td>\n",
       "      <td>...</td>\n",
       "      <td>1000</td>\n",
       "      <td>1000</td>\n",
       "      <td>5000</td>\n",
       "      <td>1</td>\n",
       "      <td>0</td>\n",
       "      <td>0</td>\n",
       "      <td>0</td>\n",
       "      <td>0</td>\n",
       "      <td>1</td>\n",
       "      <td>0</td>\n",
       "    </tr>\n",
       "    <tr>\n",
       "      <th>3</th>\n",
       "      <td>1</td>\n",
       "      <td>37</td>\n",
       "      <td>0</td>\n",
       "      <td>0</td>\n",
       "      <td>0</td>\n",
       "      <td>0</td>\n",
       "      <td>0</td>\n",
       "      <td>0</td>\n",
       "      <td>46990</td>\n",
       "      <td>48233</td>\n",
       "      <td>...</td>\n",
       "      <td>1100</td>\n",
       "      <td>1069</td>\n",
       "      <td>1000</td>\n",
       "      <td>1</td>\n",
       "      <td>0</td>\n",
       "      <td>0</td>\n",
       "      <td>0</td>\n",
       "      <td>0</td>\n",
       "      <td>1</td>\n",
       "      <td>0</td>\n",
       "    </tr>\n",
       "    <tr>\n",
       "      <th>4</th>\n",
       "      <td>1</td>\n",
       "      <td>57</td>\n",
       "      <td>-1</td>\n",
       "      <td>0</td>\n",
       "      <td>-1</td>\n",
       "      <td>0</td>\n",
       "      <td>0</td>\n",
       "      <td>0</td>\n",
       "      <td>8617</td>\n",
       "      <td>5670</td>\n",
       "      <td>...</td>\n",
       "      <td>9000</td>\n",
       "      <td>689</td>\n",
       "      <td>679</td>\n",
       "      <td>0</td>\n",
       "      <td>1</td>\n",
       "      <td>0</td>\n",
       "      <td>0</td>\n",
       "      <td>0</td>\n",
       "      <td>1</td>\n",
       "      <td>0</td>\n",
       "    </tr>\n",
       "  </tbody>\n",
       "</table>\n",
       "<p>5 rows × 27 columns</p>\n",
       "</div>"
      ],
      "text/plain": [
       "   MARRIAGE  AGE  PAY_0  PAY_2  PAY_3  PAY_4  PAY_5  PAY_6  BILL_AMT1  \\\n",
       "0         1   24      2      2     -1     -1     -2     -2       3913   \n",
       "1         2   26     -1      2      0      0      0      2       2682   \n",
       "2         2   34      0      0      0      0      0      0      29239   \n",
       "3         1   37      0      0      0      0      0      0      46990   \n",
       "4         1   57     -1      0     -1      0      0      0       8617   \n",
       "\n",
       "   BILL_AMT2  ...  PAY_AMT4  PAY_AMT5  PAY_AMT6  SEX_female  SEX_male  \\\n",
       "0       3102  ...         0         0         0           1         0   \n",
       "1       1725  ...      1000         0      2000           1         0   \n",
       "2      14027  ...      1000      1000      5000           1         0   \n",
       "3      48233  ...      1100      1069      1000           1         0   \n",
       "4       5670  ...      9000       689       679           0         1   \n",
       "\n",
       "   EDUCATION_graduate school  EDUCATION_high school  EDUCATION_other  \\\n",
       "0                          0                      0                0   \n",
       "1                          0                      0                0   \n",
       "2                          0                      0                0   \n",
       "3                          0                      0                0   \n",
       "4                          0                      0                0   \n",
       "\n",
       "   EDUCATION_university  LIMIT_BAL  \n",
       "0                     1          0  \n",
       "1                     1          0  \n",
       "2                     1          0  \n",
       "3                     1          0  \n",
       "4                     1          0  \n",
       "\n",
       "[5 rows x 27 columns]"
      ]
     },
     "execution_count": 127,
     "metadata": {},
     "output_type": "execute_result"
    }
   ],
   "source": [
    "XL5.head()"
   ]
  },
  {
   "cell_type": "code",
   "execution_count": 128,
   "id": "aeeeab3a",
   "metadata": {},
   "outputs": [],
   "source": [
    "trainX, testX, trainY, testY = train_test_split(XL5,yL5, test_size=0.3, random_state=42)"
   ]
  },
  {
   "cell_type": "code",
   "execution_count": 129,
   "id": "291cd9c3",
   "metadata": {},
   "outputs": [
    {
     "data": {
      "text/html": [
       "<div>\n",
       "<style scoped>\n",
       "    .dataframe tbody tr th:only-of-type {\n",
       "        vertical-align: middle;\n",
       "    }\n",
       "\n",
       "    .dataframe tbody tr th {\n",
       "        vertical-align: top;\n",
       "    }\n",
       "\n",
       "    .dataframe thead th {\n",
       "        text-align: right;\n",
       "    }\n",
       "</style>\n",
       "<table border=\"1\" class=\"dataframe\">\n",
       "  <thead>\n",
       "    <tr style=\"text-align: right;\">\n",
       "      <th></th>\n",
       "      <th>MARRIAGE</th>\n",
       "      <th>AGE</th>\n",
       "      <th>PAY_0</th>\n",
       "      <th>PAY_2</th>\n",
       "      <th>PAY_3</th>\n",
       "      <th>PAY_4</th>\n",
       "      <th>PAY_5</th>\n",
       "      <th>PAY_6</th>\n",
       "      <th>BILL_AMT1</th>\n",
       "      <th>BILL_AMT2</th>\n",
       "      <th>...</th>\n",
       "      <th>PAY_AMT4</th>\n",
       "      <th>PAY_AMT5</th>\n",
       "      <th>PAY_AMT6</th>\n",
       "      <th>SEX_female</th>\n",
       "      <th>SEX_male</th>\n",
       "      <th>EDUCATION_graduate school</th>\n",
       "      <th>EDUCATION_high school</th>\n",
       "      <th>EDUCATION_other</th>\n",
       "      <th>EDUCATION_university</th>\n",
       "      <th>LIMIT_BAL</th>\n",
       "    </tr>\n",
       "  </thead>\n",
       "  <tbody>\n",
       "    <tr>\n",
       "      <th>2308</th>\n",
       "      <td>2</td>\n",
       "      <td>25</td>\n",
       "      <td>0</td>\n",
       "      <td>0</td>\n",
       "      <td>0</td>\n",
       "      <td>0</td>\n",
       "      <td>0</td>\n",
       "      <td>0</td>\n",
       "      <td>8864</td>\n",
       "      <td>10062</td>\n",
       "      <td>...</td>\n",
       "      <td>1500</td>\n",
       "      <td>1500</td>\n",
       "      <td>2000</td>\n",
       "      <td>0</td>\n",
       "      <td>1</td>\n",
       "      <td>0</td>\n",
       "      <td>0</td>\n",
       "      <td>0</td>\n",
       "      <td>1</td>\n",
       "      <td>0</td>\n",
       "    </tr>\n",
       "    <tr>\n",
       "      <th>22404</th>\n",
       "      <td>2</td>\n",
       "      <td>26</td>\n",
       "      <td>0</td>\n",
       "      <td>0</td>\n",
       "      <td>0</td>\n",
       "      <td>0</td>\n",
       "      <td>0</td>\n",
       "      <td>0</td>\n",
       "      <td>136736</td>\n",
       "      <td>125651</td>\n",
       "      <td>...</td>\n",
       "      <td>2647</td>\n",
       "      <td>2669</td>\n",
       "      <td>2669</td>\n",
       "      <td>1</td>\n",
       "      <td>0</td>\n",
       "      <td>1</td>\n",
       "      <td>0</td>\n",
       "      <td>0</td>\n",
       "      <td>0</td>\n",
       "      <td>0</td>\n",
       "    </tr>\n",
       "    <tr>\n",
       "      <th>23397</th>\n",
       "      <td>1</td>\n",
       "      <td>32</td>\n",
       "      <td>0</td>\n",
       "      <td>0</td>\n",
       "      <td>0</td>\n",
       "      <td>0</td>\n",
       "      <td>0</td>\n",
       "      <td>0</td>\n",
       "      <td>70122</td>\n",
       "      <td>69080</td>\n",
       "      <td>...</td>\n",
       "      <td>2438</td>\n",
       "      <td>2500</td>\n",
       "      <td>2554</td>\n",
       "      <td>1</td>\n",
       "      <td>0</td>\n",
       "      <td>0</td>\n",
       "      <td>1</td>\n",
       "      <td>0</td>\n",
       "      <td>0</td>\n",
       "      <td>0</td>\n",
       "    </tr>\n",
       "    <tr>\n",
       "      <th>25058</th>\n",
       "      <td>2</td>\n",
       "      <td>49</td>\n",
       "      <td>0</td>\n",
       "      <td>0</td>\n",
       "      <td>0</td>\n",
       "      <td>0</td>\n",
       "      <td>0</td>\n",
       "      <td>-1</td>\n",
       "      <td>20678</td>\n",
       "      <td>18956</td>\n",
       "      <td>...</td>\n",
       "      <td>27</td>\n",
       "      <td>7011</td>\n",
       "      <td>4408</td>\n",
       "      <td>0</td>\n",
       "      <td>1</td>\n",
       "      <td>0</td>\n",
       "      <td>1</td>\n",
       "      <td>0</td>\n",
       "      <td>0</td>\n",
       "      <td>0</td>\n",
       "    </tr>\n",
       "    <tr>\n",
       "      <th>2664</th>\n",
       "      <td>2</td>\n",
       "      <td>36</td>\n",
       "      <td>0</td>\n",
       "      <td>0</td>\n",
       "      <td>0</td>\n",
       "      <td>0</td>\n",
       "      <td>0</td>\n",
       "      <td>2</td>\n",
       "      <td>94228</td>\n",
       "      <td>47635</td>\n",
       "      <td>...</td>\n",
       "      <td>1800</td>\n",
       "      <td>0</td>\n",
       "      <td>1000</td>\n",
       "      <td>1</td>\n",
       "      <td>0</td>\n",
       "      <td>0</td>\n",
       "      <td>0</td>\n",
       "      <td>0</td>\n",
       "      <td>1</td>\n",
       "      <td>0</td>\n",
       "    </tr>\n",
       "    <tr>\n",
       "      <th>...</th>\n",
       "      <td>...</td>\n",
       "      <td>...</td>\n",
       "      <td>...</td>\n",
       "      <td>...</td>\n",
       "      <td>...</td>\n",
       "      <td>...</td>\n",
       "      <td>...</td>\n",
       "      <td>...</td>\n",
       "      <td>...</td>\n",
       "      <td>...</td>\n",
       "      <td>...</td>\n",
       "      <td>...</td>\n",
       "      <td>...</td>\n",
       "      <td>...</td>\n",
       "      <td>...</td>\n",
       "      <td>...</td>\n",
       "      <td>...</td>\n",
       "      <td>...</td>\n",
       "      <td>...</td>\n",
       "      <td>...</td>\n",
       "      <td>...</td>\n",
       "    </tr>\n",
       "    <tr>\n",
       "      <th>3941</th>\n",
       "      <td>2</td>\n",
       "      <td>34</td>\n",
       "      <td>1</td>\n",
       "      <td>-1</td>\n",
       "      <td>-1</td>\n",
       "      <td>-2</td>\n",
       "      <td>-2</td>\n",
       "      <td>-1</td>\n",
       "      <td>0</td>\n",
       "      <td>13621</td>\n",
       "      <td>...</td>\n",
       "      <td>0</td>\n",
       "      <td>666</td>\n",
       "      <td>0</td>\n",
       "      <td>1</td>\n",
       "      <td>0</td>\n",
       "      <td>1</td>\n",
       "      <td>0</td>\n",
       "      <td>0</td>\n",
       "      <td>0</td>\n",
       "      <td>2</td>\n",
       "    </tr>\n",
       "    <tr>\n",
       "      <th>17854</th>\n",
       "      <td>2</td>\n",
       "      <td>27</td>\n",
       "      <td>0</td>\n",
       "      <td>0</td>\n",
       "      <td>0</td>\n",
       "      <td>0</td>\n",
       "      <td>0</td>\n",
       "      <td>0</td>\n",
       "      <td>42585</td>\n",
       "      <td>43304</td>\n",
       "      <td>...</td>\n",
       "      <td>3000</td>\n",
       "      <td>8000</td>\n",
       "      <td>3000</td>\n",
       "      <td>0</td>\n",
       "      <td>1</td>\n",
       "      <td>1</td>\n",
       "      <td>0</td>\n",
       "      <td>0</td>\n",
       "      <td>0</td>\n",
       "      <td>1</td>\n",
       "    </tr>\n",
       "    <tr>\n",
       "      <th>95</th>\n",
       "      <td>2</td>\n",
       "      <td>35</td>\n",
       "      <td>0</td>\n",
       "      <td>0</td>\n",
       "      <td>0</td>\n",
       "      <td>0</td>\n",
       "      <td>0</td>\n",
       "      <td>0</td>\n",
       "      <td>83725</td>\n",
       "      <td>85996</td>\n",
       "      <td>...</td>\n",
       "      <td>1112</td>\n",
       "      <td>1104</td>\n",
       "      <td>1143</td>\n",
       "      <td>0</td>\n",
       "      <td>1</td>\n",
       "      <td>0</td>\n",
       "      <td>0</td>\n",
       "      <td>0</td>\n",
       "      <td>1</td>\n",
       "      <td>0</td>\n",
       "    </tr>\n",
       "    <tr>\n",
       "      <th>6279</th>\n",
       "      <td>1</td>\n",
       "      <td>36</td>\n",
       "      <td>0</td>\n",
       "      <td>0</td>\n",
       "      <td>0</td>\n",
       "      <td>0</td>\n",
       "      <td>0</td>\n",
       "      <td>0</td>\n",
       "      <td>136556</td>\n",
       "      <td>139453</td>\n",
       "      <td>...</td>\n",
       "      <td>5372</td>\n",
       "      <td>5761</td>\n",
       "      <td>5396</td>\n",
       "      <td>1</td>\n",
       "      <td>0</td>\n",
       "      <td>0</td>\n",
       "      <td>0</td>\n",
       "      <td>0</td>\n",
       "      <td>1</td>\n",
       "      <td>1</td>\n",
       "    </tr>\n",
       "    <tr>\n",
       "      <th>26428</th>\n",
       "      <td>1</td>\n",
       "      <td>36</td>\n",
       "      <td>-2</td>\n",
       "      <td>-2</td>\n",
       "      <td>-2</td>\n",
       "      <td>-2</td>\n",
       "      <td>-2</td>\n",
       "      <td>-2</td>\n",
       "      <td>2508</td>\n",
       "      <td>3978</td>\n",
       "      <td>...</td>\n",
       "      <td>4311</td>\n",
       "      <td>816</td>\n",
       "      <td>9165</td>\n",
       "      <td>1</td>\n",
       "      <td>0</td>\n",
       "      <td>1</td>\n",
       "      <td>0</td>\n",
       "      <td>0</td>\n",
       "      <td>0</td>\n",
       "      <td>1</td>\n",
       "    </tr>\n",
       "  </tbody>\n",
       "</table>\n",
       "<p>9000 rows × 27 columns</p>\n",
       "</div>"
      ],
      "text/plain": [
       "       MARRIAGE  AGE  PAY_0  PAY_2  PAY_3  PAY_4  PAY_5  PAY_6  BILL_AMT1  \\\n",
       "2308          2   25      0      0      0      0      0      0       8864   \n",
       "22404         2   26      0      0      0      0      0      0     136736   \n",
       "23397         1   32      0      0      0      0      0      0      70122   \n",
       "25058         2   49      0      0      0      0      0     -1      20678   \n",
       "2664          2   36      0      0      0      0      0      2      94228   \n",
       "...         ...  ...    ...    ...    ...    ...    ...    ...        ...   \n",
       "3941          2   34      1     -1     -1     -2     -2     -1          0   \n",
       "17854         2   27      0      0      0      0      0      0      42585   \n",
       "95            2   35      0      0      0      0      0      0      83725   \n",
       "6279          1   36      0      0      0      0      0      0     136556   \n",
       "26428         1   36     -2     -2     -2     -2     -2     -2       2508   \n",
       "\n",
       "       BILL_AMT2  ...  PAY_AMT4  PAY_AMT5  PAY_AMT6  SEX_female  SEX_male  \\\n",
       "2308       10062  ...      1500      1500      2000           0         1   \n",
       "22404     125651  ...      2647      2669      2669           1         0   \n",
       "23397      69080  ...      2438      2500      2554           1         0   \n",
       "25058      18956  ...        27      7011      4408           0         1   \n",
       "2664       47635  ...      1800         0      1000           1         0   \n",
       "...          ...  ...       ...       ...       ...         ...       ...   \n",
       "3941       13621  ...         0       666         0           1         0   \n",
       "17854      43304  ...      3000      8000      3000           0         1   \n",
       "95         85996  ...      1112      1104      1143           0         1   \n",
       "6279      139453  ...      5372      5761      5396           1         0   \n",
       "26428       3978  ...      4311       816      9165           1         0   \n",
       "\n",
       "       EDUCATION_graduate school  EDUCATION_high school  EDUCATION_other  \\\n",
       "2308                           0                      0                0   \n",
       "22404                          1                      0                0   \n",
       "23397                          0                      1                0   \n",
       "25058                          0                      1                0   \n",
       "2664                           0                      0                0   \n",
       "...                          ...                    ...              ...   \n",
       "3941                           1                      0                0   \n",
       "17854                          1                      0                0   \n",
       "95                             0                      0                0   \n",
       "6279                           0                      0                0   \n",
       "26428                          1                      0                0   \n",
       "\n",
       "       EDUCATION_university  LIMIT_BAL  \n",
       "2308                      1          0  \n",
       "22404                     0          0  \n",
       "23397                     0          0  \n",
       "25058                     0          0  \n",
       "2664                      1          0  \n",
       "...                     ...        ...  \n",
       "3941                      0          2  \n",
       "17854                     0          1  \n",
       "95                        1          0  \n",
       "6279                      1          1  \n",
       "26428                     0          1  \n",
       "\n",
       "[9000 rows x 27 columns]"
      ]
     },
     "execution_count": 129,
     "metadata": {},
     "output_type": "execute_result"
    }
   ],
   "source": [
    "testX"
   ]
  },
  {
   "cell_type": "code",
   "execution_count": 130,
   "id": "4d97e3ba",
   "metadata": {},
   "outputs": [],
   "source": [
    "rfc = RandomForestClassifier()\n",
    "rfc_model = rfc.fit(trainX, trainY.ravel())"
   ]
  },
  {
   "cell_type": "code",
   "execution_count": 132,
   "id": "c71da6ec",
   "metadata": {},
   "outputs": [
    {
     "data": {
      "text/plain": [
       "0.8123333333333334"
      ]
     },
     "execution_count": 132,
     "metadata": {},
     "output_type": "execute_result"
    }
   ],
   "source": [
    "rfc_model.score(testX, testY)"
   ]
  },
  {
   "cell_type": "markdown",
   "id": "989470da",
   "metadata": {},
   "source": [
    "# 4.New Model Descritising,  X- credit limit is discretize, acc .78"
   ]
  },
  {
   "cell_type": "code",
   "execution_count": 90,
   "id": "f270e787",
   "metadata": {},
   "outputs": [],
   "source": [
    "#features\n",
    "XL2 = credit['LIMIT_BAL']\n",
    "yL2 = credit['default payment next month_default']\n"
   ]
  },
  {
   "cell_type": "code",
   "execution_count": 91,
   "id": "77d72206",
   "metadata": {},
   "outputs": [
    {
     "data": {
      "text/plain": [
       "Text(0.5, 0, 'Balance Limit')"
      ]
     },
     "execution_count": 91,
     "metadata": {},
     "output_type": "execute_result"
    },
    {
     "data": {
      "image/png": "[encoded data removed]",
      "text/plain": [
       "<Figure size 432x288 with 1 Axes>"
      ]
     },
     "metadata": {
      "needs_background": "light"
     },
     "output_type": "display_data"
    }
   ],
   "source": [
    "pd.DataFrame(yL2).hist()\n",
    "plt.ticklabel_format(useOffset=False, style='plain')\n",
    "plt.xlabel('Balance Limit') "
   ]
  },
  {
   "cell_type": "code",
   "execution_count": 92,
   "id": "1a0771bf",
   "metadata": {},
   "outputs": [],
   "source": [
    "XL2= pd.cut(XL2, bins=[9999, 180000, 300000,450000, 600000,800000,1000000],\n",
    "            labels = ['10K-180K', '180K-300K','300K-450K', '45OK-600K', '600K-8OOK', '800K-1MIL'])\n"
   ]
  },
  {
   "cell_type": "code",
   "execution_count": 93,
   "id": "b4d56393",
   "metadata": {},
   "outputs": [],
   "source": [
    "XL2 = XL2.cat.codes"
   ]
  },
  {
   "cell_type": "code",
   "execution_count": 94,
   "id": "d514d5a0",
   "metadata": {},
   "outputs": [
    {
     "data": {
      "text/plain": [
       "<AxesSubplot:>"
      ]
     },
     "execution_count": 94,
     "metadata": {},
     "output_type": "execute_result"
    },
    {
     "data": {
      "image/png": "[encoded data removed]",
      "text/plain": [
       "<Figure size 432x288 with 1 Axes>"
      ]
     },
     "metadata": {
      "needs_background": "light"
     },
     "output_type": "display_data"
    }
   ],
   "source": [
    "XL2.hist()"
   ]
  },
  {
   "cell_type": "code",
   "execution_count": 95,
   "id": "e10513ef",
   "metadata": {},
   "outputs": [],
   "source": [
    "XL2 = XL2.values.reshape(-1,1)"
   ]
  },
  {
   "cell_type": "code",
   "execution_count": 96,
   "id": "35b618d3",
   "metadata": {},
   "outputs": [],
   "source": [
    "#train test split\n",
    "x_train, x_test, y_train, y_test = train_test_split(XL2, yL2,test_size = 0.3, random_state=123)\n"
   ]
  },
  {
   "cell_type": "code",
   "execution_count": 97,
   "id": "43215df1",
   "metadata": {},
   "outputs": [
    {
     "data": {
      "text/plain": [
       "array([[0],\n",
       "       [0],\n",
       "       [0],\n",
       "       ...,\n",
       "       [0],\n",
       "       [0],\n",
       "       [0]], dtype=int8)"
      ]
     },
     "execution_count": 97,
     "metadata": {},
     "output_type": "execute_result"
    }
   ],
   "source": [
    "x_test"
   ]
  },
  {
   "cell_type": "code",
   "execution_count": 98,
   "id": "16eee7d9",
   "metadata": {},
   "outputs": [
    {
     "data": {
      "text/plain": [
       "25665    0\n",
       "16464    0\n",
       "22386    1\n",
       "10149    1\n",
       "8729     0\n",
       "        ..\n",
       "17548    1\n",
       "11459    0\n",
       "6608     0\n",
       "2414     1\n",
       "14757    0\n",
       "Name: default payment next month_default, Length: 9000, dtype: uint8"
      ]
     },
     "execution_count": 98,
     "metadata": {},
     "output_type": "execute_result"
    }
   ],
   "source": [
    "y_test"
   ]
  },
  {
   "cell_type": "code",
   "execution_count": 99,
   "id": "cfbd15b6",
   "metadata": {},
   "outputs": [
    {
     "name": "stdout",
     "output_type": "stream",
     "text": [
      "              precision    recall  f1-score   support\n",
      "\n",
      "           0       0.78      1.00      0.88      7052\n",
      "           1       1.00      0.00      0.00      1948\n",
      "\n",
      "    accuracy                           0.78      9000\n",
      "   macro avg       0.89      0.50      0.44      9000\n",
      "weighted avg       0.83      0.78      0.69      9000\n",
      "\n"
     ]
    }
   ],
   "source": [
    "#DecisionTreeClassifier\n",
    "algo_XLD1= DecisionTreeClassifier(max_depth=20, )\n",
    "model_XLD1 = algo_XLD1.fit(x_train,y_train)\n",
    "#Predicti1ons\n",
    "preds_XLD1 = algo_XLD1.predict(x_test)\n",
    "print(classification_report(y_test, preds_XLD1,zero_division=1))"
   ]
  },
  {
   "cell_type": "code",
   "execution_count": 101,
   "id": "e67ed012",
   "metadata": {},
   "outputs": [
    {
     "name": "stdout",
     "output_type": "stream",
     "text": [
      "              precision    recall  f1-score   support\n",
      "\n",
      "           0       0.78      1.00      0.88      7052\n",
      "           1       1.00      0.00      0.00      1948\n",
      "\n",
      "    accuracy                           0.78      9000\n",
      "   macro avg       0.89      0.50      0.44      9000\n",
      "weighted avg       0.83      0.78      0.69      9000\n",
      "\n"
     ]
    }
   ],
   "source": [
    "#RandomForestClassifier\n",
    "algo_XLD2= RandomForestClassifier(max_depth=20, )\n",
    "model_XLD2 = algo_XLD2.fit(x_train,y_train)\n",
    "#Predicti1ons\n",
    "preds_XLD2 = algo_XLD2.predict(x_test)\n",
    "print(classification_report(y_test, preds_XLD2,zero_division=1))"
   ]
  },
  {
   "cell_type": "code",
   "execution_count": 105,
   "id": "511d9049",
   "metadata": {},
   "outputs": [
    {
     "name": "stdout",
     "output_type": "stream",
     "text": [
      "              precision    recall  f1-score   support\n",
      "\n",
      "           0       0.78      1.00      0.88      7052\n",
      "           1       1.00      0.00      0.00      1948\n",
      "\n",
      "    accuracy                           0.78      9000\n",
      "   macro avg       0.89      0.50      0.44      9000\n",
      "weighted avg       0.83      0.78      0.69      9000\n",
      "\n"
     ]
    }
   ],
   "source": [
    "#GradientBoostingClassifier\n",
    "algo_XLD3= GradientBoostingClassifier(max_depth=20, )\n",
    "model_XLD3 = algo_XLD3.fit(x_train,y_train)\n",
    "#Predicti1ons\n",
    "preds_XLD3 = algo_XLD3.predict(x_test)\n",
    "print(classification_report(y_test, preds_XLD3,zero_division=1))"
   ]
  },
  {
   "cell_type": "code",
   "execution_count": 109,
   "id": "51e44885",
   "metadata": {},
   "outputs": [
    {
     "name": "stdout",
     "output_type": "stream",
     "text": [
      "[0.77866667 0.77883333 0.77883333 0.77883333 0.77883333]\n"
     ]
    }
   ],
   "source": [
    "print(cross_val_score(model, XL2, yL2)) # cv = number of folds being held out"
   ]
  },
  {
   "cell_type": "code",
   "execution_count": 110,
   "id": "8d6edc52",
   "metadata": {},
   "outputs": [],
   "source": [
    "algos_Class = []\n",
    "algos_Class.append(('Random Forest Classifier', RandomForestClassifier()))\n",
    "algos_Class.append(('Decision Tree Classifier', DecisionTreeClassifier()))\n",
    "algos_Class.append(('Gradient Bossting Class', GradientBoostingClassifier()))"
   ]
  },
  {
   "cell_type": "code",
   "execution_count": 111,
   "id": "ee8dcbd9",
   "metadata": {},
   "outputs": [
    {
     "data": {
      "text/plain": [
       "[('Random Forest Classifier', RandomForestClassifier()),\n",
       " ('Decision Tree Classifier', DecisionTreeClassifier()),\n",
       " ('Gradient Bossting Class', GradientBoostingClassifier())]"
      ]
     },
     "execution_count": 111,
     "metadata": {},
     "output_type": "execute_result"
    }
   ],
   "source": [
    "algos_Class"
   ]
  },
  {
   "cell_type": "code",
   "execution_count": 119,
   "id": "d6407b21",
   "metadata": {},
   "outputs": [],
   "source": [
    "#classification\n",
    "results = []\n",
    "names = []\n",
    "for name, model in algos_Class:\n",
    "    result = cross_val_score(model, XL2,yL2)\n",
    "    results.append(result)\n",
    "    names.append(name)"
   ]
  },
  {
   "cell_type": "code",
   "execution_count": 120,
   "id": "021c75de",
   "metadata": {},
   "outputs": [
    {
     "data": {
      "text/plain": [
       "[array([0.77866667, 0.77883333, 0.77883333, 0.77883333, 0.77883333]),\n",
       " array([0.77866667, 0.77883333, 0.77883333, 0.77883333, 0.77883333]),\n",
       " array([0.77866667, 0.77883333, 0.77883333, 0.77883333, 0.77883333])]"
      ]
     },
     "execution_count": 120,
     "metadata": {},
     "output_type": "execute_result"
    }
   ],
   "source": [
    "results"
   ]
  },
  {
   "cell_type": "code",
   "execution_count": 121,
   "id": "4eb7f5a1",
   "metadata": {},
   "outputs": [
    {
     "name": "stdout",
     "output_type": "stream",
     "text": [
      "Random Forest Classifier 0.7788000000000002\n",
      "Decision Tree Classifier 0.7788000000000002\n",
      "Gradient Bossting Class 0.7788000000000002\n"
     ]
    }
   ],
   "source": [
    "for i in range(len(names)):\n",
    "    print(names[i],results[i].mean())"
   ]
  },
  {
   "cell_type": "code",
   "execution_count": null,
   "id": "a7398fc6",
   "metadata": {},
   "outputs": [],
   "source": []
  },
  {
   "cell_type": "code",
   "execution_count": 106,
   "id": "7f361cf8",
   "metadata": {},
   "outputs": [
    {
     "data": {
      "text/plain": [
       "0.7835555555555556"
      ]
     },
     "execution_count": 106,
     "metadata": {},
     "output_type": "execute_result"
    }
   ],
   "source": [
    "#DecisionTreeClassifier\n",
    "DT=algo_XLD1\n",
    "DT.fit(x_train, y_train)\n",
    "predictions = DT.predict(x_test)\n",
    "DT.score(x_test, y_test)"
   ]
  },
  {
   "cell_type": "code",
   "execution_count": 107,
   "id": "0e2310a2",
   "metadata": {},
   "outputs": [
    {
     "data": {
      "text/plain": [
       "0.7835555555555556"
      ]
     },
     "execution_count": 107,
     "metadata": {},
     "output_type": "execute_result"
    }
   ],
   "source": [
    "#RandomForestClassifier\n",
    "RF=algo_XLD2\n",
    "RF.fit(x_train, y_train)\n",
    "predictions = RF.predict(x_test)\n",
    "RF.score(x_test, y_test)"
   ]
  },
  {
   "cell_type": "code",
   "execution_count": 108,
   "id": "bb7298ce",
   "metadata": {},
   "outputs": [
    {
     "data": {
      "text/plain": [
       "0.7835555555555556"
      ]
     },
     "execution_count": 108,
     "metadata": {},
     "output_type": "execute_result"
    }
   ],
   "source": [
    "#RandomForestClassifier\n",
    "GB=algo_XLD3\n",
    "GB.fit(x_train, y_train)\n",
    "predictions = GB.predict(x_test)\n",
    "RF.score(x_test, y_test)"
   ]
  },
  {
   "cell_type": "markdown",
   "id": "1e64995c",
   "metadata": {},
   "source": [
    "# 5.  Credit limit is independent and not descritize .78"
   ]
  },
  {
   "cell_type": "code",
   "execution_count": 140,
   "id": "ec09c390",
   "metadata": {},
   "outputs": [],
   "source": [
    "XL3 = credit['LIMIT_BAL'].values.reshape(-1,1)\n",
    "yL3 = credit['default payment next month_default']\n"
   ]
  },
  {
   "cell_type": "code",
   "execution_count": 141,
   "id": "79fefb3b",
   "metadata": {},
   "outputs": [
    {
     "data": {
      "text/plain": [
       "Text(0.5, 0, '0- Not default    1- Default')"
      ]
     },
     "execution_count": 141,
     "metadata": {},
     "output_type": "execute_result"
    },
    {
     "data": {
      "image/png": "[encoded data removed]",
      "text/plain": [
       "<Figure size 432x288 with 1 Axes>"
      ]
     },
     "metadata": {
      "needs_background": "light"
     },
     "output_type": "display_data"
    }
   ],
   "source": [
    "pd.DataFrame(yL3).hist()\n",
    "plt.ticklabel_format(useOffset=False, style='plain')\n",
    "plt.xlabel('0- Not default    1- Default') "
   ]
  },
  {
   "cell_type": "code",
   "execution_count": 142,
   "id": "c2d5f605",
   "metadata": {},
   "outputs": [
    {
     "data": {
      "text/plain": [
       "array([[ 20000],\n",
       "       [120000],\n",
       "       [ 90000],\n",
       "       ...,\n",
       "       [ 30000],\n",
       "       [ 80000],\n",
       "       [ 50000]], dtype=int64)"
      ]
     },
     "execution_count": 142,
     "metadata": {},
     "output_type": "execute_result"
    }
   ],
   "source": [
    "XL3"
   ]
  },
  {
   "cell_type": "code",
   "execution_count": 143,
   "id": "60984302",
   "metadata": {},
   "outputs": [
    {
     "data": {
      "text/plain": [
       "0        1\n",
       "1        1\n",
       "2        0\n",
       "3        0\n",
       "4        0\n",
       "        ..\n",
       "29995    0\n",
       "29996    0\n",
       "29997    1\n",
       "29998    1\n",
       "29999    1\n",
       "Name: default payment next month_default, Length: 30000, dtype: uint8"
      ]
     },
     "execution_count": 143,
     "metadata": {},
     "output_type": "execute_result"
    }
   ],
   "source": [
    "yL3"
   ]
  },
  {
   "cell_type": "code",
   "execution_count": 144,
   "id": "4bdfe929",
   "metadata": {},
   "outputs": [],
   "source": [
    "#train test split\n",
    "x_train, x_test, y_train, y_test = train_test_split(XL3, yL3,test_size = 0.3, random_state=123)\n"
   ]
  },
  {
   "cell_type": "code",
   "execution_count": 145,
   "id": "ae50e0ea",
   "metadata": {},
   "outputs": [
    {
     "data": {
      "text/plain": [
       "array([[ 40000],\n",
       "       [ 80000],\n",
       "       [170000],\n",
       "       ...,\n",
       "       [ 10000],\n",
       "       [ 30000],\n",
       "       [ 30000]], dtype=int64)"
      ]
     },
     "execution_count": 145,
     "metadata": {},
     "output_type": "execute_result"
    }
   ],
   "source": [
    "x_test"
   ]
  },
  {
   "cell_type": "code",
   "execution_count": 146,
   "id": "d8c5f713",
   "metadata": {},
   "outputs": [
    {
     "data": {
      "text/plain": [
       "25665    0\n",
       "16464    0\n",
       "22386    1\n",
       "10149    1\n",
       "8729     0\n",
       "        ..\n",
       "17548    1\n",
       "11459    0\n",
       "6608     0\n",
       "2414     1\n",
       "14757    0\n",
       "Name: default payment next month_default, Length: 9000, dtype: uint8"
      ]
     },
     "execution_count": 146,
     "metadata": {},
     "output_type": "execute_result"
    }
   ],
   "source": [
    "y_test"
   ]
  },
  {
   "cell_type": "code",
   "execution_count": 147,
   "id": "5d1d4137",
   "metadata": {},
   "outputs": [
    {
     "name": "stdout",
     "output_type": "stream",
     "text": [
      "              precision    recall  f1-score   support\n",
      "\n",
      "           0       0.78      1.00      0.88      7052\n",
      "           1       1.00      0.00      0.00      1948\n",
      "\n",
      "    accuracy                           0.78      9000\n",
      "   macro avg       0.89      0.50      0.44      9000\n",
      "weighted avg       0.83      0.78      0.69      9000\n",
      "\n"
     ]
    }
   ],
   "source": [
    "#DecisionTreeClassifier\n",
    "algo_XLND1= DecisionTreeClassifier(max_depth=2)\n",
    "model_XLND1 = algo_XLND1.fit(x_train,y_train)\n",
    "#Predicti1ons\n",
    "preds_XLND1 = algo_XLND1.predict(x_test)\n",
    "print(classification_report(y_test, preds_XLND1, zero_division=1))"
   ]
  },
  {
   "cell_type": "code",
   "execution_count": 148,
   "id": "2226d3b9",
   "metadata": {},
   "outputs": [
    {
     "name": "stdout",
     "output_type": "stream",
     "text": [
      "              precision    recall  f1-score   support\n",
      "\n",
      "           0       0.78      1.00      0.88      7052\n",
      "           1       1.00      0.00      0.00      1948\n",
      "\n",
      "    accuracy                           0.78      9000\n",
      "   macro avg       0.89      0.50      0.44      9000\n",
      "weighted avg       0.83      0.78      0.69      9000\n",
      "\n"
     ]
    }
   ],
   "source": [
    "#RandomForestClassifier\n",
    "algo_XLND2= RandomForestClassifier(max_depth=4)\n",
    "model_XLND2 = algo_XLND2.fit(x_train,y_train)\n",
    "#Predicti1ons\n",
    "preds_XLND2 = algo_XLND2.predict(x_test)\n",
    "print(classification_report(y_test, preds_XLND2,zero_division=1))"
   ]
  },
  {
   "cell_type": "code",
   "execution_count": 149,
   "id": "1b03ad03",
   "metadata": {},
   "outputs": [
    {
     "name": "stdout",
     "output_type": "stream",
     "text": [
      "              precision    recall  f1-score   support\n",
      "\n",
      "           0       0.78      1.00      0.88      7052\n",
      "           1       1.00      0.00      0.00      1948\n",
      "\n",
      "    accuracy                           0.78      9000\n",
      "   macro avg       0.89      0.50      0.44      9000\n",
      "weighted avg       0.83      0.78      0.69      9000\n",
      "\n"
     ]
    }
   ],
   "source": [
    "#GradientBoostingClassifier\n",
    "algo_XLND3= GradientBoostingClassifier()\n",
    "model_XLND3 = algo_XLND3.fit(x_train,y_train)\n",
    "#Predicti1ons\n",
    "preds_XLND3= algo_XLND3.predict(x_test)\n",
    "print(classification_report(y_test, preds_XLND3, zero_division=1))"
   ]
  },
  {
   "cell_type": "code",
   "execution_count": 150,
   "id": "9c9b3fdd",
   "metadata": {},
   "outputs": [
    {
     "name": "stdout",
     "output_type": "stream",
     "text": [
      "[0.77866667 0.77883333 0.77883333 0.77883333 0.77866667]\n"
     ]
    }
   ],
   "source": [
    "print(cross_val_score(model, XL3, yL3)) # cv = number of folds being held out"
   ]
  },
  {
   "cell_type": "code",
   "execution_count": 151,
   "id": "5f33653d",
   "metadata": {},
   "outputs": [],
   "source": [
    "algos_Class = []\n",
    "algos_Class.append(('Random Forest Classifier', RandomForestClassifier()))\n",
    "algos_Class.append(('Decision Tree Classifier', DecisionTreeClassifier()))\n",
    "algos_Class.append(('Gradient Bossting Class', GradientBoostingClassifier()))"
   ]
  },
  {
   "cell_type": "code",
   "execution_count": 152,
   "id": "f5980337",
   "metadata": {},
   "outputs": [
    {
     "data": {
      "text/plain": [
       "[('Random Forest Classifier', RandomForestClassifier()),\n",
       " ('Decision Tree Classifier', DecisionTreeClassifier()),\n",
       " ('Gradient Bossting Class', GradientBoostingClassifier())]"
      ]
     },
     "execution_count": 152,
     "metadata": {},
     "output_type": "execute_result"
    }
   ],
   "source": [
    "algos_Class"
   ]
  },
  {
   "cell_type": "code",
   "execution_count": 153,
   "id": "a810b7d9",
   "metadata": {},
   "outputs": [],
   "source": [
    "#classification\n",
    "results = []\n",
    "names = []\n",
    "for name, model in algos_Class:\n",
    "    result = cross_val_score(model, XL2,yL2)\n",
    "    results.append(result)\n",
    "    names.append(name)"
   ]
  },
  {
   "cell_type": "code",
   "execution_count": 154,
   "id": "40ba2933",
   "metadata": {},
   "outputs": [
    {
     "data": {
      "text/plain": [
       "[array([0.77866667, 0.77883333, 0.77883333, 0.77883333, 0.77883333]),\n",
       " array([0.77866667, 0.77883333, 0.77883333, 0.77883333, 0.77883333]),\n",
       " array([0.77866667, 0.77883333, 0.77883333, 0.77883333, 0.77883333])]"
      ]
     },
     "execution_count": 154,
     "metadata": {},
     "output_type": "execute_result"
    }
   ],
   "source": [
    "results"
   ]
  },
  {
   "cell_type": "code",
   "execution_count": 155,
   "id": "e983f4bf",
   "metadata": {},
   "outputs": [
    {
     "name": "stdout",
     "output_type": "stream",
     "text": [
      "Random Forest Classifier 0.7788000000000002\n",
      "Decision Tree Classifier 0.7788000000000002\n",
      "Gradient Bossting Class 0.7788000000000002\n"
     ]
    }
   ],
   "source": [
    "for i in range(len(names)):\n",
    "    print(names[i],results[i].mean())"
   ]
  },
  {
   "cell_type": "code",
   "execution_count": 156,
   "id": "7d7771c1",
   "metadata": {},
   "outputs": [
    {
     "data": {
      "text/plain": [
       "0.7835555555555556"
      ]
     },
     "execution_count": 156,
     "metadata": {},
     "output_type": "execute_result"
    }
   ],
   "source": [
    "#DecisionTreeClassifier\n",
    "DT=algo_XLND1\n",
    "DT.fit(x_train, y_train)\n",
    "predictions = DT.predict(x_test)\n",
    "DT.score(x_test, y_test)"
   ]
  },
  {
   "cell_type": "code",
   "execution_count": 157,
   "id": "63f74bb5",
   "metadata": {},
   "outputs": [
    {
     "data": {
      "text/plain": [
       "0.7835555555555556"
      ]
     },
     "execution_count": 157,
     "metadata": {},
     "output_type": "execute_result"
    }
   ],
   "source": [
    "#RandomForestClassifier\n",
    "RF=algo_XLND2\n",
    "RF.fit(x_train, y_train)\n",
    "predictions = RF.predict(x_test)\n",
    "RF.score(x_test, y_test)"
   ]
  },
  {
   "cell_type": "code",
   "execution_count": 158,
   "id": "9d0730b3",
   "metadata": {},
   "outputs": [
    {
     "data": {
      "text/plain": [
       "0.7835555555555556"
      ]
     },
     "execution_count": 158,
     "metadata": {},
     "output_type": "execute_result"
    }
   ],
   "source": [
    "#RandomForestClassifier\n",
    "GB=algo_XLND3\n",
    "GB.fit(x_train, y_train)\n",
    "predictions = GB.predict(x_test)\n",
    "RF.score(x_test, y_test)"
   ]
  },
  {
   "cell_type": "code",
   "execution_count": null,
   "id": "2f4adbe3",
   "metadata": {},
   "outputs": [],
   "source": []
  },
  {
   "cell_type": "code",
   "execution_count": null,
   "id": "0fb50651",
   "metadata": {},
   "outputs": [],
   "source": []
  },
  {
   "cell_type": "markdown",
   "id": "cb761a49",
   "metadata": {},
   "source": [
    "# Regression Models Defaul PMT is dependant, will not work b/c it is binary variable"
   ]
  },
  {
   "cell_type": "code",
   "execution_count": 339,
   "id": "94826f4d",
   "metadata": {},
   "outputs": [
    {
     "data": {
      "text/plain": [
       "Index(['ID', 'LIMIT_BAL', 'MARRIAGE', 'AGE', 'PAY_0', 'PAY_2', 'PAY_3',\n",
       "       'PAY_4', 'PAY_5', 'PAY_6', 'BILL_AMT1', 'BILL_AMT2', 'BILL_AMT3',\n",
       "       'BILL_AMT4', 'BILL_AMT5', 'BILL_AMT6', 'PAY_AMT1', 'PAY_AMT2',\n",
       "       'PAY_AMT3', 'PAY_AMT4', 'PAY_AMT5', 'PAY_AMT6', 'SEX_female',\n",
       "       'SEX_male', 'EDUCATION_graduate school', 'EDUCATION_high school',\n",
       "       'EDUCATION_other', 'EDUCATION_university',\n",
       "       'default payment next month_default',\n",
       "       'default payment next month_not default'],\n",
       "      dtype='object')"
      ]
     },
     "execution_count": 339,
     "metadata": {},
     "output_type": "execute_result"
    }
   ],
   "source": [
    "credit.dtypes.index"
   ]
  },
  {
   "cell_type": "code",
   "execution_count": 345,
   "id": "ee6660ee",
   "metadata": {},
   "outputs": [
    {
     "name": "stdout",
     "output_type": "stream",
     "text": [
      "Summary of feature sample\n"
     ]
    }
   ],
   "source": [
    "#features\n",
    "X = credit[['LIMIT_BAL','MARRIAGE', 'AGE','SEX_female',\n",
    "       'SEX_male', 'EDUCATION_graduate school', 'EDUCATION_high school',\n",
    "       'EDUCATION_other', 'EDUCATION_university']]\n",
    "print('Summary of feature sample')\n"
   ]
  },
  {
   "cell_type": "code",
   "execution_count": 346,
   "id": "73580f62",
   "metadata": {},
   "outputs": [
    {
     "data": {
      "text/html": [
       "<div>\n",
       "<style scoped>\n",
       "    .dataframe tbody tr th:only-of-type {\n",
       "        vertical-align: middle;\n",
       "    }\n",
       "\n",
       "    .dataframe tbody tr th {\n",
       "        vertical-align: top;\n",
       "    }\n",
       "\n",
       "    .dataframe thead th {\n",
       "        text-align: right;\n",
       "    }\n",
       "</style>\n",
       "<table border=\"1\" class=\"dataframe\">\n",
       "  <thead>\n",
       "    <tr style=\"text-align: right;\">\n",
       "      <th></th>\n",
       "      <th>LIMIT_BAL</th>\n",
       "      <th>MARRIAGE</th>\n",
       "      <th>AGE</th>\n",
       "      <th>SEX_female</th>\n",
       "      <th>SEX_male</th>\n",
       "      <th>EDUCATION_graduate school</th>\n",
       "      <th>EDUCATION_high school</th>\n",
       "      <th>EDUCATION_other</th>\n",
       "      <th>EDUCATION_university</th>\n",
       "    </tr>\n",
       "  </thead>\n",
       "  <tbody>\n",
       "    <tr>\n",
       "      <th>0</th>\n",
       "      <td>20000</td>\n",
       "      <td>1</td>\n",
       "      <td>24</td>\n",
       "      <td>1</td>\n",
       "      <td>0</td>\n",
       "      <td>0</td>\n",
       "      <td>0</td>\n",
       "      <td>0</td>\n",
       "      <td>1</td>\n",
       "    </tr>\n",
       "    <tr>\n",
       "      <th>1</th>\n",
       "      <td>120000</td>\n",
       "      <td>2</td>\n",
       "      <td>26</td>\n",
       "      <td>1</td>\n",
       "      <td>0</td>\n",
       "      <td>0</td>\n",
       "      <td>0</td>\n",
       "      <td>0</td>\n",
       "      <td>1</td>\n",
       "    </tr>\n",
       "    <tr>\n",
       "      <th>2</th>\n",
       "      <td>90000</td>\n",
       "      <td>2</td>\n",
       "      <td>34</td>\n",
       "      <td>1</td>\n",
       "      <td>0</td>\n",
       "      <td>0</td>\n",
       "      <td>0</td>\n",
       "      <td>0</td>\n",
       "      <td>1</td>\n",
       "    </tr>\n",
       "    <tr>\n",
       "      <th>3</th>\n",
       "      <td>50000</td>\n",
       "      <td>1</td>\n",
       "      <td>37</td>\n",
       "      <td>1</td>\n",
       "      <td>0</td>\n",
       "      <td>0</td>\n",
       "      <td>0</td>\n",
       "      <td>0</td>\n",
       "      <td>1</td>\n",
       "    </tr>\n",
       "    <tr>\n",
       "      <th>4</th>\n",
       "      <td>50000</td>\n",
       "      <td>1</td>\n",
       "      <td>57</td>\n",
       "      <td>0</td>\n",
       "      <td>1</td>\n",
       "      <td>0</td>\n",
       "      <td>0</td>\n",
       "      <td>0</td>\n",
       "      <td>1</td>\n",
       "    </tr>\n",
       "  </tbody>\n",
       "</table>\n",
       "</div>"
      ],
      "text/plain": [
       "   LIMIT_BAL  MARRIAGE  AGE  SEX_female  SEX_male  EDUCATION_graduate school  \\\n",
       "0      20000         1   24           1         0                          0   \n",
       "1     120000         2   26           1         0                          0   \n",
       "2      90000         2   34           1         0                          0   \n",
       "3      50000         1   37           1         0                          0   \n",
       "4      50000         1   57           0         1                          0   \n",
       "\n",
       "   EDUCATION_high school  EDUCATION_other  EDUCATION_university  \n",
       "0                      0                0                     1  \n",
       "1                      0                0                     1  \n",
       "2                      0                0                     1  \n",
       "3                      0                0                     1  \n",
       "4                      0                0                     1  "
      ]
     },
     "execution_count": 346,
     "metadata": {},
     "output_type": "execute_result"
    }
   ],
   "source": [
    "X.head()"
   ]
  },
  {
   "cell_type": "code",
   "execution_count": 347,
   "id": "85604bf3",
   "metadata": {},
   "outputs": [],
   "source": [
    "y= credit['default payment next month_default']"
   ]
  },
  {
   "cell_type": "code",
   "execution_count": 348,
   "id": "2c05f46c",
   "metadata": {},
   "outputs": [
    {
     "data": {
      "text/plain": [
       "0        1\n",
       "1        1\n",
       "2        0\n",
       "3        0\n",
       "4        0\n",
       "        ..\n",
       "29995    0\n",
       "29996    0\n",
       "29997    1\n",
       "29998    1\n",
       "29999    1\n",
       "Name: default payment next month_default, Length: 30000, dtype: uint8"
      ]
     },
     "execution_count": 348,
     "metadata": {},
     "output_type": "execute_result"
    }
   ],
   "source": [
    "y"
   ]
  },
  {
   "cell_type": "code",
   "execution_count": 353,
   "id": "b95c2ccc",
   "metadata": {},
   "outputs": [],
   "source": [
    "#in first line we only initialize the parameters\n",
    "modelD1 = LinearRegression(n_jobs=10)\n",
    "#train test split\n",
    "X_train, X_test, y_train, y_test = train_test_split(X, y,test_size = 0.3, random_state = 123)\n"
   ]
  },
  {
   "cell_type": "code",
   "execution_count": 359,
   "id": "edd2d741",
   "metadata": {},
   "outputs": [
    {
     "data": {
      "text/plain": [
       "0.030786907373979044"
      ]
     },
     "execution_count": 359,
     "metadata": {},
     "output_type": "execute_result"
    }
   ],
   "source": [
    "modelD1.fit(X_train, y_train)\n",
    "modelD1.score(X_test, y_test)\n"
   ]
  },
  {
   "cell_type": "code",
   "execution_count": 360,
   "id": "f6a8efed",
   "metadata": {},
   "outputs": [
    {
     "data": {
      "text/plain": [
       "-0.17921722275732388"
      ]
     },
     "execution_count": 360,
     "metadata": {},
     "output_type": "execute_result"
    }
   ],
   "source": [
    "modelD2 = RandomForestRegressor(n_jobs=10)\n",
    "#train test split\n",
    "X_train, X_test, y_train, y_test = train_test_split(X, y,test_size = 0.3, random_state = 123)\n",
    "modelD2.fit(X_train, y_train)\n",
    "modelD2.score(X_test, y_test)"
   ]
  },
  {
   "cell_type": "code",
   "execution_count": 361,
   "id": "3956503c",
   "metadata": {},
   "outputs": [
    {
     "data": {
      "text/plain": [
       "-0.08031881196297186"
      ]
     },
     "execution_count": 361,
     "metadata": {},
     "output_type": "execute_result"
    }
   ],
   "source": [
    "modelD3 = SVR()\n",
    "X_train, X_test, y_train, y_test = train_test_split(X, y,test_size = 0.3, random_state = 123)\n",
    "modelD3.fit(X_train, y_train)\n",
    "modelD3.score(X_test, y_test)\n",
    "\n"
   ]
  },
  {
   "cell_type": "code",
   "execution_count": 362,
   "id": "b8f1889e",
   "metadata": {},
   "outputs": [
    {
     "name": "stdout",
     "output_type": "stream",
     "text": [
      "[0.0113635  0.01827944 0.03257882 0.03563354 0.03449126]\n"
     ]
    }
   ],
   "source": [
    "print(cross_val_score(model, X, y, cv=5, )) # cv = number of folds being held out"
   ]
  },
  {
   "cell_type": "code",
   "execution_count": 363,
   "id": "33eba0ed",
   "metadata": {},
   "outputs": [],
   "source": [
    "model = []\n",
    "model.append(('Random Forest Regressor',RandomForestRegressor()))\n",
    "model.append(('Linear Regression',LinearRegression()))\n",
    "model.append(('Support Vector Regression',SVR()))"
   ]
  },
  {
   "cell_type": "code",
   "execution_count": 364,
   "id": "1592839e",
   "metadata": {},
   "outputs": [],
   "source": [
    "#classification\n",
    "results = []\n",
    "names = []\n",
    "for name, model in model:\n",
    "    result = cross_val_score(model, X,y)\n",
    "    results.append(result)\n",
    "    names.append(name)"
   ]
  },
  {
   "cell_type": "code",
   "execution_count": 365,
   "id": "1575585d",
   "metadata": {},
   "outputs": [
    {
     "data": {
      "text/plain": [
       "[array([-0.18594922, -0.16323586, -0.14027604, -0.16133718, -0.16703291]),\n",
       " array([0.0113635 , 0.01827944, 0.03257882, 0.03563354, 0.03449126]),\n",
       " array([-0.08237153, -0.09575254, -0.11096978, -0.06629118, -0.07388353])]"
      ]
     },
     "execution_count": 365,
     "metadata": {},
     "output_type": "execute_result"
    }
   ],
   "source": [
    "results"
   ]
  },
  {
   "cell_type": "code",
   "execution_count": 366,
   "id": "cf6e7040",
   "metadata": {},
   "outputs": [
    {
     "name": "stdout",
     "output_type": "stream",
     "text": [
      "Random Forest Regressor -0.16356624088689822\n",
      "Linear Regression 0.02646931214071997\n",
      "Support Vector Regression -0.0858537114525197\n"
     ]
    }
   ],
   "source": [
    "for i in range(len(names)):\n",
    "    print(names[i],results[i].mean())"
   ]
  },
  {
   "cell_type": "code",
   "execution_count": 367,
   "id": "a615ecdd",
   "metadata": {},
   "outputs": [
    {
     "name": "stdout",
     "output_type": "stream",
     "text": [
      "R Squared: 0.031\n",
      "RMSE: 0.405\n"
     ]
    }
   ],
   "source": [
    "#Make Predictions\n",
    "predictionsD1 = modelD1.predict(X_test)\n",
    "predRsquared = r2_score(y_test,predictions)\n",
    "rmse = sqrt(mean_squared_error(y_test, predictions))\n",
    "print('R Squared: %.3f' % predRsquared)\n",
    "print('RMSE: %.3f' % rmse)"
   ]
  },
  {
   "cell_type": "code",
   "execution_count": 368,
   "id": "31d95918",
   "metadata": {},
   "outputs": [
    {
     "data": {
      "image/png": "[encoded data removed]",
      "text/plain": [
       "<Figure size 432x288 with 1 Axes>"
      ]
     },
     "metadata": {
      "needs_background": "light"
     },
     "output_type": "display_data"
    }
   ],
   "source": [
    "plt.scatter(y_test, predictionsD1, color=['blue'], alpha = 0.5)\n",
    "plt.xlabel('Ground Truth')\n",
    "plt.ylabel('Predictions')\n",
    "plt.show();"
   ]
  },
  {
   "cell_type": "code",
   "execution_count": 369,
   "id": "66c132f7",
   "metadata": {},
   "outputs": [
    {
     "name": "stdout",
     "output_type": "stream",
     "text": [
      "R Squared: 0.031\n",
      "RMSE: 0.405\n"
     ]
    }
   ],
   "source": [
    "#Make Predictions\n",
    "predictionsD2 = modelD2.predict(X_test)\n",
    "predRsquared = r2_score(y_test,predictions)\n",
    "rmse = sqrt(mean_squared_error(y_test, predictions))\n",
    "print('R Squared: %.3f' % predRsquared)\n",
    "print('RMSE: %.3f' % rmse)"
   ]
  },
  {
   "cell_type": "code",
   "execution_count": 370,
   "id": "1cbbd8c0",
   "metadata": {},
   "outputs": [
    {
     "data": {
      "image/png": "[encoded data removed]",
      "text/plain": [
       "<Figure size 432x288 with 1 Axes>"
      ]
     },
     "metadata": {
      "needs_background": "light"
     },
     "output_type": "display_data"
    }
   ],
   "source": [
    "plt.scatter(y_test, predictionsD2, color=['blue'], alpha = 0.5)\n",
    "plt.xlabel('Ground Truth')\n",
    "plt.ylabel('Predictions')\n",
    "plt.show();"
   ]
  },
  {
   "cell_type": "code",
   "execution_count": null,
   "id": "971fe5bf",
   "metadata": {},
   "outputs": [],
   "source": []
  },
  {
   "cell_type": "markdown",
   "id": "a03bea4b",
   "metadata": {},
   "source": [
    "# Regression Models no Marriage"
   ]
  },
  {
   "cell_type": "code",
   "execution_count": 190,
   "id": "335a8e1f",
   "metadata": {},
   "outputs": [
    {
     "name": "stdout",
     "output_type": "stream",
     "text": [
      "Summary of feature sample\n"
     ]
    },
    {
     "data": {
      "text/html": [
       "<div>\n",
       "<style scoped>\n",
       "    .dataframe tbody tr th:only-of-type {\n",
       "        vertical-align: middle;\n",
       "    }\n",
       "\n",
       "    .dataframe tbody tr th {\n",
       "        vertical-align: top;\n",
       "    }\n",
       "\n",
       "    .dataframe thead th {\n",
       "        text-align: right;\n",
       "    }\n",
       "</style>\n",
       "<table border=\"1\" class=\"dataframe\">\n",
       "  <thead>\n",
       "    <tr style=\"text-align: right;\">\n",
       "      <th></th>\n",
       "      <th>LIMIT_BAL</th>\n",
       "      <th>AGE</th>\n",
       "      <th>SEX_female</th>\n",
       "      <th>SEX_male</th>\n",
       "      <th>EDUCATION_graduate school</th>\n",
       "      <th>EDUCATION_high school</th>\n",
       "      <th>EDUCATION_other</th>\n",
       "      <th>EDUCATION_university</th>\n",
       "    </tr>\n",
       "  </thead>\n",
       "  <tbody>\n",
       "    <tr>\n",
       "      <th>0</th>\n",
       "      <td>20000</td>\n",
       "      <td>24</td>\n",
       "      <td>1</td>\n",
       "      <td>0</td>\n",
       "      <td>0</td>\n",
       "      <td>0</td>\n",
       "      <td>0</td>\n",
       "      <td>1</td>\n",
       "    </tr>\n",
       "    <tr>\n",
       "      <th>1</th>\n",
       "      <td>120000</td>\n",
       "      <td>26</td>\n",
       "      <td>1</td>\n",
       "      <td>0</td>\n",
       "      <td>0</td>\n",
       "      <td>0</td>\n",
       "      <td>0</td>\n",
       "      <td>1</td>\n",
       "    </tr>\n",
       "    <tr>\n",
       "      <th>2</th>\n",
       "      <td>90000</td>\n",
       "      <td>34</td>\n",
       "      <td>1</td>\n",
       "      <td>0</td>\n",
       "      <td>0</td>\n",
       "      <td>0</td>\n",
       "      <td>0</td>\n",
       "      <td>1</td>\n",
       "    </tr>\n",
       "    <tr>\n",
       "      <th>3</th>\n",
       "      <td>50000</td>\n",
       "      <td>37</td>\n",
       "      <td>1</td>\n",
       "      <td>0</td>\n",
       "      <td>0</td>\n",
       "      <td>0</td>\n",
       "      <td>0</td>\n",
       "      <td>1</td>\n",
       "    </tr>\n",
       "    <tr>\n",
       "      <th>4</th>\n",
       "      <td>50000</td>\n",
       "      <td>57</td>\n",
       "      <td>0</td>\n",
       "      <td>1</td>\n",
       "      <td>0</td>\n",
       "      <td>0</td>\n",
       "      <td>0</td>\n",
       "      <td>1</td>\n",
       "    </tr>\n",
       "  </tbody>\n",
       "</table>\n",
       "</div>"
      ],
      "text/plain": [
       "   LIMIT_BAL  AGE  SEX_female  SEX_male  EDUCATION_graduate school  \\\n",
       "0      20000   24           1         0                          0   \n",
       "1     120000   26           1         0                          0   \n",
       "2      90000   34           1         0                          0   \n",
       "3      50000   37           1         0                          0   \n",
       "4      50000   57           0         1                          0   \n",
       "\n",
       "   EDUCATION_high school  EDUCATION_other  EDUCATION_university  \n",
       "0                      0                0                     1  \n",
       "1                      0                0                     1  \n",
       "2                      0                0                     1  \n",
       "3                      0                0                     1  \n",
       "4                      0                0                     1  "
      ]
     },
     "execution_count": 190,
     "metadata": {},
     "output_type": "execute_result"
    }
   ],
   "source": [
    "#features\n",
    "Xm = credit[['LIMIT_BAL', 'AGE','SEX_female',\n",
    "       'SEX_male', 'EDUCATION_graduate school', 'EDUCATION_high school',\n",
    "       'EDUCATION_other', 'EDUCATION_university',]]\n",
    "print('Summary of feature sample')\n",
    "Xm.head()"
   ]
  },
  {
   "cell_type": "code",
   "execution_count": 191,
   "id": "0db218d0",
   "metadata": {},
   "outputs": [],
   "source": [
    "ym= credit['default payment next month_default']"
   ]
  },
  {
   "cell_type": "code",
   "execution_count": 192,
   "id": "355cf9aa",
   "metadata": {},
   "outputs": [
    {
     "data": {
      "text/plain": [
       "0        1\n",
       "1        1\n",
       "2        0\n",
       "3        0\n",
       "4        0\n",
       "        ..\n",
       "29995    0\n",
       "29996    0\n",
       "29997    1\n",
       "29998    1\n",
       "29999    1\n",
       "Name: default payment next month_default, Length: 30000, dtype: uint8"
      ]
     },
     "execution_count": 192,
     "metadata": {},
     "output_type": "execute_result"
    }
   ],
   "source": [
    "ym"
   ]
  },
  {
   "cell_type": "code",
   "execution_count": 199,
   "id": "6a03adbb",
   "metadata": {},
   "outputs": [
    {
     "data": {
      "text/plain": [
       "0.02998070515265483"
      ]
     },
     "execution_count": 199,
     "metadata": {},
     "output_type": "execute_result"
    }
   ],
   "source": [
    "model = LinearRegression(n_jobs=10)\n",
    "#train test split\n",
    "X_train, X_test, y_train, y_test = train_test_split(Xm, ym,test_size = 0.3, random_state = 123)\n",
    "model.fit(X_train, y_train)\n",
    "model.score(X_test, y_test)"
   ]
  },
  {
   "cell_type": "code",
   "execution_count": 200,
   "id": "0b956cd8",
   "metadata": {},
   "outputs": [
    {
     "data": {
      "text/plain": [
       "-0.14413790992656805"
      ]
     },
     "execution_count": 200,
     "metadata": {},
     "output_type": "execute_result"
    }
   ],
   "source": [
    "model = RandomForestRegressor(n_jobs=10)\n",
    "#train test split\n",
    "X_train, X_test, y_train, y_test = train_test_split(Xm, ym,test_size = 0.3, random_state = 123)\n",
    "model.fit(X_train, y_train)\n",
    "model.score(X_test, y_test)"
   ]
  },
  {
   "cell_type": "code",
   "execution_count": 330,
   "id": "94c88527",
   "metadata": {},
   "outputs": [
    {
     "data": {
      "text/plain": [
       "-0.07981422982671371"
      ]
     },
     "execution_count": 330,
     "metadata": {},
     "output_type": "execute_result"
    }
   ],
   "source": [
    "model = SVR()\n",
    "X_train, X_test, y_train, y_test = train_test_split(Xm, ym,test_size = 0.3, random_state = 123)\n",
    "model.fit(X_train, y_train)\n",
    "regressor = SVR(kernel = 'rbf')\n",
    "regressor.fit(X_train, y_train)\n",
    "model.score(X_test, y_test)\n"
   ]
  },
  {
   "cell_type": "code",
   "execution_count": 202,
   "id": "0786ca24",
   "metadata": {},
   "outputs": [
    {
     "name": "stdout",
     "output_type": "stream",
     "text": [
      "[-0.08291121 -0.09527452 -0.11097913 -0.06634994 -0.07406612]\n"
     ]
    }
   ],
   "source": [
    "print(cross_val_score(model, Xm, ym, cv=5, )) # cv = number of folds being held out"
   ]
  },
  {
   "cell_type": "code",
   "execution_count": 207,
   "id": "23c30cc5",
   "metadata": {},
   "outputs": [],
   "source": [
    "algosClass = []\n",
    "algosClass.append(('Random Forest Regressor',RandomForestRegressor()))\n",
    "algosClass.append(('Linear Regression',LinearRegression()))\n",
    "algosClass.append(('Support Vector Regression',SVR()))"
   ]
  },
  {
   "cell_type": "code",
   "execution_count": 211,
   "id": "42448c5c",
   "metadata": {},
   "outputs": [
    {
     "data": {
      "text/plain": [
       "[array([-0.16507188, -0.13113617, -0.13001531, -0.13601351, -0.13328658]),\n",
       " array([0.01001985, 0.01648288, 0.03197712, 0.03503107, 0.03467344]),\n",
       " array([-0.08291121, -0.09527452, -0.11097913, -0.06634994, -0.07406612])]"
      ]
     },
     "execution_count": 211,
     "metadata": {},
     "output_type": "execute_result"
    }
   ],
   "source": [
    "results"
   ]
  },
  {
   "cell_type": "code",
   "execution_count": 209,
   "id": "eebc00b8",
   "metadata": {},
   "outputs": [],
   "source": [
    "#classification\n",
    "results = []\n",
    "names = []\n",
    "for name, model in model:\n",
    "    result = cross_val_score(model, Xm,ym)\n",
    "    results.append(result)\n",
    "    names.append(name)"
   ]
  },
  {
   "cell_type": "code",
   "execution_count": 210,
   "id": "238e2e26",
   "metadata": {},
   "outputs": [
    {
     "name": "stdout",
     "output_type": "stream",
     "text": [
      "Random Forest Regressor -0.13910468944587281\n",
      "Linear Regression 0.025636870345134156\n",
      "Support Vector Regression -0.08591618393502469\n"
     ]
    }
   ],
   "source": [
    "for i in range(len(names)):\n",
    "    print(names[i],results[i].mean())"
   ]
  },
  {
   "cell_type": "code",
   "execution_count": null,
   "id": "5ce7e856",
   "metadata": {},
   "outputs": [],
   "source": []
  },
  {
   "cell_type": "code",
   "execution_count": null,
   "id": "fbf5e3ed",
   "metadata": {},
   "outputs": [],
   "source": []
  },
  {
   "cell_type": "markdown",
   "id": "73968380",
   "metadata": {},
   "source": [
    "# Regression"
   ]
  },
  {
   "cell_type": "code",
   "execution_count": 239,
   "id": "3f110d36",
   "metadata": {},
   "outputs": [
    {
     "name": "stdout",
     "output_type": "stream",
     "text": [
      "Summary of feature sample\n"
     ]
    },
    {
     "data": {
      "text/html": [
       "<div>\n",
       "<style scoped>\n",
       "    .dataframe tbody tr th:only-of-type {\n",
       "        vertical-align: middle;\n",
       "    }\n",
       "\n",
       "    .dataframe tbody tr th {\n",
       "        vertical-align: top;\n",
       "    }\n",
       "\n",
       "    .dataframe thead th {\n",
       "        text-align: right;\n",
       "    }\n",
       "</style>\n",
       "<table border=\"1\" class=\"dataframe\">\n",
       "  <thead>\n",
       "    <tr style=\"text-align: right;\">\n",
       "      <th></th>\n",
       "      <th>MARRIAGE</th>\n",
       "      <th>AGE</th>\n",
       "      <th>SEX_female</th>\n",
       "      <th>SEX_male</th>\n",
       "      <th>EDUCATION_graduate school</th>\n",
       "      <th>EDUCATION_high school</th>\n",
       "      <th>EDUCATION_other</th>\n",
       "      <th>EDUCATION_university</th>\n",
       "      <th>default payment next month_default</th>\n",
       "    </tr>\n",
       "  </thead>\n",
       "  <tbody>\n",
       "    <tr>\n",
       "      <th>0</th>\n",
       "      <td>1</td>\n",
       "      <td>24</td>\n",
       "      <td>1</td>\n",
       "      <td>0</td>\n",
       "      <td>0</td>\n",
       "      <td>0</td>\n",
       "      <td>0</td>\n",
       "      <td>1</td>\n",
       "      <td>1</td>\n",
       "    </tr>\n",
       "    <tr>\n",
       "      <th>1</th>\n",
       "      <td>2</td>\n",
       "      <td>26</td>\n",
       "      <td>1</td>\n",
       "      <td>0</td>\n",
       "      <td>0</td>\n",
       "      <td>0</td>\n",
       "      <td>0</td>\n",
       "      <td>1</td>\n",
       "      <td>1</td>\n",
       "    </tr>\n",
       "    <tr>\n",
       "      <th>2</th>\n",
       "      <td>2</td>\n",
       "      <td>34</td>\n",
       "      <td>1</td>\n",
       "      <td>0</td>\n",
       "      <td>0</td>\n",
       "      <td>0</td>\n",
       "      <td>0</td>\n",
       "      <td>1</td>\n",
       "      <td>0</td>\n",
       "    </tr>\n",
       "    <tr>\n",
       "      <th>3</th>\n",
       "      <td>1</td>\n",
       "      <td>37</td>\n",
       "      <td>1</td>\n",
       "      <td>0</td>\n",
       "      <td>0</td>\n",
       "      <td>0</td>\n",
       "      <td>0</td>\n",
       "      <td>1</td>\n",
       "      <td>0</td>\n",
       "    </tr>\n",
       "    <tr>\n",
       "      <th>4</th>\n",
       "      <td>1</td>\n",
       "      <td>57</td>\n",
       "      <td>0</td>\n",
       "      <td>1</td>\n",
       "      <td>0</td>\n",
       "      <td>0</td>\n",
       "      <td>0</td>\n",
       "      <td>1</td>\n",
       "      <td>0</td>\n",
       "    </tr>\n",
       "  </tbody>\n",
       "</table>\n",
       "</div>"
      ],
      "text/plain": [
       "   MARRIAGE  AGE  SEX_female  SEX_male  EDUCATION_graduate school  \\\n",
       "0         1   24           1         0                          0   \n",
       "1         2   26           1         0                          0   \n",
       "2         2   34           1         0                          0   \n",
       "3         1   37           1         0                          0   \n",
       "4         1   57           0         1                          0   \n",
       "\n",
       "   EDUCATION_high school  EDUCATION_other  EDUCATION_university  \\\n",
       "0                      0                0                     1   \n",
       "1                      0                0                     1   \n",
       "2                      0                0                     1   \n",
       "3                      0                0                     1   \n",
       "4                      0                0                     1   \n",
       "\n",
       "   default payment next month_default  \n",
       "0                                   1  \n",
       "1                                   1  \n",
       "2                                   0  \n",
       "3                                   0  \n",
       "4                                   0  "
      ]
     },
     "execution_count": 239,
     "metadata": {},
     "output_type": "execute_result"
    }
   ],
   "source": [
    "#features\n",
    "Xl = credit[['MARRIAGE', 'AGE','SEX_female',\n",
    "       'SEX_male', 'EDUCATION_graduate school', 'EDUCATION_high school',\n",
    "       'EDUCATION_other', 'EDUCATION_university','default payment next month_default']]\n",
    "print('Summary of feature sample')\n",
    "Xl.head()"
   ]
  },
  {
   "cell_type": "code",
   "execution_count": 240,
   "id": "45cc8808",
   "metadata": {},
   "outputs": [
    {
     "name": "stdout",
     "output_type": "stream",
     "text": [
      "<class 'pandas.core.frame.DataFrame'>\n",
      "RangeIndex: 30000 entries, 0 to 29999\n",
      "Data columns (total 9 columns):\n",
      " #   Column                              Non-Null Count  Dtype\n",
      "---  ------                              --------------  -----\n",
      " 0   MARRIAGE                            30000 non-null  int64\n",
      " 1   AGE                                 30000 non-null  int64\n",
      " 2   SEX_female                          30000 non-null  uint8\n",
      " 3   SEX_male                            30000 non-null  uint8\n",
      " 4   EDUCATION_graduate school           30000 non-null  uint8\n",
      " 5   EDUCATION_high school               30000 non-null  uint8\n",
      " 6   EDUCATION_other                     30000 non-null  uint8\n",
      " 7   EDUCATION_university                30000 non-null  uint8\n",
      " 8   default payment next month_default  30000 non-null  uint8\n",
      "dtypes: int64(2), uint8(7)\n",
      "memory usage: 674.0 KB\n"
     ]
    }
   ],
   "source": [
    "Xl.info()"
   ]
  },
  {
   "cell_type": "code",
   "execution_count": 241,
   "id": "42121baa",
   "metadata": {},
   "outputs": [],
   "source": [
    "yl= credit[  'LIMIT_BAL']"
   ]
  },
  {
   "cell_type": "code",
   "execution_count": 242,
   "id": "4699140d",
   "metadata": {},
   "outputs": [
    {
     "data": {
      "text/plain": [
       "0         20000\n",
       "1        120000\n",
       "2         90000\n",
       "3         50000\n",
       "4         50000\n",
       "          ...  \n",
       "29995    220000\n",
       "29996    150000\n",
       "29997     30000\n",
       "29998     80000\n",
       "29999     50000\n",
       "Name: LIMIT_BAL, Length: 30000, dtype: int64"
      ]
     },
     "execution_count": 242,
     "metadata": {},
     "output_type": "execute_result"
    }
   ],
   "source": [
    "yl"
   ]
  },
  {
   "cell_type": "code",
   "execution_count": 273,
   "id": "73c6a507",
   "metadata": {},
   "outputs": [
    {
     "data": {
      "text/plain": [
       "0.1269069031228951"
      ]
     },
     "execution_count": 273,
     "metadata": {},
     "output_type": "execute_result"
    }
   ],
   "source": [
    "model1 = LinearRegression(n_jobs=10)\n",
    "#train test split\n",
    "x_train, x_test, y_train, y_test = train_test_split(Xl, yl,test_size = 0.3, random_state = 123)\n",
    "model1.fit(x_train, y_train)\n",
    "model1.score(x_test, y_test)\n"
   ]
  },
  {
   "cell_type": "code",
   "execution_count": 280,
   "id": "a41672e0",
   "metadata": {},
   "outputs": [
    {
     "data": {
      "text/plain": [
       "0.1269069031228951"
      ]
     },
     "execution_count": 280,
     "metadata": {},
     "output_type": "execute_result"
    }
   ],
   "source": [
    "model2 = RandomForestRegressor(n_jobs=10)\n",
    "#train test split\n",
    "x_train, x_test, y_train, y_test = train_test_split(Xl, yl,test_size = 0.3, random_state = 123)\n",
    "model2.fit(x_train, y_train)\n",
    "model.score(x_test, y_test)\n"
   ]
  },
  {
   "cell_type": "code",
   "execution_count": 287,
   "id": "ed0488bf",
   "metadata": {},
   "outputs": [
    {
     "data": {
      "text/plain": [
       "0.1269069031228951"
      ]
     },
     "execution_count": 287,
     "metadata": {},
     "output_type": "execute_result"
    }
   ],
   "source": [
    "model3 = SVR()\n",
    "X_train, X_test, y_train, y_test = train_test_split(Xl, yl,test_size = 0.3, random_state = 123)\n",
    "model3.fit(X_train, y_train)\n",
    "regressor = SVR(kernel = 'rbf')\n",
    "regressor.fit(X_train, y_train)\n",
    "model.score(X_test, y_test)\n"
   ]
  },
  {
   "cell_type": "code",
   "execution_count": 261,
   "id": "6db5aa3d",
   "metadata": {},
   "outputs": [
    {
     "name": "stdout",
     "output_type": "stream",
     "text": [
      "[-0.03643217 -0.04079063 -0.00228505 -0.06777305 -0.07181147]\n"
     ]
    }
   ],
   "source": [
    "print(cross_val_score(model, Xl, yl, cv=5, )) \n",
    "#this gives you r2 because its a smart function and we run regression model# cv = number of folds being held out "
   ]
  },
  {
   "cell_type": "code",
   "execution_count": 263,
   "id": "fd26f569",
   "metadata": {},
   "outputs": [],
   "source": [
    "model = []\n",
    "model.append(('Random Forest Regressor',RandomForestRegressor()))\n",
    "model.append(('Linear Regression',LinearRegression()))\n",
    "model.append(('Support Vector Regression',SVR()))"
   ]
  },
  {
   "cell_type": "code",
   "execution_count": 257,
   "id": "8c238df8",
   "metadata": {},
   "outputs": [],
   "source": [
    "algosClass = []\n",
    "algosClass.append(('Random Forest Regressor',RandomForestRegressor()))\n",
    "algosClass.append(('Linear Regression',LinearRegression()))\n",
    "algosClass.append(('Support Vector Regression',SVR()))"
   ]
  },
  {
   "cell_type": "code",
   "execution_count": 264,
   "id": "5ac6d120",
   "metadata": {},
   "outputs": [],
   "source": [
    "#classification\n",
    "results = []\n",
    "names = []\n",
    "for name, model in model:\n",
    "    result = cross_val_score(model, Xl,yl)\n",
    "    results.append(result)\n",
    "    names.append(name)"
   ]
  },
  {
   "cell_type": "code",
   "execution_count": 265,
   "id": "d39dbdfa",
   "metadata": {},
   "outputs": [
    {
     "data": {
      "text/plain": [
       "[array([0.18733261, 0.18857597, 0.18239726, 0.16717111, 0.16578779]),\n",
       " array([0.1294874 , 0.12977424, 0.15153513, 0.11921307, 0.11854117]),\n",
       " array([-0.03643217, -0.04079063, -0.00228505, -0.06777305, -0.07181147])]"
      ]
     },
     "execution_count": 265,
     "metadata": {},
     "output_type": "execute_result"
    }
   ],
   "source": [
    "results"
   ]
  },
  {
   "cell_type": "code",
   "execution_count": 266,
   "id": "56782786",
   "metadata": {},
   "outputs": [
    {
     "name": "stdout",
     "output_type": "stream",
     "text": [
      "Random Forest Regressor 0.1782529461094224\n",
      "Linear Regression 0.12971019927246583\n",
      "Support Vector Regression -0.04381847352086883\n"
     ]
    }
   ],
   "source": [
    "for i in range(len(names)):\n",
    "    print(names[i],results[i].mean())"
   ]
  },
  {
   "cell_type": "code",
   "execution_count": 274,
   "id": "d9ff6b4f",
   "metadata": {},
   "outputs": [
    {
     "name": "stdout",
     "output_type": "stream",
     "text": [
      "R Squared: 0.127\n",
      "RMSE: 120233.207\n"
     ]
    }
   ],
   "source": [
    "#Make Predictions\n",
    "predictions = model1.predict(X_test)\n",
    "predRsquared = r2_score(y_test,predictions)\n",
    "rmse = sqrt(mean_squared_error(y_test, predictions))\n",
    "print('R Squared: %.3f' % predRsquared)\n",
    "print('RMSE: %.3f' % rmse)"
   ]
  },
  {
   "cell_type": "code",
   "execution_count": 276,
   "id": "6e45b636",
   "metadata": {},
   "outputs": [
    {
     "data": {
      "image/png": "[encoded data removed]",
      "text/plain": [
       "<Figure size 432x288 with 1 Axes>"
      ]
     },
     "metadata": {
      "needs_background": "light"
     },
     "output_type": "display_data"
    }
   ],
   "source": [
    "plt.scatter(y_test, predictions, color=['blue'], alpha = 0.5)\n",
    "plt.xlabel('Ground Truth')\n",
    "plt.ylabel('Predictions')\n",
    "plt.show();"
   ]
  },
  {
   "cell_type": "code",
   "execution_count": 282,
   "id": "fa0850ba",
   "metadata": {},
   "outputs": [
    {
     "name": "stdout",
     "output_type": "stream",
     "text": [
      "R Squared: 0.176\n",
      "RMSE: 116832.694\n"
     ]
    }
   ],
   "source": [
    "#Make Predictions\n",
    "predictions2 = model2.predict(X_test)\n",
    "predRsquared = r2_score(y_test,predictions)\n",
    "rmse = sqrt(mean_squared_error(y_test, predictions))\n",
    "print('R Squared: %.3f' % predRsquared)\n",
    "print('RMSE: %.3f' % rmse)"
   ]
  },
  {
   "cell_type": "code",
   "execution_count": 286,
   "id": "05140be3",
   "metadata": {},
   "outputs": [
    {
     "data": {
      "image/png": "[encoded data removed]",
      "text/plain": [
       "<Figure size 432x288 with 1 Axes>"
      ]
     },
     "metadata": {
      "needs_background": "light"
     },
     "output_type": "display_data"
    }
   ],
   "source": [
    "plt.scatter(y_test, predictions2, color=['blue'], alpha = 0.5)\n",
    "plt.xlabel('Ground Truth')\n",
    "plt.ylabel('Predictions')\n",
    "plt.show();"
   ]
  },
  {
   "cell_type": "code",
   "execution_count": 288,
   "id": "f514cc42",
   "metadata": {},
   "outputs": [
    {
     "name": "stdout",
     "output_type": "stream",
     "text": [
      "R Squared: 0.176\n",
      "RMSE: 116832.694\n"
     ]
    }
   ],
   "source": [
    "#Make Predictions\n",
    "predictions3 = model3.predict(X_test)\n",
    "predRsquared = r2_score(y_test,predictions)\n",
    "rmse = sqrt(mean_squared_error(y_test, predictions))\n",
    "print('R Squared: %.3f' % predRsquared)\n",
    "print('RMSE: %.3f' % rmse)"
   ]
  },
  {
   "cell_type": "code",
   "execution_count": 289,
   "id": "b55c2ada",
   "metadata": {},
   "outputs": [
    {
     "data": {
      "image/png": "[encoded data removed]",
      "text/plain": [
       "<Figure size 432x288 with 1 Axes>"
      ]
     },
     "metadata": {
      "needs_background": "light"
     },
     "output_type": "display_data"
    }
   ],
   "source": [
    "plt.scatter(y_test, predictions3, color=['green'], alpha = 0.5)\n",
    "plt.xlabel('Ground Truth')\n",
    "plt.ylabel('Predictions')\n",
    "plt.show();"
   ]
  }
 ],
 "metadata": {
  "kernelspec": {
   "display_name": "Python 3",
   "language": "python",
   "name": "python3"
  },
  "language_info": {
   "codemirror_mode": {
    "name": "ipython",
    "version": 3
   },
   "file_extension": ".py",
   "mimetype": "text/x-python",
   "name": "python",
   "nbconvert_exporter": "python",
   "pygments_lexer": "ipython3",
   "version": "3.9.2"
  }
 },
 "nbformat": 4,
 "nbformat_minor": 5
}
